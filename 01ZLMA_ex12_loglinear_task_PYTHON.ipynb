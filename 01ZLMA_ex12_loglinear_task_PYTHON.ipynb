{
  "nbformat": 4,
  "nbformat_minor": 0,
  "metadata": {
    "colab": {
      "provenance": [],
      "include_colab_link": true
    },
    "kernelspec": {
      "name": "python3",
      "display_name": "Python 3"
    },
    "language_info": {
      "name": "python"
    },
    "gpuClass": "standard"
  },
  "cells": [
    {
      "cell_type": "markdown",
      "metadata": {
        "id": "view-in-github",
        "colab_type": "text"
      },
      "source": [
        "<a href=\"https://colab.research.google.com/github/aleksejalex/special-octo-engine/blob/main/01ZLMA_ex12_loglinear_task_PYTHON.ipynb\" target=\"_parent\"><img src=\"https://colab.research.google.com/assets/colab-badge.svg\" alt=\"Open In Colab\"/></a>"
      ]
    },
    {
      "cell_type": "markdown",
      "metadata": {
        "id": "x-i6MbNFm4Zt"
      },
      "source": [
        "# 01ZLMA - Exercise 12\n",
        "Exercise 12 of the course 01ZLMA. \n",
        "\n",
        "## Contents\n",
        "\n",
        "* Log-linear models with Poisson/count data\n",
        " ---\n"
      ]
    },
    {
      "cell_type": "code",
      "source": [
        "drugs = read.table(\"https://raw.githubusercontent.com/francji1/01ZLMA/main/data/drugs.txt\", header = TRUE, sep = \";\", dec = \".\")\n",
        "drugs"
      ],
      "metadata": {
        "id": "4HrxYqIWR_z3"
      },
      "execution_count": null,
      "outputs": []
    },
    {
      "cell_type": "markdown",
      "source": [
        "Tasks:\n",
        "\n",
        "* Convert the data to the appropriate format and data type to use the loglinear glm model:\n",
        "\n",
        "\n",
        "* Draw interactions between individual drug addictions.\n",
        "\n",
        "\n",
        "* Create models with mutually independent variables, pairwise dependent and saturated model.\n",
        "\n",
        "\n",
        "* Is the model with independent variables of sufficient quality? What is the chance that the person in the study will use marijuana? What is the probability that the person in the study will drink alcohol? List the appropriate test to confirm the quality of the model.\n",
        "\n",
        "\n",
        "* Test a model where all variables are mutually dependent and the conditional ratios of the sum of two variables do not depend on the third variable.\n",
        "What is the ratio of smoking for turkey among alcoholics than abstinent?\n",
        "Answer: Among alcoholics, there is a chance that smoking will be X times bigger/smaller.\n",
        "\n",
        "\n",
        "* Is the model with mutual interactions of sufficient quality, or is there a need to switch to a saturated model?\n",
        "\n",
        "\n",
        "* For all models, provide predictions of expected dependence counts and residual virgin statistics.\n",
        "\n",
        "\n",
        "* Among abstinents, is there less of a chance that smoking marijuana will also be smoking cigarettes or vice versa?"
      ],
      "metadata": {
        "id": "nZKd13VnaCt_"
      }
    },
    {
      "cell_type": "code",
      "source": [
        "# importy balicku\n",
        "import inspect\n",
        "import numpy as np\n",
        "import scipy as scp\n",
        "import pandas as pd\n",
        "import seaborn as sbn\n",
        "import csv\n",
        "import matplotlib as mpt\n",
        "import requests\n",
        "import statsmodels\n",
        "import statsmodels.api as sm\n",
        "import statsmodels.formula.api as smf\n",
        "from matplotlib import pyplot as plt\n",
        "\n",
        "\n",
        "\n",
        "def retrieve_name(var):\n",
        "    \"vrati nazev promenne jako string\"\n",
        "    callers_local_vars = inspect.currentframe().f_back.f_locals.items()\n",
        "    return [var_name for var_name, var_val in callers_local_vars if var_val is var]\n",
        "\n",
        "examplevarr = 4\n",
        "print(examplevarr)\n",
        "print(retrieve_name(examplevarr))\n",
        "\n",
        "def gauss(x, mi, sigma2):\n",
        "    \"hustota normalniho rozdeleni. x je bud cislo nebo np.array\"\n",
        "    return (1/(np.sqrt(2*np.pi*sigma2)) * np.exp (-  ( (x-mi)**2 ) / (2*sigma2) ) )\n"
      ],
      "metadata": {
        "id": "Kj4CEtyyR_2Z",
        "colab": {
          "base_uri": "https://localhost:8080/"
        },
        "outputId": "f0757fb0-8991-464c-c6d7-38c696bb87de"
      },
      "execution_count": 1,
      "outputs": [
        {
          "output_type": "stream",
          "name": "stdout",
          "text": [
            "4\n",
            "['examplevarr']\n"
          ]
        }
      ]
    },
    {
      "cell_type": "code",
      "source": [
        "# additional settings for plotting images:\n",
        "#plt.rcParams.update({\"figure.dpi\": 130})   # increase DPI, default = 96\n",
        "%config InlineBackend.figure_format = \"svg\"  # every plot (matplotlib's or seaborn's) must be a SVG image"
      ],
      "metadata": {
        "id": "OkYLbe3_vEPH"
      },
      "execution_count": 46,
      "outputs": []
    },
    {
      "cell_type": "code",
      "source": [
        "imported_data = pd.read_csv(\"https://raw.githubusercontent.com/francji1/01ZLMA/main/data/drugs.txt\", delimiter=\";\")"
      ],
      "metadata": {
        "id": "xg3YbdVWameC"
      },
      "execution_count": 4,
      "outputs": []
    },
    {
      "cell_type": "code",
      "source": [
        "imported_data"
      ],
      "metadata": {
        "colab": {
          "base_uri": "https://localhost:8080/",
          "height": 300
        },
        "id": "V3yyMqcklXh1",
        "outputId": "0f42fa89-f2dd-4362-fe5d-298654ce2145"
      },
      "execution_count": 5,
      "outputs": [
        {
          "output_type": "execute_result",
          "data": {
            "text/plain": [
              "  alcohol cigarettes marijuana  count\n",
              "0     yes        yes       yes    911\n",
              "1     yes        yes        no    538\n",
              "2     yes         no       yes     44\n",
              "3     yes         no        no    456\n",
              "4      no        yes       yes      3\n",
              "5      no        yes        no     43\n",
              "6      no         no       yes      2\n",
              "7      no         no        no    279"
            ],
            "text/html": [
              "\n",
              "  <div id=\"df-7c28aaa8-7842-4320-8dc4-4b5b2683f14a\">\n",
              "    <div class=\"colab-df-container\">\n",
              "      <div>\n",
              "<style scoped>\n",
              "    .dataframe tbody tr th:only-of-type {\n",
              "        vertical-align: middle;\n",
              "    }\n",
              "\n",
              "    .dataframe tbody tr th {\n",
              "        vertical-align: top;\n",
              "    }\n",
              "\n",
              "    .dataframe thead th {\n",
              "        text-align: right;\n",
              "    }\n",
              "</style>\n",
              "<table border=\"1\" class=\"dataframe\">\n",
              "  <thead>\n",
              "    <tr style=\"text-align: right;\">\n",
              "      <th></th>\n",
              "      <th>alcohol</th>\n",
              "      <th>cigarettes</th>\n",
              "      <th>marijuana</th>\n",
              "      <th>count</th>\n",
              "    </tr>\n",
              "  </thead>\n",
              "  <tbody>\n",
              "    <tr>\n",
              "      <th>0</th>\n",
              "      <td>yes</td>\n",
              "      <td>yes</td>\n",
              "      <td>yes</td>\n",
              "      <td>911</td>\n",
              "    </tr>\n",
              "    <tr>\n",
              "      <th>1</th>\n",
              "      <td>yes</td>\n",
              "      <td>yes</td>\n",
              "      <td>no</td>\n",
              "      <td>538</td>\n",
              "    </tr>\n",
              "    <tr>\n",
              "      <th>2</th>\n",
              "      <td>yes</td>\n",
              "      <td>no</td>\n",
              "      <td>yes</td>\n",
              "      <td>44</td>\n",
              "    </tr>\n",
              "    <tr>\n",
              "      <th>3</th>\n",
              "      <td>yes</td>\n",
              "      <td>no</td>\n",
              "      <td>no</td>\n",
              "      <td>456</td>\n",
              "    </tr>\n",
              "    <tr>\n",
              "      <th>4</th>\n",
              "      <td>no</td>\n",
              "      <td>yes</td>\n",
              "      <td>yes</td>\n",
              "      <td>3</td>\n",
              "    </tr>\n",
              "    <tr>\n",
              "      <th>5</th>\n",
              "      <td>no</td>\n",
              "      <td>yes</td>\n",
              "      <td>no</td>\n",
              "      <td>43</td>\n",
              "    </tr>\n",
              "    <tr>\n",
              "      <th>6</th>\n",
              "      <td>no</td>\n",
              "      <td>no</td>\n",
              "      <td>yes</td>\n",
              "      <td>2</td>\n",
              "    </tr>\n",
              "    <tr>\n",
              "      <th>7</th>\n",
              "      <td>no</td>\n",
              "      <td>no</td>\n",
              "      <td>no</td>\n",
              "      <td>279</td>\n",
              "    </tr>\n",
              "  </tbody>\n",
              "</table>\n",
              "</div>\n",
              "      <button class=\"colab-df-convert\" onclick=\"convertToInteractive('df-7c28aaa8-7842-4320-8dc4-4b5b2683f14a')\"\n",
              "              title=\"Convert this dataframe to an interactive table.\"\n",
              "              style=\"display:none;\">\n",
              "        \n",
              "  <svg xmlns=\"http://www.w3.org/2000/svg\" height=\"24px\"viewBox=\"0 0 24 24\"\n",
              "       width=\"24px\">\n",
              "    <path d=\"M0 0h24v24H0V0z\" fill=\"none\"/>\n",
              "    <path d=\"M18.56 5.44l.94 2.06.94-2.06 2.06-.94-2.06-.94-.94-2.06-.94 2.06-2.06.94zm-11 1L8.5 8.5l.94-2.06 2.06-.94-2.06-.94L8.5 2.5l-.94 2.06-2.06.94zm10 10l.94 2.06.94-2.06 2.06-.94-2.06-.94-.94-2.06-.94 2.06-2.06.94z\"/><path d=\"M17.41 7.96l-1.37-1.37c-.4-.4-.92-.59-1.43-.59-.52 0-1.04.2-1.43.59L10.3 9.45l-7.72 7.72c-.78.78-.78 2.05 0 2.83L4 21.41c.39.39.9.59 1.41.59.51 0 1.02-.2 1.41-.59l7.78-7.78 2.81-2.81c.8-.78.8-2.07 0-2.86zM5.41 20L4 18.59l7.72-7.72 1.47 1.35L5.41 20z\"/>\n",
              "  </svg>\n",
              "      </button>\n",
              "      \n",
              "  <style>\n",
              "    .colab-df-container {\n",
              "      display:flex;\n",
              "      flex-wrap:wrap;\n",
              "      gap: 12px;\n",
              "    }\n",
              "\n",
              "    .colab-df-convert {\n",
              "      background-color: #E8F0FE;\n",
              "      border: none;\n",
              "      border-radius: 50%;\n",
              "      cursor: pointer;\n",
              "      display: none;\n",
              "      fill: #1967D2;\n",
              "      height: 32px;\n",
              "      padding: 0 0 0 0;\n",
              "      width: 32px;\n",
              "    }\n",
              "\n",
              "    .colab-df-convert:hover {\n",
              "      background-color: #E2EBFA;\n",
              "      box-shadow: 0px 1px 2px rgba(60, 64, 67, 0.3), 0px 1px 3px 1px rgba(60, 64, 67, 0.15);\n",
              "      fill: #174EA6;\n",
              "    }\n",
              "\n",
              "    [theme=dark] .colab-df-convert {\n",
              "      background-color: #3B4455;\n",
              "      fill: #D2E3FC;\n",
              "    }\n",
              "\n",
              "    [theme=dark] .colab-df-convert:hover {\n",
              "      background-color: #434B5C;\n",
              "      box-shadow: 0px 1px 3px 1px rgba(0, 0, 0, 0.15);\n",
              "      filter: drop-shadow(0px 1px 2px rgba(0, 0, 0, 0.3));\n",
              "      fill: #FFFFFF;\n",
              "    }\n",
              "  </style>\n",
              "\n",
              "      <script>\n",
              "        const buttonEl =\n",
              "          document.querySelector('#df-7c28aaa8-7842-4320-8dc4-4b5b2683f14a button.colab-df-convert');\n",
              "        buttonEl.style.display =\n",
              "          google.colab.kernel.accessAllowed ? 'block' : 'none';\n",
              "\n",
              "        async function convertToInteractive(key) {\n",
              "          const element = document.querySelector('#df-7c28aaa8-7842-4320-8dc4-4b5b2683f14a');\n",
              "          const dataTable =\n",
              "            await google.colab.kernel.invokeFunction('convertToInteractive',\n",
              "                                                     [key], {});\n",
              "          if (!dataTable) return;\n",
              "\n",
              "          const docLinkHtml = 'Like what you see? Visit the ' +\n",
              "            '<a target=\"_blank\" href=https://colab.research.google.com/notebooks/data_table.ipynb>data table notebook</a>'\n",
              "            + ' to learn more about interactive tables.';\n",
              "          element.innerHTML = '';\n",
              "          dataTable['output_type'] = 'display_data';\n",
              "          await google.colab.output.renderOutput(dataTable, element);\n",
              "          const docLink = document.createElement('div');\n",
              "          docLink.innerHTML = docLinkHtml;\n",
              "          element.appendChild(docLink);\n",
              "        }\n",
              "      </script>\n",
              "    </div>\n",
              "  </div>\n",
              "  "
            ]
          },
          "metadata": {},
          "execution_count": 5
        }
      ]
    },
    {
      "cell_type": "code",
      "source": [
        "imported_data['alcohol'] = pd.factorize(imported_data['alcohol'])[0] # python faktorizuje tak, ze pro 'yes' vrati 0 a pro 'no' 1, proto opravime:\n",
        "imported_data['alcohol'] = np.abs(imported_data['alcohol'] - 1)\n",
        "imported_data['cigarettes'] = pd.factorize(imported_data['cigarettes'])[0]\n",
        "imported_data['alcohol'] = np.abs(imported_data['alcohol'] - 1)\n",
        "imported_data['marijuana'] = pd.factorize(imported_data['marijuana'])[0]\n",
        "imported_data['alcohol'] = np.abs(imported_data['alcohol'] - 1)"
      ],
      "metadata": {
        "id": "xBbrYmuZnIyM"
      },
      "execution_count": 40,
      "outputs": []
    },
    {
      "cell_type": "code",
      "source": [
        "imported_data"
      ],
      "metadata": {
        "colab": {
          "base_uri": "https://localhost:8080/",
          "height": 300
        },
        "id": "pD255CcinPZX",
        "outputId": "32716926-7e61-4568-9d93-54dd964adfb7"
      },
      "execution_count": 41,
      "outputs": [
        {
          "output_type": "execute_result",
          "data": {
            "text/plain": [
              "   alcohol  cigarettes  marijuana  count\n",
              "0        1           0          0    911\n",
              "1        1           0          1    538\n",
              "2        1           1          0     44\n",
              "3        1           1          1    456\n",
              "4        0           0          0      3\n",
              "5        0           0          1     43\n",
              "6        0           1          0      2\n",
              "7        0           1          1    279"
            ],
            "text/html": [
              "\n",
              "  <div id=\"df-02df6291-14d9-49b7-b867-cc934b93a4f4\">\n",
              "    <div class=\"colab-df-container\">\n",
              "      <div>\n",
              "<style scoped>\n",
              "    .dataframe tbody tr th:only-of-type {\n",
              "        vertical-align: middle;\n",
              "    }\n",
              "\n",
              "    .dataframe tbody tr th {\n",
              "        vertical-align: top;\n",
              "    }\n",
              "\n",
              "    .dataframe thead th {\n",
              "        text-align: right;\n",
              "    }\n",
              "</style>\n",
              "<table border=\"1\" class=\"dataframe\">\n",
              "  <thead>\n",
              "    <tr style=\"text-align: right;\">\n",
              "      <th></th>\n",
              "      <th>alcohol</th>\n",
              "      <th>cigarettes</th>\n",
              "      <th>marijuana</th>\n",
              "      <th>count</th>\n",
              "    </tr>\n",
              "  </thead>\n",
              "  <tbody>\n",
              "    <tr>\n",
              "      <th>0</th>\n",
              "      <td>1</td>\n",
              "      <td>0</td>\n",
              "      <td>0</td>\n",
              "      <td>911</td>\n",
              "    </tr>\n",
              "    <tr>\n",
              "      <th>1</th>\n",
              "      <td>1</td>\n",
              "      <td>0</td>\n",
              "      <td>1</td>\n",
              "      <td>538</td>\n",
              "    </tr>\n",
              "    <tr>\n",
              "      <th>2</th>\n",
              "      <td>1</td>\n",
              "      <td>1</td>\n",
              "      <td>0</td>\n",
              "      <td>44</td>\n",
              "    </tr>\n",
              "    <tr>\n",
              "      <th>3</th>\n",
              "      <td>1</td>\n",
              "      <td>1</td>\n",
              "      <td>1</td>\n",
              "      <td>456</td>\n",
              "    </tr>\n",
              "    <tr>\n",
              "      <th>4</th>\n",
              "      <td>0</td>\n",
              "      <td>0</td>\n",
              "      <td>0</td>\n",
              "      <td>3</td>\n",
              "    </tr>\n",
              "    <tr>\n",
              "      <th>5</th>\n",
              "      <td>0</td>\n",
              "      <td>0</td>\n",
              "      <td>1</td>\n",
              "      <td>43</td>\n",
              "    </tr>\n",
              "    <tr>\n",
              "      <th>6</th>\n",
              "      <td>0</td>\n",
              "      <td>1</td>\n",
              "      <td>0</td>\n",
              "      <td>2</td>\n",
              "    </tr>\n",
              "    <tr>\n",
              "      <th>7</th>\n",
              "      <td>0</td>\n",
              "      <td>1</td>\n",
              "      <td>1</td>\n",
              "      <td>279</td>\n",
              "    </tr>\n",
              "  </tbody>\n",
              "</table>\n",
              "</div>\n",
              "      <button class=\"colab-df-convert\" onclick=\"convertToInteractive('df-02df6291-14d9-49b7-b867-cc934b93a4f4')\"\n",
              "              title=\"Convert this dataframe to an interactive table.\"\n",
              "              style=\"display:none;\">\n",
              "        \n",
              "  <svg xmlns=\"http://www.w3.org/2000/svg\" height=\"24px\"viewBox=\"0 0 24 24\"\n",
              "       width=\"24px\">\n",
              "    <path d=\"M0 0h24v24H0V0z\" fill=\"none\"/>\n",
              "    <path d=\"M18.56 5.44l.94 2.06.94-2.06 2.06-.94-2.06-.94-.94-2.06-.94 2.06-2.06.94zm-11 1L8.5 8.5l.94-2.06 2.06-.94-2.06-.94L8.5 2.5l-.94 2.06-2.06.94zm10 10l.94 2.06.94-2.06 2.06-.94-2.06-.94-.94-2.06-.94 2.06-2.06.94z\"/><path d=\"M17.41 7.96l-1.37-1.37c-.4-.4-.92-.59-1.43-.59-.52 0-1.04.2-1.43.59L10.3 9.45l-7.72 7.72c-.78.78-.78 2.05 0 2.83L4 21.41c.39.39.9.59 1.41.59.51 0 1.02-.2 1.41-.59l7.78-7.78 2.81-2.81c.8-.78.8-2.07 0-2.86zM5.41 20L4 18.59l7.72-7.72 1.47 1.35L5.41 20z\"/>\n",
              "  </svg>\n",
              "      </button>\n",
              "      \n",
              "  <style>\n",
              "    .colab-df-container {\n",
              "      display:flex;\n",
              "      flex-wrap:wrap;\n",
              "      gap: 12px;\n",
              "    }\n",
              "\n",
              "    .colab-df-convert {\n",
              "      background-color: #E8F0FE;\n",
              "      border: none;\n",
              "      border-radius: 50%;\n",
              "      cursor: pointer;\n",
              "      display: none;\n",
              "      fill: #1967D2;\n",
              "      height: 32px;\n",
              "      padding: 0 0 0 0;\n",
              "      width: 32px;\n",
              "    }\n",
              "\n",
              "    .colab-df-convert:hover {\n",
              "      background-color: #E2EBFA;\n",
              "      box-shadow: 0px 1px 2px rgba(60, 64, 67, 0.3), 0px 1px 3px 1px rgba(60, 64, 67, 0.15);\n",
              "      fill: #174EA6;\n",
              "    }\n",
              "\n",
              "    [theme=dark] .colab-df-convert {\n",
              "      background-color: #3B4455;\n",
              "      fill: #D2E3FC;\n",
              "    }\n",
              "\n",
              "    [theme=dark] .colab-df-convert:hover {\n",
              "      background-color: #434B5C;\n",
              "      box-shadow: 0px 1px 3px 1px rgba(0, 0, 0, 0.15);\n",
              "      filter: drop-shadow(0px 1px 2px rgba(0, 0, 0, 0.3));\n",
              "      fill: #FFFFFF;\n",
              "    }\n",
              "  </style>\n",
              "\n",
              "      <script>\n",
              "        const buttonEl =\n",
              "          document.querySelector('#df-02df6291-14d9-49b7-b867-cc934b93a4f4 button.colab-df-convert');\n",
              "        buttonEl.style.display =\n",
              "          google.colab.kernel.accessAllowed ? 'block' : 'none';\n",
              "\n",
              "        async function convertToInteractive(key) {\n",
              "          const element = document.querySelector('#df-02df6291-14d9-49b7-b867-cc934b93a4f4');\n",
              "          const dataTable =\n",
              "            await google.colab.kernel.invokeFunction('convertToInteractive',\n",
              "                                                     [key], {});\n",
              "          if (!dataTable) return;\n",
              "\n",
              "          const docLinkHtml = 'Like what you see? Visit the ' +\n",
              "            '<a target=\"_blank\" href=https://colab.research.google.com/notebooks/data_table.ipynb>data table notebook</a>'\n",
              "            + ' to learn more about interactive tables.';\n",
              "          element.innerHTML = '';\n",
              "          dataTable['output_type'] = 'display_data';\n",
              "          await google.colab.output.renderOutput(dataTable, element);\n",
              "          const docLink = document.createElement('div');\n",
              "          docLink.innerHTML = docLinkHtml;\n",
              "          element.appendChild(docLink);\n",
              "        }\n",
              "      </script>\n",
              "    </div>\n",
              "  </div>\n",
              "  "
            ]
          },
          "metadata": {},
          "execution_count": 41
        }
      ]
    },
    {
      "cell_type": "markdown",
      "source": [
        "## interaction plot"
      ],
      "metadata": {
        "id": "yWE4banTlcqK"
      }
    },
    {
      "cell_type": "code",
      "source": [
        "# Create an interaction plot using seaborn\n",
        "# sbn.catplot(x='Factor1', y='Response', hue='Factor2', data=df, kind='point')"
      ],
      "metadata": {
        "id": "wlLWp71plXd3"
      },
      "execution_count": null,
      "outputs": []
    },
    {
      "cell_type": "code",
      "source": [
        "# Create an interaction plot using seaborn\n",
        "sbn.catplot(x='alcohol', y='count', hue='cigarettes', data=imported_data, kind='point')"
      ],
      "metadata": {
        "colab": {
          "base_uri": "https://localhost:8080/",
          "height": 524
        },
        "id": "f2-0DCQKmVL5",
        "outputId": "e79f3509-1c62-447c-8880-e7e71b90aee9"
      },
      "execution_count": 17,
      "outputs": [
        {
          "output_type": "execute_result",
          "data": {
            "text/plain": [
              "<seaborn.axisgrid.FacetGrid at 0x7f8a98dec070>"
            ]
          },
          "metadata": {},
          "execution_count": 17
        },
        {
          "output_type": "display_data",
          "data": {
            "text/plain": [
              "<Figure size 580.736x500 with 1 Axes>"
            ],
            "image/png": "[encoded data removed]"
          },
          "metadata": {}
        }
      ]
    },
    {
      "cell_type": "code",
      "source": [
        "sbn.catplot(x='marijuana', y='count', hue='cigarettes', data=imported_data, kind='point')"
      ],
      "metadata": {
        "colab": {
          "base_uri": "https://localhost:8080/",
          "height": 524
        },
        "id": "h4gyZHeUrwBt",
        "outputId": "9de959af-2604-41d6-cb6e-03c433c71815"
      },
      "execution_count": 21,
      "outputs": [
        {
          "output_type": "execute_result",
          "data": {
            "text/plain": [
              "<seaborn.axisgrid.FacetGrid at 0x7f8a98e0fa30>"
            ]
          },
          "metadata": {},
          "execution_count": 21
        },
        {
          "output_type": "display_data",
          "data": {
            "text/plain": [
              "<Figure size 580.736x500 with 1 Axes>"
            ],
            "image/png": "[encoded data removed]"
          },
          "metadata": {}
        }
      ]
    },
    {
      "cell_type": "code",
      "source": [
        "sbn.catplot(x='marijuana', y='count', hue='alcohol', data=imported_data, kind='point')"
      ],
      "metadata": {
        "colab": {
          "base_uri": "https://localhost:8080/",
          "height": 524
        },
        "id": "Oy6egafIrv2Y",
        "outputId": "629b7aa4-1b12-48d5-a650-b20d6b659356"
      },
      "execution_count": 22,
      "outputs": [
        {
          "output_type": "execute_result",
          "data": {
            "text/plain": [
              "<seaborn.axisgrid.FacetGrid at 0x7f8a98b9c250>"
            ]
          },
          "metadata": {},
          "execution_count": 22
        },
        {
          "output_type": "display_data",
          "data": {
            "text/plain": [
              "<Figure size 560.861x500 with 1 Axes>"
            ],
            "image/png": "[encoded data removed]"
          },
          "metadata": {}
        }
      ]
    },
    {
      "cell_type": "code",
      "source": [
        "# mame stejne obrazky jako v Rku, hura!"
      ],
      "metadata": {
        "id": "olahcZgZr5De"
      },
      "execution_count": null,
      "outputs": []
    },
    {
      "cell_type": "code",
      "source": [
        "fig, axs = plt.subplots(1, 3, figsize = (12, 4))\n",
        "\n",
        "sbn.pointplot(x='alcohol', y='count', hue='cigarettes', data=imported_data, ax = axs[0])\n",
        "sbn.pointplot(x='alcohol', y='count', hue='marijuana', data=imported_data, ax = axs[1])\n",
        "sbn.pointplot(x='marijuana', y='count', hue='cigarettes', data=imported_data,  ax = axs[2])\n",
        "\n",
        "fig.suptitle(\"Interaction plots (alcohol, cigarettes, marijuana)\")\n",
        "fig.show()"
      ],
      "metadata": {
        "colab": {
          "base_uri": "https://localhost:8080/",
          "height": 416
        },
        "id": "IakRP7x5sZLG",
        "outputId": "af9d5c19-8d67-42b0-9551-5c4130dd3afe"
      },
      "execution_count": 48,
      "outputs": [
        {
          "output_type": "display_data",
          "data": {
            "text/plain": [
              "<Figure size 1560x520 with 3 Axes>"
            ],
            "image/svg+xml": "<?xml version=\"1.0\" encoding=\"utf-8\" standalone=\"no\"?>\n<!DOCTYPE svg PUBLIC \"-//W3C//DTD SVG 1.1//EN\"\n  \"http://www.w3.org/Graphics/SVG/1.1/DTD/svg11.dtd\">\n<svg xmlns:xlink=\"http://www.w3.org/1999/xlink\" width=\"723.765625pt\" height=\"295.31625pt\" viewBox=\"0 0 723.765625 295.31625\" xmlns=\"http://www.w3.org/2000/svg\" version=\"1.1\">\n <metadata>\n  <rdf:RDF xmlns:dc=\"http://purl.org/dc/elements/1.1/\" xmlns:cc=\"http://creativecommons.org/ns#\" xmlns:rdf=\"http://www.w3.org/1999/02/22-rdf-syntax-ns#\">\n   <cc:Work>\n    <dc:type rdf:resource=\"http://purl.org/dc/dcmitype/StillImage\"/>\n    <dc:date>2023-05-15T09:28:51.298870</dc:date>\n    <dc:format>image/svg+xml</dc:format>\n    <dc:creator>\n     <cc:Agent>\n      <dc:title>Matplotlib v3.7.1, https://matplotlib.org/</dc:title>\n     </cc:Agent>\n    </dc:creator>\n   </cc:Work>\n  </rdf:RDF>\n </metadata>\n <defs>\n  <style type=\"text/css\">*{stroke-linejoin: round; stroke-linecap: butt}</style>\n </defs>\n <g id=\"figure_1\">\n  <g id=\"patch_1\">\n   <path d=\"M 0 295.31625 \nL 723.765625 295.31625 \nL 723.765625 0 \nL 0 0 \nz\n\" style=\"fill: #ffffff\"/>\n  </g>\n  <g id=\"axes_1\">\n   <g id=\"patch_2\">\n    <path d=\"M 46.965625 257.76 \nL 243.906801 257.76 \nL 243.906801 36 \nL 46.965625 36 \nz\n\" style=\"fill: #ffffff\"/>\n   </g>\n   <g id=\"line2d_1\">\n    <path d=\"M 96.200919 243.022574 \nL 194.671507 87.442376 \n\" clip-path=\"url(#p1ccdd28eaf)\" style=\"fill: none; stroke: #1f77b4; stroke-width: 2.7; stroke-linecap: square\"/>\n   </g>\n   <g id=\"line2d_2\">\n    <path d=\"M 96.200919 247.458218 \nL 96.200919 238.586931 \n\" clip-path=\"url(#p1ccdd28eaf)\" style=\"fill: none; stroke: #1f77b4; stroke-width: 2.7; stroke-linecap: square\"/>\n   </g>\n   <g id=\"line2d_3\">\n    <path d=\"M 194.671507 128.804752 \nL 194.671507 46.08 \n\" clip-path=\"url(#p1ccdd28eaf)\" style=\"fill: none; stroke: #1f77b4; stroke-width: 2.7; stroke-linecap: square\"/>\n   </g>\n   <g id=\"PathCollection_1\">\n    <defs>\n     <path id=\"m7e1639b1e6\" d=\"M 0 3.383948 \nC 0.897434 3.383948 1.758231 3.027394 2.392813 2.392813 \nC 3.027394 1.758231 3.383948 0.897434 3.383948 0 \nC 3.383948 -0.897434 3.027394 -1.758231 2.392813 -2.392813 \nC 1.758231 -3.027394 0.897434 -3.383948 0 -3.383948 \nC -0.897434 -3.383948 -1.758231 -3.027394 -2.392813 -2.392813 \nC -3.027394 -1.758231 -3.383948 -0.897434 -3.383948 0 \nC -3.383948 0.897434 -3.027394 1.758231 -2.392813 2.392813 \nC -1.758231 3.027394 -0.897434 3.383948 0 3.383948 \nz\n\" style=\"stroke: #1f77b4; stroke-width: 2.025\"/>\n    </defs>\n    <g clip-path=\"url(#p1ccdd28eaf)\">\n     <use xlink:href=\"#m7e1639b1e6\" x=\"96.200919\" y=\"243.022574\" style=\"fill: #1f77b4; stroke: #1f77b4; stroke-width: 2.025\"/>\n     <use xlink:href=\"#m7e1639b1e6\" x=\"194.671507\" y=\"87.442376\" style=\"fill: #1f77b4; stroke: #1f77b4; stroke-width: 2.025\"/>\n    </g>\n   </g>\n   <g id=\"matplotlib.axis_1\">\n    <g id=\"xtick_1\">\n     <g id=\"line2d_4\">\n      <defs>\n       <path id=\"me251fc430b\" d=\"M 0 0 \nL 0 3.5 \n\" style=\"stroke: #000000; stroke-width: 0.8\"/>\n      </defs>\n      <g>\n       <use xlink:href=\"#me251fc430b\" x=\"96.200919\" y=\"257.76\" style=\"stroke: #000000; stroke-width: 0.8\"/>\n      </g>\n     </g>\n     <g id=\"text_1\">\n      <!-- 0 -->\n      <g transform=\"translate(93.019669 272.358437) scale(0.1 -0.1)\">\n       <defs>\n        <path id=\"DejaVuSans-30\" d=\"M 2034 4250 \nQ 1547 4250 1301 3770 \nQ 1056 3291 1056 2328 \nQ 1056 1369 1301 889 \nQ 1547 409 2034 409 \nQ 2525 409 2770 889 \nQ 3016 1369 3016 2328 \nQ 3016 3291 2770 3770 \nQ 2525 4250 2034 4250 \nz\nM 2034 4750 \nQ 2819 4750 3233 4129 \nQ 3647 3509 3647 2328 \nQ 3647 1150 3233 529 \nQ 2819 -91 2034 -91 \nQ 1250 -91 836 529 \nQ 422 1150 422 2328 \nQ 422 3509 836 4129 \nQ 1250 4750 2034 4750 \nz\n\" transform=\"scale(0.015625)\"/>\n       </defs>\n       <use xlink:href=\"#DejaVuSans-30\"/>\n      </g>\n     </g>\n    </g>\n    <g id=\"xtick_2\">\n     <g id=\"line2d_5\">\n      <g>\n       <use xlink:href=\"#me251fc430b\" x=\"194.671507\" y=\"257.76\" style=\"stroke: #000000; stroke-width: 0.8\"/>\n      </g>\n     </g>\n     <g id=\"text_2\">\n      <!-- 1 -->\n      <g transform=\"translate(191.490257 272.358437) scale(0.1 -0.1)\">\n       <defs>\n        <path id=\"DejaVuSans-31\" d=\"M 794 531 \nL 1825 531 \nL 1825 4091 \nL 703 3866 \nL 703 4441 \nL 1819 4666 \nL 2450 4666 \nL 2450 531 \nL 3481 531 \nL 3481 0 \nL 794 0 \nL 794 531 \nz\n\" transform=\"scale(0.015625)\"/>\n       </defs>\n       <use xlink:href=\"#DejaVuSans-31\"/>\n      </g>\n     </g>\n    </g>\n    <g id=\"text_3\">\n     <!-- alcohol -->\n     <g transform=\"translate(127.557307 286.036562) scale(0.1 -0.1)\">\n      <defs>\n       <path id=\"DejaVuSans-61\" d=\"M 2194 1759 \nQ 1497 1759 1228 1600 \nQ 959 1441 959 1056 \nQ 959 750 1161 570 \nQ 1363 391 1709 391 \nQ 2188 391 2477 730 \nQ 2766 1069 2766 1631 \nL 2766 1759 \nL 2194 1759 \nz\nM 3341 1997 \nL 3341 0 \nL 2766 0 \nL 2766 531 \nQ 2569 213 2275 61 \nQ 1981 -91 1556 -91 \nQ 1019 -91 701 211 \nQ 384 513 384 1019 \nQ 384 1609 779 1909 \nQ 1175 2209 1959 2209 \nL 2766 2209 \nL 2766 2266 \nQ 2766 2663 2505 2880 \nQ 2244 3097 1772 3097 \nQ 1472 3097 1187 3025 \nQ 903 2953 641 2809 \nL 641 3341 \nQ 956 3463 1253 3523 \nQ 1550 3584 1831 3584 \nQ 2591 3584 2966 3190 \nQ 3341 2797 3341 1997 \nz\n\" transform=\"scale(0.015625)\"/>\n       <path id=\"DejaVuSans-6c\" d=\"M 603 4863 \nL 1178 4863 \nL 1178 0 \nL 603 0 \nL 603 4863 \nz\n\" transform=\"scale(0.015625)\"/>\n       <path id=\"DejaVuSans-63\" d=\"M 3122 3366 \nL 3122 2828 \nQ 2878 2963 2633 3030 \nQ 2388 3097 2138 3097 \nQ 1578 3097 1268 2742 \nQ 959 2388 959 1747 \nQ 959 1106 1268 751 \nQ 1578 397 2138 397 \nQ 2388 397 2633 464 \nQ 2878 531 3122 666 \nL 3122 134 \nQ 2881 22 2623 -34 \nQ 2366 -91 2075 -91 \nQ 1284 -91 818 406 \nQ 353 903 353 1747 \nQ 353 2603 823 3093 \nQ 1294 3584 2113 3584 \nQ 2378 3584 2631 3529 \nQ 2884 3475 3122 3366 \nz\n\" transform=\"scale(0.015625)\"/>\n       <path id=\"DejaVuSans-6f\" d=\"M 1959 3097 \nQ 1497 3097 1228 2736 \nQ 959 2375 959 1747 \nQ 959 1119 1226 758 \nQ 1494 397 1959 397 \nQ 2419 397 2687 759 \nQ 2956 1122 2956 1747 \nQ 2956 2369 2687 2733 \nQ 2419 3097 1959 3097 \nz\nM 1959 3584 \nQ 2709 3584 3137 3096 \nQ 3566 2609 3566 1747 \nQ 3566 888 3137 398 \nQ 2709 -91 1959 -91 \nQ 1206 -91 779 398 \nQ 353 888 353 1747 \nQ 353 2609 779 3096 \nQ 1206 3584 1959 3584 \nz\n\" transform=\"scale(0.015625)\"/>\n       <path id=\"DejaVuSans-68\" d=\"M 3513 2113 \nL 3513 0 \nL 2938 0 \nL 2938 2094 \nQ 2938 2591 2744 2837 \nQ 2550 3084 2163 3084 \nQ 1697 3084 1428 2787 \nQ 1159 2491 1159 1978 \nL 1159 0 \nL 581 0 \nL 581 4863 \nL 1159 4863 \nL 1159 2956 \nQ 1366 3272 1645 3428 \nQ 1925 3584 2291 3584 \nQ 2894 3584 3203 3211 \nQ 3513 2838 3513 2113 \nz\n\" transform=\"scale(0.015625)\"/>\n      </defs>\n      <use xlink:href=\"#DejaVuSans-61\"/>\n      <use xlink:href=\"#DejaVuSans-6c\" x=\"61.279297\"/>\n      <use xlink:href=\"#DejaVuSans-63\" x=\"89.0625\"/>\n      <use xlink:href=\"#DejaVuSans-6f\" x=\"144.042969\"/>\n      <use xlink:href=\"#DejaVuSans-68\" x=\"205.224609\"/>\n      <use xlink:href=\"#DejaVuSans-6f\" x=\"268.603516\"/>\n      <use xlink:href=\"#DejaVuSans-6c\" x=\"329.785156\"/>\n     </g>\n    </g>\n   </g>\n   <g id=\"matplotlib.axis_2\">\n    <g id=\"ytick_1\">\n     <g id=\"line2d_6\">\n      <defs>\n       <path id=\"m080f9d6908\" d=\"M 0 0 \nL -3.5 0 \n\" style=\"stroke: #000000; stroke-width: 0.8\"/>\n      </defs>\n      <g>\n       <use xlink:href=\"#m080f9d6908\" x=\"46.965625\" y=\"248.123564\" style=\"stroke: #000000; stroke-width: 0.8\"/>\n      </g>\n     </g>\n     <g id=\"text_4\">\n      <!-- 0 -->\n      <g transform=\"translate(33.603125 251.922783) scale(0.1 -0.1)\">\n       <use xlink:href=\"#DejaVuSans-30\"/>\n      </g>\n     </g>\n    </g>\n    <g id=\"ytick_2\">\n     <g id=\"line2d_7\">\n      <g>\n       <use xlink:href=\"#m080f9d6908\" x=\"46.965625\" y=\"203.767129\" style=\"stroke: #000000; stroke-width: 0.8\"/>\n      </g>\n     </g>\n     <g id=\"text_5\">\n      <!-- 200 -->\n      <g transform=\"translate(20.878125 207.566347) scale(0.1 -0.1)\">\n       <defs>\n        <path id=\"DejaVuSans-32\" d=\"M 1228 531 \nL 3431 531 \nL 3431 0 \nL 469 0 \nL 469 531 \nQ 828 903 1448 1529 \nQ 2069 2156 2228 2338 \nQ 2531 2678 2651 2914 \nQ 2772 3150 2772 3378 \nQ 2772 3750 2511 3984 \nQ 2250 4219 1831 4219 \nQ 1534 4219 1204 4116 \nQ 875 4013 500 3803 \nL 500 4441 \nQ 881 4594 1212 4672 \nQ 1544 4750 1819 4750 \nQ 2544 4750 2975 4387 \nQ 3406 4025 3406 3419 \nQ 3406 3131 3298 2873 \nQ 3191 2616 2906 2266 \nQ 2828 2175 2409 1742 \nQ 1991 1309 1228 531 \nz\n\" transform=\"scale(0.015625)\"/>\n       </defs>\n       <use xlink:href=\"#DejaVuSans-32\"/>\n       <use xlink:href=\"#DejaVuSans-30\" x=\"63.623047\"/>\n       <use xlink:href=\"#DejaVuSans-30\" x=\"127.246094\"/>\n      </g>\n     </g>\n    </g>\n    <g id=\"ytick_3\">\n     <g id=\"line2d_8\">\n      <g>\n       <use xlink:href=\"#m080f9d6908\" x=\"46.965625\" y=\"159.410693\" style=\"stroke: #000000; stroke-width: 0.8\"/>\n      </g>\n     </g>\n     <g id=\"text_6\">\n      <!-- 400 -->\n      <g transform=\"translate(20.878125 163.209912) scale(0.1 -0.1)\">\n       <defs>\n        <path id=\"DejaVuSans-34\" d=\"M 2419 4116 \nL 825 1625 \nL 2419 1625 \nL 2419 4116 \nz\nM 2253 4666 \nL 3047 4666 \nL 3047 1625 \nL 3713 1625 \nL 3713 1100 \nL 3047 1100 \nL 3047 0 \nL 2419 0 \nL 2419 1100 \nL 313 1100 \nL 313 1709 \nL 2253 4666 \nz\n\" transform=\"scale(0.015625)\"/>\n       </defs>\n       <use xlink:href=\"#DejaVuSans-34\"/>\n       <use xlink:href=\"#DejaVuSans-30\" x=\"63.623047\"/>\n       <use xlink:href=\"#DejaVuSans-30\" x=\"127.246094\"/>\n      </g>\n     </g>\n    </g>\n    <g id=\"ytick_4\">\n     <g id=\"line2d_9\">\n      <g>\n       <use xlink:href=\"#m080f9d6908\" x=\"46.965625\" y=\"115.054257\" style=\"stroke: #000000; stroke-width: 0.8\"/>\n      </g>\n     </g>\n     <g id=\"text_7\">\n      <!-- 600 -->\n      <g transform=\"translate(20.878125 118.853476) scale(0.1 -0.1)\">\n       <defs>\n        <path id=\"DejaVuSans-36\" d=\"M 2113 2584 \nQ 1688 2584 1439 2293 \nQ 1191 2003 1191 1497 \nQ 1191 994 1439 701 \nQ 1688 409 2113 409 \nQ 2538 409 2786 701 \nQ 3034 994 3034 1497 \nQ 3034 2003 2786 2293 \nQ 2538 2584 2113 2584 \nz\nM 3366 4563 \nL 3366 3988 \nQ 3128 4100 2886 4159 \nQ 2644 4219 2406 4219 \nQ 1781 4219 1451 3797 \nQ 1122 3375 1075 2522 \nQ 1259 2794 1537 2939 \nQ 1816 3084 2150 3084 \nQ 2853 3084 3261 2657 \nQ 3669 2231 3669 1497 \nQ 3669 778 3244 343 \nQ 2819 -91 2113 -91 \nQ 1303 -91 875 529 \nQ 447 1150 447 2328 \nQ 447 3434 972 4092 \nQ 1497 4750 2381 4750 \nQ 2619 4750 2861 4703 \nQ 3103 4656 3366 4563 \nz\n\" transform=\"scale(0.015625)\"/>\n       </defs>\n       <use xlink:href=\"#DejaVuSans-36\"/>\n       <use xlink:href=\"#DejaVuSans-30\" x=\"63.623047\"/>\n       <use xlink:href=\"#DejaVuSans-30\" x=\"127.246094\"/>\n      </g>\n     </g>\n    </g>\n    <g id=\"ytick_5\">\n     <g id=\"line2d_10\">\n      <g>\n       <use xlink:href=\"#m080f9d6908\" x=\"46.965625\" y=\"70.697822\" style=\"stroke: #000000; stroke-width: 0.8\"/>\n      </g>\n     </g>\n     <g id=\"text_8\">\n      <!-- 800 -->\n      <g transform=\"translate(20.878125 74.497041) scale(0.1 -0.1)\">\n       <defs>\n        <path id=\"DejaVuSans-38\" d=\"M 2034 2216 \nQ 1584 2216 1326 1975 \nQ 1069 1734 1069 1313 \nQ 1069 891 1326 650 \nQ 1584 409 2034 409 \nQ 2484 409 2743 651 \nQ 3003 894 3003 1313 \nQ 3003 1734 2745 1975 \nQ 2488 2216 2034 2216 \nz\nM 1403 2484 \nQ 997 2584 770 2862 \nQ 544 3141 544 3541 \nQ 544 4100 942 4425 \nQ 1341 4750 2034 4750 \nQ 2731 4750 3128 4425 \nQ 3525 4100 3525 3541 \nQ 3525 3141 3298 2862 \nQ 3072 2584 2669 2484 \nQ 3125 2378 3379 2068 \nQ 3634 1759 3634 1313 \nQ 3634 634 3220 271 \nQ 2806 -91 2034 -91 \nQ 1263 -91 848 271 \nQ 434 634 434 1313 \nQ 434 1759 690 2068 \nQ 947 2378 1403 2484 \nz\nM 1172 3481 \nQ 1172 3119 1398 2916 \nQ 1625 2713 2034 2713 \nQ 2441 2713 2670 2916 \nQ 2900 3119 2900 3481 \nQ 2900 3844 2670 4047 \nQ 2441 4250 2034 4250 \nQ 1625 4250 1398 4047 \nQ 1172 3844 1172 3481 \nz\n\" transform=\"scale(0.015625)\"/>\n       </defs>\n       <use xlink:href=\"#DejaVuSans-38\"/>\n       <use xlink:href=\"#DejaVuSans-30\" x=\"63.623047\"/>\n       <use xlink:href=\"#DejaVuSans-30\" x=\"127.246094\"/>\n      </g>\n     </g>\n    </g>\n    <g id=\"text_9\">\n     <!-- count -->\n     <g transform=\"translate(14.798438 160.98625) rotate(-90) scale(0.1 -0.1)\">\n      <defs>\n       <path id=\"DejaVuSans-75\" d=\"M 544 1381 \nL 544 3500 \nL 1119 3500 \nL 1119 1403 \nQ 1119 906 1312 657 \nQ 1506 409 1894 409 \nQ 2359 409 2629 706 \nQ 2900 1003 2900 1516 \nL 2900 3500 \nL 3475 3500 \nL 3475 0 \nL 2900 0 \nL 2900 538 \nQ 2691 219 2414 64 \nQ 2138 -91 1772 -91 \nQ 1169 -91 856 284 \nQ 544 659 544 1381 \nz\nM 1991 3584 \nL 1991 3584 \nz\n\" transform=\"scale(0.015625)\"/>\n       <path id=\"DejaVuSans-6e\" d=\"M 3513 2113 \nL 3513 0 \nL 2938 0 \nL 2938 2094 \nQ 2938 2591 2744 2837 \nQ 2550 3084 2163 3084 \nQ 1697 3084 1428 2787 \nQ 1159 2491 1159 1978 \nL 1159 0 \nL 581 0 \nL 581 3500 \nL 1159 3500 \nL 1159 2956 \nQ 1366 3272 1645 3428 \nQ 1925 3584 2291 3584 \nQ 2894 3584 3203 3211 \nQ 3513 2838 3513 2113 \nz\n\" transform=\"scale(0.015625)\"/>\n       <path id=\"DejaVuSans-74\" d=\"M 1172 4494 \nL 1172 3500 \nL 2356 3500 \nL 2356 3053 \nL 1172 3053 \nL 1172 1153 \nQ 1172 725 1289 603 \nQ 1406 481 1766 481 \nL 2356 481 \nL 2356 0 \nL 1766 0 \nQ 1100 0 847 248 \nQ 594 497 594 1153 \nL 594 3053 \nL 172 3053 \nL 172 3500 \nL 594 3500 \nL 594 4494 \nL 1172 4494 \nz\n\" transform=\"scale(0.015625)\"/>\n      </defs>\n      <use xlink:href=\"#DejaVuSans-63\"/>\n      <use xlink:href=\"#DejaVuSans-6f\" x=\"54.980469\"/>\n      <use xlink:href=\"#DejaVuSans-75\" x=\"116.162109\"/>\n      <use xlink:href=\"#DejaVuSans-6e\" x=\"179.541016\"/>\n      <use xlink:href=\"#DejaVuSans-74\" x=\"242.919922\"/>\n     </g>\n    </g>\n   </g>\n   <g id=\"line2d_11\">\n    <path d=\"M 96.200919 216.963168 \nL 194.671507 192.67802 \n\" clip-path=\"url(#p1ccdd28eaf)\" style=\"fill: none; stroke: #ff7f0e; stroke-width: 2.7; stroke-linecap: square\"/>\n   </g>\n   <g id=\"line2d_12\">\n    <path d=\"M 96.200919 247.68 \nL 96.200919 186.246337 \n\" clip-path=\"url(#p1ccdd28eaf)\" style=\"fill: none; stroke: #ff7f0e; stroke-width: 2.7; stroke-linecap: square\"/>\n   </g>\n   <g id=\"line2d_13\">\n    <path d=\"M 194.671507 238.365149 \nL 194.671507 146.990891 \n\" clip-path=\"url(#p1ccdd28eaf)\" style=\"fill: none; stroke: #ff7f0e; stroke-width: 2.7; stroke-linecap: square\"/>\n   </g>\n   <g id=\"PathCollection_2\">\n    <defs>\n     <path id=\"mb1ac0b27e5\" d=\"M 0 3.383948 \nC 0.897434 3.383948 1.758231 3.027394 2.392813 2.392813 \nC 3.027394 1.758231 3.383948 0.897434 3.383948 0 \nC 3.383948 -0.897434 3.027394 -1.758231 2.392813 -2.392813 \nC 1.758231 -3.027394 0.897434 -3.383948 0 -3.383948 \nC -0.897434 -3.383948 -1.758231 -3.027394 -2.392813 -2.392813 \nC -3.027394 -1.758231 -3.383948 -0.897434 -3.383948 0 \nC -3.383948 0.897434 -3.027394 1.758231 -2.392813 2.392813 \nC -1.758231 3.027394 -0.897434 3.383948 0 3.383948 \nz\n\" style=\"stroke: #ff7f0e; stroke-width: 2.025\"/>\n    </defs>\n    <g clip-path=\"url(#p1ccdd28eaf)\">\n     <use xlink:href=\"#mb1ac0b27e5\" x=\"96.200919\" y=\"216.963168\" style=\"fill: #ff7f0e; stroke: #ff7f0e; stroke-width: 2.025\"/>\n     <use xlink:href=\"#mb1ac0b27e5\" x=\"194.671507\" y=\"192.67802\" style=\"fill: #ff7f0e; stroke: #ff7f0e; stroke-width: 2.025\"/>\n    </g>\n   </g>\n   <g id=\"patch_3\">\n    <path d=\"M 46.965625 257.76 \nL 46.965625 36 \n\" style=\"fill: none; stroke: #000000; stroke-width: 0.8; stroke-linejoin: miter; stroke-linecap: square\"/>\n   </g>\n   <g id=\"patch_4\">\n    <path d=\"M 243.906801 257.76 \nL 243.906801 36 \n\" style=\"fill: none; stroke: #000000; stroke-width: 0.8; stroke-linejoin: miter; stroke-linecap: square\"/>\n   </g>\n   <g id=\"patch_5\">\n    <path d=\"M 46.965625 257.76 \nL 243.906801 257.76 \n\" style=\"fill: none; stroke: #000000; stroke-width: 0.8; stroke-linejoin: miter; stroke-linecap: square\"/>\n   </g>\n   <g id=\"patch_6\">\n    <path d=\"M 46.965625 36 \nL 243.906801 36 \n\" style=\"fill: none; stroke: #000000; stroke-width: 0.8; stroke-linejoin: miter; stroke-linecap: square\"/>\n   </g>\n   <g id=\"legend_1\">\n    <g id=\"patch_7\">\n     <path d=\"M 53.965625 88.034375 \nL 107.960938 88.034375 \nQ 109.960938 88.034375 109.960938 86.034375 \nL 109.960938 43 \nQ 109.960938 41 107.960938 41 \nL 53.965625 41 \nQ 51.965625 41 51.965625 43 \nL 51.965625 86.034375 \nQ 51.965625 88.034375 53.965625 88.034375 \nz\n\" style=\"fill: #ffffff; opacity: 0.8; stroke: #cccccc; stroke-linejoin: miter\"/>\n    </g>\n    <g id=\"text_10\">\n     <!-- cigarettes -->\n     <g transform=\"translate(55.965625 52.598437) scale(0.1 -0.1)\">\n      <defs>\n       <path id=\"DejaVuSans-69\" d=\"M 603 3500 \nL 1178 3500 \nL 1178 0 \nL 603 0 \nL 603 3500 \nz\nM 603 4863 \nL 1178 4863 \nL 1178 4134 \nL 603 4134 \nL 603 4863 \nz\n\" transform=\"scale(0.015625)\"/>\n       <path id=\"DejaVuSans-67\" d=\"M 2906 1791 \nQ 2906 2416 2648 2759 \nQ 2391 3103 1925 3103 \nQ 1463 3103 1205 2759 \nQ 947 2416 947 1791 \nQ 947 1169 1205 825 \nQ 1463 481 1925 481 \nQ 2391 481 2648 825 \nQ 2906 1169 2906 1791 \nz\nM 3481 434 \nQ 3481 -459 3084 -895 \nQ 2688 -1331 1869 -1331 \nQ 1566 -1331 1297 -1286 \nQ 1028 -1241 775 -1147 \nL 775 -588 \nQ 1028 -725 1275 -790 \nQ 1522 -856 1778 -856 \nQ 2344 -856 2625 -561 \nQ 2906 -266 2906 331 \nL 2906 616 \nQ 2728 306 2450 153 \nQ 2172 0 1784 0 \nQ 1141 0 747 490 \nQ 353 981 353 1791 \nQ 353 2603 747 3093 \nQ 1141 3584 1784 3584 \nQ 2172 3584 2450 3431 \nQ 2728 3278 2906 2969 \nL 2906 3500 \nL 3481 3500 \nL 3481 434 \nz\n\" transform=\"scale(0.015625)\"/>\n       <path id=\"DejaVuSans-72\" d=\"M 2631 2963 \nQ 2534 3019 2420 3045 \nQ 2306 3072 2169 3072 \nQ 1681 3072 1420 2755 \nQ 1159 2438 1159 1844 \nL 1159 0 \nL 581 0 \nL 581 3500 \nL 1159 3500 \nL 1159 2956 \nQ 1341 3275 1631 3429 \nQ 1922 3584 2338 3584 \nQ 2397 3584 2469 3576 \nQ 2541 3569 2628 3553 \nL 2631 2963 \nz\n\" transform=\"scale(0.015625)\"/>\n       <path id=\"DejaVuSans-65\" d=\"M 3597 1894 \nL 3597 1613 \nL 953 1613 \nQ 991 1019 1311 708 \nQ 1631 397 2203 397 \nQ 2534 397 2845 478 \nQ 3156 559 3463 722 \nL 3463 178 \nQ 3153 47 2828 -22 \nQ 2503 -91 2169 -91 \nQ 1331 -91 842 396 \nQ 353 884 353 1716 \nQ 353 2575 817 3079 \nQ 1281 3584 2069 3584 \nQ 2775 3584 3186 3129 \nQ 3597 2675 3597 1894 \nz\nM 3022 2063 \nQ 3016 2534 2758 2815 \nQ 2500 3097 2075 3097 \nQ 1594 3097 1305 2825 \nQ 1016 2553 972 2059 \nL 3022 2063 \nz\n\" transform=\"scale(0.015625)\"/>\n       <path id=\"DejaVuSans-73\" d=\"M 2834 3397 \nL 2834 2853 \nQ 2591 2978 2328 3040 \nQ 2066 3103 1784 3103 \nQ 1356 3103 1142 2972 \nQ 928 2841 928 2578 \nQ 928 2378 1081 2264 \nQ 1234 2150 1697 2047 \nL 1894 2003 \nQ 2506 1872 2764 1633 \nQ 3022 1394 3022 966 \nQ 3022 478 2636 193 \nQ 2250 -91 1575 -91 \nQ 1294 -91 989 -36 \nQ 684 19 347 128 \nL 347 722 \nQ 666 556 975 473 \nQ 1284 391 1588 391 \nQ 1994 391 2212 530 \nQ 2431 669 2431 922 \nQ 2431 1156 2273 1281 \nQ 2116 1406 1581 1522 \nL 1381 1569 \nQ 847 1681 609 1914 \nQ 372 2147 372 2553 \nQ 372 3047 722 3315 \nQ 1072 3584 1716 3584 \nQ 2034 3584 2315 3537 \nQ 2597 3491 2834 3397 \nz\n\" transform=\"scale(0.015625)\"/>\n      </defs>\n      <use xlink:href=\"#DejaVuSans-63\"/>\n      <use xlink:href=\"#DejaVuSans-69\" x=\"54.980469\"/>\n      <use xlink:href=\"#DejaVuSans-67\" x=\"82.763672\"/>\n      <use xlink:href=\"#DejaVuSans-61\" x=\"146.240234\"/>\n      <use xlink:href=\"#DejaVuSans-72\" x=\"207.519531\"/>\n      <use xlink:href=\"#DejaVuSans-65\" x=\"246.382812\"/>\n      <use xlink:href=\"#DejaVuSans-74\" x=\"307.90625\"/>\n      <use xlink:href=\"#DejaVuSans-74\" x=\"347.115234\"/>\n      <use xlink:href=\"#DejaVuSans-65\" x=\"386.324219\"/>\n      <use xlink:href=\"#DejaVuSans-73\" x=\"447.847656\"/>\n     </g>\n    </g>\n    <g id=\"PathCollection_3\">\n     <g>\n      <use xlink:href=\"#m7e1639b1e6\" x=\"73.782031\" y=\"64.651562\" style=\"fill: #1f77b4; stroke: #1f77b4; stroke-width: 2.025\"/>\n     </g>\n    </g>\n    <g id=\"text_11\">\n     <!-- 0 -->\n     <g transform=\"translate(91.782031 67.276562) scale(0.1 -0.1)\">\n      <use xlink:href=\"#DejaVuSans-30\"/>\n     </g>\n    </g>\n    <g id=\"PathCollection_4\">\n     <g>\n      <use xlink:href=\"#mb1ac0b27e5\" x=\"73.782031\" y=\"79.329687\" style=\"fill: #ff7f0e; stroke: #ff7f0e; stroke-width: 2.025\"/>\n     </g>\n    </g>\n    <g id=\"text_12\">\n     <!-- 1 -->\n     <g transform=\"translate(91.782031 81.954687) scale(0.1 -0.1)\">\n      <use xlink:href=\"#DejaVuSans-31\"/>\n     </g>\n    </g>\n   </g>\n  </g>\n  <g id=\"axes_2\">\n   <g id=\"patch_8\">\n    <path d=\"M 283.295037 257.76 \nL 480.236213 257.76 \nL 480.236213 36 \nL 283.295037 36 \nz\n\" style=\"fill: #ffffff\"/>\n   </g>\n   <g id=\"line2d_14\">\n    <path d=\"M 332.530331 247.569109 \nL 431.000919 142.222574 \n\" clip-path=\"url(#p4e94a3fa06)\" style=\"fill: none; stroke: #1f77b4; stroke-width: 2.7; stroke-linecap: square\"/>\n   </g>\n   <g id=\"line2d_15\">\n    <path d=\"M 332.530331 247.68 \nL 332.530331 247.458218 \n\" clip-path=\"url(#p4e94a3fa06)\" style=\"fill: none; stroke: #1f77b4; stroke-width: 2.7; stroke-linecap: square\"/>\n   </g>\n   <g id=\"line2d_16\">\n    <path d=\"M 431.000919 238.365149 \nL 431.000919 46.08 \n\" clip-path=\"url(#p4e94a3fa06)\" style=\"fill: none; stroke: #1f77b4; stroke-width: 2.7; stroke-linecap: square\"/>\n   </g>\n   <g id=\"PathCollection_5\">\n    <g clip-path=\"url(#p4e94a3fa06)\">\n     <use xlink:href=\"#m7e1639b1e6\" x=\"332.530331\" y=\"247.569109\" style=\"fill: #1f77b4; stroke: #1f77b4; stroke-width: 2.025\"/>\n     <use xlink:href=\"#m7e1639b1e6\" x=\"431.000919\" y=\"142.222574\" style=\"fill: #1f77b4; stroke: #1f77b4; stroke-width: 2.025\"/>\n    </g>\n   </g>\n   <g id=\"matplotlib.axis_3\">\n    <g id=\"xtick_3\">\n     <g id=\"line2d_17\">\n      <g>\n       <use xlink:href=\"#me251fc430b\" x=\"332.530331\" y=\"257.76\" style=\"stroke: #000000; stroke-width: 0.8\"/>\n      </g>\n     </g>\n     <g id=\"text_13\">\n      <!-- 0 -->\n      <g transform=\"translate(329.349081 272.358437) scale(0.1 -0.1)\">\n       <use xlink:href=\"#DejaVuSans-30\"/>\n      </g>\n     </g>\n    </g>\n    <g id=\"xtick_4\">\n     <g id=\"line2d_18\">\n      <g>\n       <use xlink:href=\"#me251fc430b\" x=\"431.000919\" y=\"257.76\" style=\"stroke: #000000; stroke-width: 0.8\"/>\n      </g>\n     </g>\n     <g id=\"text_14\">\n      <!-- 1 -->\n      <g transform=\"translate(427.819669 272.358437) scale(0.1 -0.1)\">\n       <use xlink:href=\"#DejaVuSans-31\"/>\n      </g>\n     </g>\n    </g>\n    <g id=\"text_15\">\n     <!-- alcohol -->\n     <g transform=\"translate(363.886719 286.036562) scale(0.1 -0.1)\">\n      <use xlink:href=\"#DejaVuSans-61\"/>\n      <use xlink:href=\"#DejaVuSans-6c\" x=\"61.279297\"/>\n      <use xlink:href=\"#DejaVuSans-63\" x=\"89.0625\"/>\n      <use xlink:href=\"#DejaVuSans-6f\" x=\"144.042969\"/>\n      <use xlink:href=\"#DejaVuSans-68\" x=\"205.224609\"/>\n      <use xlink:href=\"#DejaVuSans-6f\" x=\"268.603516\"/>\n      <use xlink:href=\"#DejaVuSans-6c\" x=\"329.785156\"/>\n     </g>\n    </g>\n   </g>\n   <g id=\"matplotlib.axis_4\">\n    <g id=\"ytick_6\">\n     <g id=\"line2d_19\">\n      <g>\n       <use xlink:href=\"#m080f9d6908\" x=\"283.295037\" y=\"248.123564\" style=\"stroke: #000000; stroke-width: 0.8\"/>\n      </g>\n     </g>\n     <g id=\"text_16\">\n      <!-- 0 -->\n      <g transform=\"translate(269.932537 251.922783) scale(0.1 -0.1)\">\n       <use xlink:href=\"#DejaVuSans-30\"/>\n      </g>\n     </g>\n    </g>\n    <g id=\"ytick_7\">\n     <g id=\"line2d_20\">\n      <g>\n       <use xlink:href=\"#m080f9d6908\" x=\"283.295037\" y=\"203.767129\" style=\"stroke: #000000; stroke-width: 0.8\"/>\n      </g>\n     </g>\n     <g id=\"text_17\">\n      <!-- 200 -->\n      <g transform=\"translate(257.207537 207.566347) scale(0.1 -0.1)\">\n       <use xlink:href=\"#DejaVuSans-32\"/>\n       <use xlink:href=\"#DejaVuSans-30\" x=\"63.623047\"/>\n       <use xlink:href=\"#DejaVuSans-30\" x=\"127.246094\"/>\n      </g>\n     </g>\n    </g>\n    <g id=\"ytick_8\">\n     <g id=\"line2d_21\">\n      <g>\n       <use xlink:href=\"#m080f9d6908\" x=\"283.295037\" y=\"159.410693\" style=\"stroke: #000000; stroke-width: 0.8\"/>\n      </g>\n     </g>\n     <g id=\"text_18\">\n      <!-- 400 -->\n      <g transform=\"translate(257.207537 163.209912) scale(0.1 -0.1)\">\n       <use xlink:href=\"#DejaVuSans-34\"/>\n       <use xlink:href=\"#DejaVuSans-30\" x=\"63.623047\"/>\n       <use xlink:href=\"#DejaVuSans-30\" x=\"127.246094\"/>\n      </g>\n     </g>\n    </g>\n    <g id=\"ytick_9\">\n     <g id=\"line2d_22\">\n      <g>\n       <use xlink:href=\"#m080f9d6908\" x=\"283.295037\" y=\"115.054257\" style=\"stroke: #000000; stroke-width: 0.8\"/>\n      </g>\n     </g>\n     <g id=\"text_19\">\n      <!-- 600 -->\n      <g transform=\"translate(257.207537 118.853476) scale(0.1 -0.1)\">\n       <use xlink:href=\"#DejaVuSans-36\"/>\n       <use xlink:href=\"#DejaVuSans-30\" x=\"63.623047\"/>\n       <use xlink:href=\"#DejaVuSans-30\" x=\"127.246094\"/>\n      </g>\n     </g>\n    </g>\n    <g id=\"ytick_10\">\n     <g id=\"line2d_23\">\n      <g>\n       <use xlink:href=\"#m080f9d6908\" x=\"283.295037\" y=\"70.697822\" style=\"stroke: #000000; stroke-width: 0.8\"/>\n      </g>\n     </g>\n     <g id=\"text_20\">\n      <!-- 800 -->\n      <g transform=\"translate(257.207537 74.497041) scale(0.1 -0.1)\">\n       <use xlink:href=\"#DejaVuSans-38\"/>\n       <use xlink:href=\"#DejaVuSans-30\" x=\"63.623047\"/>\n       <use xlink:href=\"#DejaVuSans-30\" x=\"127.246094\"/>\n      </g>\n     </g>\n    </g>\n    <g id=\"text_21\">\n     <!-- count -->\n     <g transform=\"translate(251.127849 160.98625) rotate(-90) scale(0.1 -0.1)\">\n      <use xlink:href=\"#DejaVuSans-63\"/>\n      <use xlink:href=\"#DejaVuSans-6f\" x=\"54.980469\"/>\n      <use xlink:href=\"#DejaVuSans-75\" x=\"116.162109\"/>\n      <use xlink:href=\"#DejaVuSans-6e\" x=\"179.541016\"/>\n      <use xlink:href=\"#DejaVuSans-74\" x=\"242.919922\"/>\n     </g>\n    </g>\n   </g>\n   <g id=\"line2d_24\">\n    <path d=\"M 332.530331 212.416634 \nL 431.000919 137.897822 \n\" clip-path=\"url(#p4e94a3fa06)\" style=\"fill: none; stroke: #ff7f0e; stroke-width: 2.7; stroke-linecap: square\"/>\n   </g>\n   <g id=\"line2d_25\">\n    <path d=\"M 332.530331 238.586931 \nL 332.530331 186.246337 \n\" clip-path=\"url(#p4e94a3fa06)\" style=\"fill: none; stroke: #ff7f0e; stroke-width: 2.7; stroke-linecap: square\"/>\n   </g>\n   <g id=\"line2d_26\">\n    <path d=\"M 431.000919 146.990891 \nL 431.000919 128.804752 \n\" clip-path=\"url(#p4e94a3fa06)\" style=\"fill: none; stroke: #ff7f0e; stroke-width: 2.7; stroke-linecap: square\"/>\n   </g>\n   <g id=\"PathCollection_6\">\n    <g clip-path=\"url(#p4e94a3fa06)\">\n     <use xlink:href=\"#mb1ac0b27e5\" x=\"332.530331\" y=\"212.416634\" style=\"fill: #ff7f0e; stroke: #ff7f0e; stroke-width: 2.025\"/>\n     <use xlink:href=\"#mb1ac0b27e5\" x=\"431.000919\" y=\"137.897822\" style=\"fill: #ff7f0e; stroke: #ff7f0e; stroke-width: 2.025\"/>\n    </g>\n   </g>\n   <g id=\"patch_9\">\n    <path d=\"M 283.295037 257.76 \nL 283.295037 36 \n\" style=\"fill: none; stroke: #000000; stroke-width: 0.8; stroke-linejoin: miter; stroke-linecap: square\"/>\n   </g>\n   <g id=\"patch_10\">\n    <path d=\"M 480.236213 257.76 \nL 480.236213 36 \n\" style=\"fill: none; stroke: #000000; stroke-width: 0.8; stroke-linejoin: miter; stroke-linecap: square\"/>\n   </g>\n   <g id=\"patch_11\">\n    <path d=\"M 283.295037 257.76 \nL 480.236213 257.76 \n\" style=\"fill: none; stroke: #000000; stroke-width: 0.8; stroke-linejoin: miter; stroke-linecap: square\"/>\n   </g>\n   <g id=\"patch_12\">\n    <path d=\"M 283.295037 36 \nL 480.236213 36 \n\" style=\"fill: none; stroke: #000000; stroke-width: 0.8; stroke-linejoin: miter; stroke-linecap: square\"/>\n   </g>\n   <g id=\"legend_2\">\n    <g id=\"patch_13\">\n     <path d=\"M 290.295037 88.034375 \nL 344.762224 88.034375 \nQ 346.762224 88.034375 346.762224 86.034375 \nL 346.762224 43 \nQ 346.762224 41 344.762224 41 \nL 290.295037 41 \nQ 288.295037 41 288.295037 43 \nL 288.295037 86.034375 \nQ 288.295037 88.034375 290.295037 88.034375 \nz\n\" style=\"fill: #ffffff; opacity: 0.8; stroke: #cccccc; stroke-linejoin: miter\"/>\n    </g>\n    <g id=\"text_22\">\n     <!-- marijuana -->\n     <g transform=\"translate(292.295037 52.598437) scale(0.1 -0.1)\">\n      <defs>\n       <path id=\"DejaVuSans-6d\" d=\"M 3328 2828 \nQ 3544 3216 3844 3400 \nQ 4144 3584 4550 3584 \nQ 5097 3584 5394 3201 \nQ 5691 2819 5691 2113 \nL 5691 0 \nL 5113 0 \nL 5113 2094 \nQ 5113 2597 4934 2840 \nQ 4756 3084 4391 3084 \nQ 3944 3084 3684 2787 \nQ 3425 2491 3425 1978 \nL 3425 0 \nL 2847 0 \nL 2847 2094 \nQ 2847 2600 2669 2842 \nQ 2491 3084 2119 3084 \nQ 1678 3084 1418 2786 \nQ 1159 2488 1159 1978 \nL 1159 0 \nL 581 0 \nL 581 3500 \nL 1159 3500 \nL 1159 2956 \nQ 1356 3278 1631 3431 \nQ 1906 3584 2284 3584 \nQ 2666 3584 2933 3390 \nQ 3200 3197 3328 2828 \nz\n\" transform=\"scale(0.015625)\"/>\n       <path id=\"DejaVuSans-6a\" d=\"M 603 3500 \nL 1178 3500 \nL 1178 -63 \nQ 1178 -731 923 -1031 \nQ 669 -1331 103 -1331 \nL -116 -1331 \nL -116 -844 \nL 38 -844 \nQ 366 -844 484 -692 \nQ 603 -541 603 -63 \nL 603 3500 \nz\nM 603 4863 \nL 1178 4863 \nL 1178 4134 \nL 603 4134 \nL 603 4863 \nz\n\" transform=\"scale(0.015625)\"/>\n      </defs>\n      <use xlink:href=\"#DejaVuSans-6d\"/>\n      <use xlink:href=\"#DejaVuSans-61\" x=\"97.412109\"/>\n      <use xlink:href=\"#DejaVuSans-72\" x=\"158.691406\"/>\n      <use xlink:href=\"#DejaVuSans-69\" x=\"199.804688\"/>\n      <use xlink:href=\"#DejaVuSans-6a\" x=\"227.587891\"/>\n      <use xlink:href=\"#DejaVuSans-75\" x=\"255.371094\"/>\n      <use xlink:href=\"#DejaVuSans-61\" x=\"318.75\"/>\n      <use xlink:href=\"#DejaVuSans-6e\" x=\"380.029297\"/>\n      <use xlink:href=\"#DejaVuSans-61\" x=\"443.408203\"/>\n     </g>\n    </g>\n    <g id=\"PathCollection_7\">\n     <g>\n      <use xlink:href=\"#m7e1639b1e6\" x=\"310.347381\" y=\"64.651562\" style=\"fill: #1f77b4; stroke: #1f77b4; stroke-width: 2.025\"/>\n     </g>\n    </g>\n    <g id=\"text_23\">\n     <!-- 0 -->\n     <g transform=\"translate(328.347381 67.276562) scale(0.1 -0.1)\">\n      <use xlink:href=\"#DejaVuSans-30\"/>\n     </g>\n    </g>\n    <g id=\"PathCollection_8\">\n     <g>\n      <use xlink:href=\"#mb1ac0b27e5\" x=\"310.347381\" y=\"79.329687\" style=\"fill: #ff7f0e; stroke: #ff7f0e; stroke-width: 2.025\"/>\n     </g>\n    </g>\n    <g id=\"text_24\">\n     <!-- 1 -->\n     <g transform=\"translate(328.347381 81.954687) scale(0.1 -0.1)\">\n      <use xlink:href=\"#DejaVuSans-31\"/>\n     </g>\n    </g>\n   </g>\n  </g>\n  <g id=\"axes_3\">\n   <g id=\"patch_14\">\n    <path d=\"M 519.624449 257.76 \nL 716.565625 257.76 \nL 716.565625 36 \nL 519.624449 36 \nz\n\" style=\"fill: #ffffff\"/>\n   </g>\n   <g id=\"line2d_27\">\n    <path d=\"M 568.859743 146.769109 \nL 667.330331 183.695842 \n\" clip-path=\"url(#p68d5687261)\" style=\"fill: none; stroke: #1f77b4; stroke-width: 2.7; stroke-linecap: square\"/>\n   </g>\n   <g id=\"line2d_28\">\n    <path d=\"M 568.859743 247.458218 \nL 568.859743 46.08 \n\" clip-path=\"url(#p68d5687261)\" style=\"fill: none; stroke: #1f77b4; stroke-width: 2.7; stroke-linecap: square\"/>\n   </g>\n   <g id=\"line2d_29\">\n    <path d=\"M 667.330331 238.586931 \nL 667.330331 128.804752 \n\" clip-path=\"url(#p68d5687261)\" style=\"fill: none; stroke: #1f77b4; stroke-width: 2.7; stroke-linecap: square\"/>\n   </g>\n   <g id=\"PathCollection_9\">\n    <g clip-path=\"url(#p68d5687261)\">\n     <use xlink:href=\"#m7e1639b1e6\" x=\"568.859743\" y=\"146.769109\" style=\"fill: #1f77b4; stroke: #1f77b4; stroke-width: 2.025\"/>\n     <use xlink:href=\"#m7e1639b1e6\" x=\"667.330331\" y=\"183.695842\" style=\"fill: #1f77b4; stroke: #1f77b4; stroke-width: 2.025\"/>\n    </g>\n   </g>\n   <g id=\"matplotlib.axis_5\">\n    <g id=\"xtick_5\">\n     <g id=\"line2d_30\">\n      <g>\n       <use xlink:href=\"#me251fc430b\" x=\"568.859743\" y=\"257.76\" style=\"stroke: #000000; stroke-width: 0.8\"/>\n      </g>\n     </g>\n     <g id=\"text_25\">\n      <!-- 0 -->\n      <g transform=\"translate(565.678493 272.358437) scale(0.1 -0.1)\">\n       <use xlink:href=\"#DejaVuSans-30\"/>\n      </g>\n     </g>\n    </g>\n    <g id=\"xtick_6\">\n     <g id=\"line2d_31\">\n      <g>\n       <use xlink:href=\"#me251fc430b\" x=\"667.330331\" y=\"257.76\" style=\"stroke: #000000; stroke-width: 0.8\"/>\n      </g>\n     </g>\n     <g id=\"text_26\">\n      <!-- 1 -->\n      <g transform=\"translate(664.149081 272.358437) scale(0.1 -0.1)\">\n       <use xlink:href=\"#DejaVuSans-31\"/>\n      </g>\n     </g>\n    </g>\n    <g id=\"text_27\">\n     <!-- marijuana -->\n     <g transform=\"translate(592.861443 286.036562) scale(0.1 -0.1)\">\n      <use xlink:href=\"#DejaVuSans-6d\"/>\n      <use xlink:href=\"#DejaVuSans-61\" x=\"97.412109\"/>\n      <use xlink:href=\"#DejaVuSans-72\" x=\"158.691406\"/>\n      <use xlink:href=\"#DejaVuSans-69\" x=\"199.804688\"/>\n      <use xlink:href=\"#DejaVuSans-6a\" x=\"227.587891\"/>\n      <use xlink:href=\"#DejaVuSans-75\" x=\"255.371094\"/>\n      <use xlink:href=\"#DejaVuSans-61\" x=\"318.75\"/>\n      <use xlink:href=\"#DejaVuSans-6e\" x=\"380.029297\"/>\n      <use xlink:href=\"#DejaVuSans-61\" x=\"443.408203\"/>\n     </g>\n    </g>\n   </g>\n   <g id=\"matplotlib.axis_6\">\n    <g id=\"ytick_11\">\n     <g id=\"line2d_32\">\n      <g>\n       <use xlink:href=\"#m080f9d6908\" x=\"519.624449\" y=\"248.123564\" style=\"stroke: #000000; stroke-width: 0.8\"/>\n      </g>\n     </g>\n     <g id=\"text_28\">\n      <!-- 0 -->\n      <g transform=\"translate(506.261949 251.922783) scale(0.1 -0.1)\">\n       <use xlink:href=\"#DejaVuSans-30\"/>\n      </g>\n     </g>\n    </g>\n    <g id=\"ytick_12\">\n     <g id=\"line2d_33\">\n      <g>\n       <use xlink:href=\"#m080f9d6908\" x=\"519.624449\" y=\"203.767129\" style=\"stroke: #000000; stroke-width: 0.8\"/>\n      </g>\n     </g>\n     <g id=\"text_29\">\n      <!-- 200 -->\n      <g transform=\"translate(493.536949 207.566347) scale(0.1 -0.1)\">\n       <use xlink:href=\"#DejaVuSans-32\"/>\n       <use xlink:href=\"#DejaVuSans-30\" x=\"63.623047\"/>\n       <use xlink:href=\"#DejaVuSans-30\" x=\"127.246094\"/>\n      </g>\n     </g>\n    </g>\n    <g id=\"ytick_13\">\n     <g id=\"line2d_34\">\n      <g>\n       <use xlink:href=\"#m080f9d6908\" x=\"519.624449\" y=\"159.410693\" style=\"stroke: #000000; stroke-width: 0.8\"/>\n      </g>\n     </g>\n     <g id=\"text_30\">\n      <!-- 400 -->\n      <g transform=\"translate(493.536949 163.209912) scale(0.1 -0.1)\">\n       <use xlink:href=\"#DejaVuSans-34\"/>\n       <use xlink:href=\"#DejaVuSans-30\" x=\"63.623047\"/>\n       <use xlink:href=\"#DejaVuSans-30\" x=\"127.246094\"/>\n      </g>\n     </g>\n    </g>\n    <g id=\"ytick_14\">\n     <g id=\"line2d_35\">\n      <g>\n       <use xlink:href=\"#m080f9d6908\" x=\"519.624449\" y=\"115.054257\" style=\"stroke: #000000; stroke-width: 0.8\"/>\n      </g>\n     </g>\n     <g id=\"text_31\">\n      <!-- 600 -->\n      <g transform=\"translate(493.536949 118.853476) scale(0.1 -0.1)\">\n       <use xlink:href=\"#DejaVuSans-36\"/>\n       <use xlink:href=\"#DejaVuSans-30\" x=\"63.623047\"/>\n       <use xlink:href=\"#DejaVuSans-30\" x=\"127.246094\"/>\n      </g>\n     </g>\n    </g>\n    <g id=\"ytick_15\">\n     <g id=\"line2d_36\">\n      <g>\n       <use xlink:href=\"#m080f9d6908\" x=\"519.624449\" y=\"70.697822\" style=\"stroke: #000000; stroke-width: 0.8\"/>\n      </g>\n     </g>\n     <g id=\"text_32\">\n      <!-- 800 -->\n      <g transform=\"translate(493.536949 74.497041) scale(0.1 -0.1)\">\n       <use xlink:href=\"#DejaVuSans-38\"/>\n       <use xlink:href=\"#DejaVuSans-30\" x=\"63.623047\"/>\n       <use xlink:href=\"#DejaVuSans-30\" x=\"127.246094\"/>\n      </g>\n     </g>\n    </g>\n    <g id=\"text_33\">\n     <!-- count -->\n     <g transform=\"translate(487.457261 160.98625) rotate(-90) scale(0.1 -0.1)\">\n      <use xlink:href=\"#DejaVuSans-63\"/>\n      <use xlink:href=\"#DejaVuSans-6f\" x=\"54.980469\"/>\n      <use xlink:href=\"#DejaVuSans-75\" x=\"116.162109\"/>\n      <use xlink:href=\"#DejaVuSans-6e\" x=\"179.541016\"/>\n      <use xlink:href=\"#DejaVuSans-74\" x=\"242.919922\"/>\n     </g>\n    </g>\n   </g>\n   <g id=\"line2d_37\">\n    <path d=\"M 568.859743 243.022574 \nL 667.330331 166.618614 \n\" clip-path=\"url(#p68d5687261)\" style=\"fill: none; stroke: #ff7f0e; stroke-width: 2.7; stroke-linecap: square\"/>\n   </g>\n   <g id=\"line2d_38\">\n    <path d=\"M 568.859743 247.68 \nL 568.859743 238.365149 \n\" clip-path=\"url(#p68d5687261)\" style=\"fill: none; stroke: #ff7f0e; stroke-width: 2.7; stroke-linecap: square\"/>\n   </g>\n   <g id=\"line2d_39\">\n    <path d=\"M 667.330331 186.246337 \nL 667.330331 146.990891 \n\" clip-path=\"url(#p68d5687261)\" style=\"fill: none; stroke: #ff7f0e; stroke-width: 2.7; stroke-linecap: square\"/>\n   </g>\n   <g id=\"PathCollection_10\">\n    <g clip-path=\"url(#p68d5687261)\">\n     <use xlink:href=\"#mb1ac0b27e5\" x=\"568.859743\" y=\"243.022574\" style=\"fill: #ff7f0e; stroke: #ff7f0e; stroke-width: 2.025\"/>\n     <use xlink:href=\"#mb1ac0b27e5\" x=\"667.330331\" y=\"166.618614\" style=\"fill: #ff7f0e; stroke: #ff7f0e; stroke-width: 2.025\"/>\n    </g>\n   </g>\n   <g id=\"patch_15\">\n    <path d=\"M 519.624449 257.76 \nL 519.624449 36 \n\" style=\"fill: none; stroke: #000000; stroke-width: 0.8; stroke-linejoin: miter; stroke-linecap: square\"/>\n   </g>\n   <g id=\"patch_16\">\n    <path d=\"M 716.565625 257.76 \nL 716.565625 36 \n\" style=\"fill: none; stroke: #000000; stroke-width: 0.8; stroke-linejoin: miter; stroke-linecap: square\"/>\n   </g>\n   <g id=\"patch_17\">\n    <path d=\"M 519.624449 257.76 \nL 716.565625 257.76 \n\" style=\"fill: none; stroke: #000000; stroke-width: 0.8; stroke-linejoin: miter; stroke-linecap: square\"/>\n   </g>\n   <g id=\"patch_18\">\n    <path d=\"M 519.624449 36 \nL 716.565625 36 \n\" style=\"fill: none; stroke: #000000; stroke-width: 0.8; stroke-linejoin: miter; stroke-linecap: square\"/>\n   </g>\n   <g id=\"legend_3\">\n    <g id=\"patch_19\">\n     <path d=\"M 655.570312 88.034375 \nL 709.565625 88.034375 \nQ 711.565625 88.034375 711.565625 86.034375 \nL 711.565625 43 \nQ 711.565625 41 709.565625 41 \nL 655.570312 41 \nQ 653.570312 41 653.570312 43 \nL 653.570312 86.034375 \nQ 653.570312 88.034375 655.570312 88.034375 \nz\n\" style=\"fill: #ffffff; opacity: 0.8; stroke: #cccccc; stroke-linejoin: miter\"/>\n    </g>\n    <g id=\"text_34\">\n     <!-- cigarettes -->\n     <g transform=\"translate(657.570312 52.598437) scale(0.1 -0.1)\">\n      <use xlink:href=\"#DejaVuSans-63\"/>\n      <use xlink:href=\"#DejaVuSans-69\" x=\"54.980469\"/>\n      <use xlink:href=\"#DejaVuSans-67\" x=\"82.763672\"/>\n      <use xlink:href=\"#DejaVuSans-61\" x=\"146.240234\"/>\n      <use xlink:href=\"#DejaVuSans-72\" x=\"207.519531\"/>\n      <use xlink:href=\"#DejaVuSans-65\" x=\"246.382812\"/>\n      <use xlink:href=\"#DejaVuSans-74\" x=\"307.90625\"/>\n      <use xlink:href=\"#DejaVuSans-74\" x=\"347.115234\"/>\n      <use xlink:href=\"#DejaVuSans-65\" x=\"386.324219\"/>\n      <use xlink:href=\"#DejaVuSans-73\" x=\"447.847656\"/>\n     </g>\n    </g>\n    <g id=\"PathCollection_11\">\n     <g>\n      <use xlink:href=\"#m7e1639b1e6\" x=\"675.386719\" y=\"64.651562\" style=\"fill: #1f77b4; stroke: #1f77b4; stroke-width: 2.025\"/>\n     </g>\n    </g>\n    <g id=\"text_35\">\n     <!-- 0 -->\n     <g transform=\"translate(693.386719 67.276562) scale(0.1 -0.1)\">\n      <use xlink:href=\"#DejaVuSans-30\"/>\n     </g>\n    </g>\n    <g id=\"PathCollection_12\">\n     <g>\n      <use xlink:href=\"#mb1ac0b27e5\" x=\"675.386719\" y=\"79.329687\" style=\"fill: #ff7f0e; stroke: #ff7f0e; stroke-width: 2.025\"/>\n     </g>\n    </g>\n    <g id=\"text_36\">\n     <!-- 1 -->\n     <g transform=\"translate(693.386719 81.954687) scale(0.1 -0.1)\">\n      <use xlink:href=\"#DejaVuSans-31\"/>\n     </g>\n    </g>\n   </g>\n  </g>\n  <g id=\"text_37\">\n   <!-- Interaction plots (alcohol, cigarettes, marijuana) -->\n   <g transform=\"translate(225.933437 16.318125) scale(0.12 -0.12)\">\n    <defs>\n     <path id=\"DejaVuSans-49\" d=\"M 628 4666 \nL 1259 4666 \nL 1259 0 \nL 628 0 \nL 628 4666 \nz\n\" transform=\"scale(0.015625)\"/>\n     <path id=\"DejaVuSans-20\" transform=\"scale(0.015625)\"/>\n     <path id=\"DejaVuSans-70\" d=\"M 1159 525 \nL 1159 -1331 \nL 581 -1331 \nL 581 3500 \nL 1159 3500 \nL 1159 2969 \nQ 1341 3281 1617 3432 \nQ 1894 3584 2278 3584 \nQ 2916 3584 3314 3078 \nQ 3713 2572 3713 1747 \nQ 3713 922 3314 415 \nQ 2916 -91 2278 -91 \nQ 1894 -91 1617 61 \nQ 1341 213 1159 525 \nz\nM 3116 1747 \nQ 3116 2381 2855 2742 \nQ 2594 3103 2138 3103 \nQ 1681 3103 1420 2742 \nQ 1159 2381 1159 1747 \nQ 1159 1113 1420 752 \nQ 1681 391 2138 391 \nQ 2594 391 2855 752 \nQ 3116 1113 3116 1747 \nz\n\" transform=\"scale(0.015625)\"/>\n     <path id=\"DejaVuSans-28\" d=\"M 1984 4856 \nQ 1566 4138 1362 3434 \nQ 1159 2731 1159 2009 \nQ 1159 1288 1364 580 \nQ 1569 -128 1984 -844 \nL 1484 -844 \nQ 1016 -109 783 600 \nQ 550 1309 550 2009 \nQ 550 2706 781 3412 \nQ 1013 4119 1484 4856 \nL 1984 4856 \nz\n\" transform=\"scale(0.015625)\"/>\n     <path id=\"DejaVuSans-2c\" d=\"M 750 794 \nL 1409 794 \nL 1409 256 \nL 897 -744 \nL 494 -744 \nL 750 256 \nL 750 794 \nz\n\" transform=\"scale(0.015625)\"/>\n     <path id=\"DejaVuSans-29\" d=\"M 513 4856 \nL 1013 4856 \nQ 1481 4119 1714 3412 \nQ 1947 2706 1947 2009 \nQ 1947 1309 1714 600 \nQ 1481 -109 1013 -844 \nL 513 -844 \nQ 928 -128 1133 580 \nQ 1338 1288 1338 2009 \nQ 1338 2731 1133 3434 \nQ 928 4138 513 4856 \nz\n\" transform=\"scale(0.015625)\"/>\n    </defs>\n    <use xlink:href=\"#DejaVuSans-49\"/>\n    <use xlink:href=\"#DejaVuSans-6e\" x=\"29.492188\"/>\n    <use xlink:href=\"#DejaVuSans-74\" x=\"92.871094\"/>\n    <use xlink:href=\"#DejaVuSans-65\" x=\"132.080078\"/>\n    <use xlink:href=\"#DejaVuSans-72\" x=\"193.603516\"/>\n    <use xlink:href=\"#DejaVuSans-61\" x=\"234.716797\"/>\n    <use xlink:href=\"#DejaVuSans-63\" x=\"295.996094\"/>\n    <use xlink:href=\"#DejaVuSans-74\" x=\"350.976562\"/>\n    <use xlink:href=\"#DejaVuSans-69\" x=\"390.185547\"/>\n    <use xlink:href=\"#DejaVuSans-6f\" x=\"417.96875\"/>\n    <use xlink:href=\"#DejaVuSans-6e\" x=\"479.150391\"/>\n    <use xlink:href=\"#DejaVuSans-20\" x=\"542.529297\"/>\n    <use xlink:href=\"#DejaVuSans-70\" x=\"574.316406\"/>\n    <use xlink:href=\"#DejaVuSans-6c\" x=\"637.792969\"/>\n    <use xlink:href=\"#DejaVuSans-6f\" x=\"665.576172\"/>\n    <use xlink:href=\"#DejaVuSans-74\" x=\"726.757812\"/>\n    <use xlink:href=\"#DejaVuSans-73\" x=\"765.966797\"/>\n    <use xlink:href=\"#DejaVuSans-20\" x=\"818.066406\"/>\n    <use xlink:href=\"#DejaVuSans-28\" x=\"849.853516\"/>\n    <use xlink:href=\"#DejaVuSans-61\" x=\"888.867188\"/>\n    <use xlink:href=\"#DejaVuSans-6c\" x=\"950.146484\"/>\n    <use xlink:href=\"#DejaVuSans-63\" x=\"977.929688\"/>\n    <use xlink:href=\"#DejaVuSans-6f\" x=\"1032.910156\"/>\n    <use xlink:href=\"#DejaVuSans-68\" x=\"1094.091797\"/>\n    <use xlink:href=\"#DejaVuSans-6f\" x=\"1157.470703\"/>\n    <use xlink:href=\"#DejaVuSans-6c\" x=\"1218.652344\"/>\n    <use xlink:href=\"#DejaVuSans-2c\" x=\"1246.435547\"/>\n    <use xlink:href=\"#DejaVuSans-20\" x=\"1278.222656\"/>\n    <use xlink:href=\"#DejaVuSans-63\" x=\"1310.009766\"/>\n    <use xlink:href=\"#DejaVuSans-69\" x=\"1364.990234\"/>\n    <use xlink:href=\"#DejaVuSans-67\" x=\"1392.773438\"/>\n    <use xlink:href=\"#DejaVuSans-61\" x=\"1456.25\"/>\n    <use xlink:href=\"#DejaVuSans-72\" x=\"1517.529297\"/>\n    <use xlink:href=\"#DejaVuSans-65\" x=\"1556.392578\"/>\n    <use xlink:href=\"#DejaVuSans-74\" x=\"1617.916016\"/>\n    <use xlink:href=\"#DejaVuSans-74\" x=\"1657.125\"/>\n    <use xlink:href=\"#DejaVuSans-65\" x=\"1696.333984\"/>\n    <use xlink:href=\"#DejaVuSans-73\" x=\"1757.857422\"/>\n    <use xlink:href=\"#DejaVuSans-2c\" x=\"1809.957031\"/>\n    <use xlink:href=\"#DejaVuSans-20\" x=\"1841.744141\"/>\n    <use xlink:href=\"#DejaVuSans-6d\" x=\"1873.53125\"/>\n    <use xlink:href=\"#DejaVuSans-61\" x=\"1970.943359\"/>\n    <use xlink:href=\"#DejaVuSans-72\" x=\"2032.222656\"/>\n    <use xlink:href=\"#DejaVuSans-69\" x=\"2073.335938\"/>\n    <use xlink:href=\"#DejaVuSans-6a\" x=\"2101.119141\"/>\n    <use xlink:href=\"#DejaVuSans-75\" x=\"2128.902344\"/>\n    <use xlink:href=\"#DejaVuSans-61\" x=\"2192.28125\"/>\n    <use xlink:href=\"#DejaVuSans-6e\" x=\"2253.560547\"/>\n    <use xlink:href=\"#DejaVuSans-61\" x=\"2316.939453\"/>\n    <use xlink:href=\"#DejaVuSans-29\" x=\"2378.21875\"/>\n   </g>\n  </g>\n </g>\n <defs>\n  <clipPath id=\"p1ccdd28eaf\">\n   <rect x=\"46.965625\" y=\"36\" width=\"196.941176\" height=\"221.76\"/>\n  </clipPath>\n  <clipPath id=\"p4e94a3fa06\">\n   <rect x=\"283.295037\" y=\"36\" width=\"196.941176\" height=\"221.76\"/>\n  </clipPath>\n  <clipPath id=\"p68d5687261\">\n   <rect x=\"519.624449\" y=\"36\" width=\"196.941176\" height=\"221.76\"/>\n  </clipPath>\n </defs>\n</svg>\n"
          },
          "metadata": {}
        }
      ]
    },
    {
      "cell_type": "code",
      "source": [
        "#statsmodels.graphics.factorplots.interaction_plot(x='alcohol', trace='cigarettes', response='count', data=imported_data)"
      ],
      "metadata": {
        "id": "9c0z7nL4nq9i"
      },
      "execution_count": 20,
      "outputs": []
    },
    {
      "cell_type": "markdown",
      "source": [
        "## Model"
      ],
      "metadata": {
        "id": "DSsPJuR3oS2r"
      }
    },
    {
      "cell_type": "code",
      "source": [
        "model_a_c_m = statsmodels.formula.api.glm(formula='count ~ alcohol + cigarettes + marijuana', data = imported_data, family = statsmodels.api.families.Poisson())\n",
        "results_a_c_m = model_a_c_m.fit()\n",
        "\n",
        "print(results_a_c_m.summary())"
      ],
      "metadata": {
        "colab": {
          "base_uri": "https://localhost:8080/"
        },
        "id": "YAKK8R1LoSkA",
        "outputId": "51a98ca6-cfa3-4bba-b0be-6a2b8625e914"
      },
      "execution_count": 49,
      "outputs": [
        {
          "output_type": "stream",
          "name": "stdout",
          "text": [
            "                 Generalized Linear Model Regression Results                  \n",
            "==============================================================================\n",
            "Dep. Variable:                  count   No. Observations:                    8\n",
            "Model:                            GLM   Df Residuals:                        4\n",
            "Model Family:                 Poisson   Df Model:                            3\n",
            "Link Function:                    Log   Scale:                          1.0000\n",
            "Method:                          IRLS   Log-Likelihood:                -667.53\n",
            "Date:                Mon, 15 May 2023   Deviance:                       1286.0\n",
            "Time:                        09:30:42   Pearson chi2:                 1.41e+03\n",
            "No. Iterations:                     5   Pseudo R-squ. (CS):              1.000\n",
            "Covariance Type:            nonrobust                                         \n",
            "==============================================================================\n",
            "                 coef    std err          z      P>|z|      [0.025      0.975]\n",
            "------------------------------------------------------------------------------\n",
            "Intercept      4.5064      0.062     72.254      0.000       4.384       4.629\n",
            "alcohol        1.7851      0.060     29.872      0.000       1.668       1.902\n",
            "cigarettes    -0.6493      0.044    -14.707      0.000      -0.736      -0.563\n",
            "marijuana      0.3154      0.042      7.431      0.000       0.232       0.399\n",
            "==============================================================================\n"
          ]
        }
      ]
    },
    {
      "cell_type": "code",
      "source": [],
      "metadata": {
        "id": "KxEXPA2HoSg3"
      },
      "execution_count": null,
      "outputs": []
    },
    {
      "cell_type": "code",
      "source": [],
      "metadata": {
        "id": "PWtTEo9su61I"
      },
      "execution_count": null,
      "outputs": []
    },
    {
      "cell_type": "code",
      "source": [],
      "metadata": {
        "id": "eSuuXsOxu6tB"
      },
      "execution_count": null,
      "outputs": []
    },
    {
      "cell_type": "code",
      "source": [],
      "metadata": {
        "id": "nIaglfZooSbs"
      },
      "execution_count": null,
      "outputs": []
    },
    {
      "cell_type": "markdown",
      "source": [
        "HW:\n",
        "\n",
        "Read an analysis from https://stats.oarc.ucla.edu/r/dae/poisson-regression/\n",
        "\n",
        "Rerun the analysis with the assumption of over/under dispersion, i.e dispersion parameter not equal to 1. How does results change?\n",
        "\n",
        "Discuss the results and compute the difference in expected number of awards for model with dispersion parameter equal to 1 and smaller/larger. Plot both estimated curves for all programs.\n",
        "\n"
      ],
      "metadata": {
        "id": "STXK8jgBamwZ"
      }
    },
    {
      "cell_type": "code",
      "source": [
        "awards <- read.csv(\"https://stats.idre.ucla.edu/stat/data/poisson_sim.csv\")\n",
        "awards"
      ],
      "metadata": {
        "id": "Li8flpIMarBD"
      },
      "execution_count": null,
      "outputs": []
    },
    {
      "cell_type": "code",
      "source": [],
      "metadata": {
        "id": "QnXow9vjazkz"
      },
      "execution_count": null,
      "outputs": []
    }
  ]
}