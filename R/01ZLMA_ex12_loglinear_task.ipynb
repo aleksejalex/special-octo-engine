{
  "nbformat": 4,
  "nbformat_minor": 0,
  "metadata": {
    "colab": {
      "private_outputs": true,
      "provenance": [],
      "include_colab_link": true
    },
    "kernelspec": {
      "name": "ir",
      "display_name": "R"
    }
  },
  "cells": [
    {
      "cell_type": "markdown",
      "metadata": {
        "id": "view-in-github",
        "colab_type": "text"
      },
      "source": [
        "<a href=\"https://colab.research.google.com/github/aleksejalex/special-octo-engine/blob/main/R/01ZLMA_ex12_loglinear_task.ipynb\" target=\"_parent\"><img src=\"https://colab.research.google.com/assets/colab-badge.svg\" alt=\"Open In Colab\"/></a>"
      ]
    },
    {
      "cell_type": "markdown",
      "metadata": {
        "id": "x-i6MbNFm4Zt"
      },
      "source": [
        "# 01ZLMA - Exercise 12\n",
        "Exercise 12 of the course 01ZLMA. \n",
        "\n",
        "## Contents\n",
        "\n",
        "* Log-linear models with Poisson/count data\n",
        " ---\n"
      ]
    },
    {
      "cell_type": "code",
      "source": [],
      "metadata": {
        "id": "fT49exZeR_w-"
      },
      "execution_count": null,
      "outputs": []
    },
    {
      "cell_type": "code",
      "source": [
        "drugs = read.table(\"https://raw.githubusercontent.com/francji1/01ZLMA/main/data/drugs.txt\", header = TRUE, sep = \";\", dec = \".\")\n",
        "drugs"
      ],
      "metadata": {
        "id": "4HrxYqIWR_z3"
      },
      "execution_count": null,
      "outputs": []
    },
    {
      "cell_type": "markdown",
      "source": [
        "Tasks:\n",
        "\n",
        "* Convert the data to the appropriate format and data type to use the loglinear glm model:\n",
        "\n",
        "\n",
        "* Draw interactions between individual drug addictions.\n",
        "\n",
        "\n",
        "* Create models with mutually independent variables, pairwise dependent and saturated model.\n",
        "\n",
        "\n",
        "* Is the model with independent variables of sufficient quality? What is the chance that the person in the study will use marijuana? What is the probability that the person in the study will drink alcohol? List the appropriate test to confirm the quality of the model.\n",
        "\n",
        "\n",
        "* Test a model where all variables are mutually dependent and the conditional ratios of the sum of two variables do not depend on the third variable.\n",
        "What is the ratio of smoking for turkey among alcoholics than abstinent?\n",
        "Answer: Among alcoholics, there is a chance that smoking will be X times bigger/smaller.\n",
        "\n",
        "\n",
        "* Is the model with mutual interactions of sufficient quality, or is there a need to switch to a saturated model?\n",
        "\n",
        "\n",
        "* For all models, provide predictions of expected dependence counts and residual virgin statistics.\n",
        "\n",
        "\n",
        "* Among abstinents, is there less of a chance that smoking marijuana will also be smoking cigarettes or vice versa?"
      ],
      "metadata": {
        "id": "nZKd13VnaCt_"
      }
    },
    {
      "cell_type": "code",
      "source": [],
      "metadata": {
        "id": "Kj4CEtyyR_2Z"
      },
      "execution_count": null,
      "outputs": []
    },
    {
      "cell_type": "code",
      "source": [],
      "metadata": {
        "id": "xg3YbdVWameC"
      },
      "execution_count": null,
      "outputs": []
    },
    {
      "cell_type": "markdown",
      "source": [
        "HW:\n",
        "\n",
        "Read an analysis from https://stats.oarc.ucla.edu/r/dae/poisson-regression/\n",
        "\n",
        "Rerun the analysis with the assumption of over/under dispersion, i.e dispersion parameter not equal to 1. How does results change?\n",
        "\n",
        "Discuss the results and compute the difference in expected number of awards for model with dispersion parameter equal to 1 and smaller/larger. Plot both estimated curves for all programs.\n",
        "\n"
      ],
      "metadata": {
        "id": "STXK8jgBamwZ"
      }
    },
    {
      "cell_type": "code",
      "source": [
        "awards <- read.csv(\"https://stats.idre.ucla.edu/stat/data/poisson_sim.csv\")\n",
        "awards"
      ],
      "metadata": {
        "id": "Li8flpIMarBD"
      },
      "execution_count": null,
      "outputs": []
    },
    {
      "cell_type": "code",
      "source": [],
      "metadata": {
        "id": "QnXow9vjazkz"
      },
      "execution_count": null,
      "outputs": []
    }
  ]
}