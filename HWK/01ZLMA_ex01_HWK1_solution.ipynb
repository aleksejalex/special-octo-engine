{
  "nbformat": 4,
  "nbformat_minor": 0,
  "metadata": {
    "colab": {
      "name": "01ZLMA_ex01.ipynb",
      "private_outputs": true,
      "provenance": [],
      "include_colab_link": true
    },
    "kernelspec": {
      "name": "python3",
      "display_name": "Python 3"
    },
    "language_info": {
      "name": "python"
    },
    "gpuClass": "standard"
  },
  "cells": [
    {
      "cell_type": "markdown",
      "metadata": {
        "id": "view-in-github",
        "colab_type": "text"
      },
      "source": [
        "<a href=\"https://colab.research.google.com/github/aleksejalex/special-octo-engine/blob/main/HWK/01ZLMA_ex01_HWK1_solution.ipynb\" target=\"_parent\"><img src=\"https://colab.research.google.com/assets/colab-badge.svg\" alt=\"Open In Colab\"/></a>"
      ]
    },
    {
      "cell_type": "markdown",
      "metadata": {
        "id": "V4SOhd00XJ9g"
      },
      "source": [
        "##  Necessary theory recap from Lectures 01-03\n",
        "\n",
        "Let's consider (m1):\n",
        "  1. realization $(y_i,\\ldots,y_n)$ of $iid$ random variables $Y_1,\\ldots,Y_n$ with probability density function $f(y;\\theta;\\phi)$ from an exponential family of probability distributions\n",
        "  $$f(y;\\theta;\\phi) = exp\\left(\\frac{y \\theta - b(\\theta)}{a(\\phi)} - c(y,\\phi)\\right),$$\n",
        "  where conditions of regularity are fulfilled (one dimensional case, i.e. $y_i,\\theta_i \\in R, a(\\phi) >0, \\phi >0)$.\n",
        "  2. Regression matrix $X$ and vector of unknown parameters $\\beta$, linear predictor $η = X \\beta$\n",
        "  3. A link function $g(x)$\n",
        "  $$\\eta_i = g(\\mu_i) = x_i^T \\beta, \\ \\text{where} \\ \\mu_i = E[Y_i] \\ \\ i = 1,\\ldots,n$$\n",
        "\n",
        "The dispersion $a(\\phi)$ is typically known. If not, we take it as nuisance parameter.\n",
        "\n",
        "Link function satisfying $g(\\mu_i) = \\theta_i$ is called canonical."
      ]
    },
    {
      "cell_type": "markdown",
      "metadata": {
        "id": "SpQUiXf-QkGA"
      },
      "source": [
        "For $b(\\theta) \\in C^2$ we showed:\n",
        "$$E[Y] = b'(\\theta) $$\n",
        "$$V[Y] = a(\\phi) b''(\\theta) $$\n",
        "and defined variance function $v(\\mu) = \\frac{\\partial \\mu}{\\partial \\theta}$, i.e. $V[Y] = a(\\phi) v(\\mu)$"
      ]
    },
    {
      "cell_type": "markdown",
      "metadata": {
        "id": "lcJB1uOTZEBZ"
      },
      "source": [
        "Relations:\n",
        "\n",
        "$$\n",
        "\\beta \\xrightarrow[]{\\eta_i = x_i^T\\beta} \\eta\n",
        "\\xrightarrow[]{\\mu_i = g^{-1}(\\eta_i)}  \\mu\n",
        "\\xrightarrow[]{\\theta_i = (b')^{-1}(\\mu_i)}  \\theta\n",
        "$$ \n",
        "\n",
        "Inverse relatiions\n",
        "$$\n",
        "\\eta_i \n",
        "\\xleftarrow[]{}  \\mu\n",
        "\\xleftarrow[]{}  \\theta\n",
        "$$ \n"
      ]
    },
    {
      "cell_type": "markdown",
      "source": [
        "**Lemma**:\n",
        "Let Y have an exponential type distribution with density given in m1, where $b(\\theta)$ is 2 times continuously differentiable, then there exists a everywhere finite moment generating function $M_Y(t) = E[e^{ty}]$ that is 2 times differentiable at 0 and it holds:\n",
        "* $E[Y] = b'(\\theta)$ \n",
        "* $V[Y] = a(\\phi) b''(\\theta)$"
      ],
      "metadata": {
        "id": "mR9oONJlaTJu"
      }
    },
    {
      "cell_type": "code",
      "source": [],
      "metadata": {
        "id": "5q_OCb8iaSTh"
      },
      "execution_count": null,
      "outputs": []
    },
    {
      "cell_type": "markdown",
      "metadata": {
        "id": "w2c7jDIXSGGL"
      },
      "source": [
        "## HW 01\n",
        "\n",
        "Compute $E[Y]$, $V[Y]$, and $v(Y)$ by the help of moment generating function theory for the following disributions:\n",
        "* Normal: $N(\\mu,\\sigma^2)$\n",
        "* Poisson: $Poi(\\lambda)$\n",
        "* Bernoulli: $Ber(p)$\n",
        "* Gamma: $\\Gamma[a,p]$\n",
        "* Inverse: Gaussian $IG[\\mu, \\lambda]$\n",
        "\n",
        "\n",
        "Questions:\n",
        "* Which distributions can fulfill homoscedasticity?\n",
        "* For which distribution the variance increases with the square of the mean value?\n",
        "* Does exists a distribution, where $V[Y] = k \\cdot \\mu$ ?\n"
      ]
    },
    {
      "cell_type": "markdown",
      "source": [
        "## Solution"
      ],
      "metadata": {
        "id": "OEuIKhcKXSpr"
      }
    },
    {
      "cell_type": "markdown",
      "source": [
        "\n",
        "\n",
        "####  Normal: $N(\\mu,\\sigma^2)$\n",
        "$f(y, \\mu, \\sigma^2) = \\frac{1}{\\sqrt {{(2\\pi )} \\sigma^2}}  {\\mathrm {e}}^-{\\frac{{\\left(y- \\mu \\right)}^{T}{\\left( y-\\mu \\right)}}{\\sigma^2}} = {\\mathrm {e}}^{\\frac{y \\mu - \\frac{\\mu^2}{2}}{\\sigma^2} - \\left(  \\frac{y^2}{2\\sigma^2} + \\frac{1}{2} ln(2 \\pi \\sigma^2) \\right)}$\n",
        "\n",
        "* $\\theta = \\mu  \\Rightarrow b(\\theta) = \\frac{\\mu^2}{2}$\n",
        "* $\\phi = \\sigma^2 ⇒ a(\\phi) = \\sigma^2$\n",
        "*  $E[Y] = b'(\\theta) = \\mu$\n",
        "* $V[Y] = \\sigma^2 b''(\\theta)= \\sigma^2 $\n",
        "\n",
        "Linear variance function: $v(\\mu) = 1$\n"
      ],
      "metadata": {
        "id": "c9bkyLnEetFA"
      }
    },
    {
      "cell_type": "markdown",
      "source": [
        "\n",
        "\n",
        "\n",
        "####  Poisson: $Poi(\\lambda)$\n",
        "\n",
        "$f(x,\\lambda) = \\frac{\\lambda^x e^{-\\lambda}}{x!} = exp(x ln(\\lambda)  -\\lambda -ln(x!)) $\n",
        "\n",
        "* $\\theta = ln(\\lambda) \\Rightarrow b(\\theta) = e^{\\theta}  \\ \\text{and} \\  \\phi = 1$\n",
        "*  $E[Y] = b'(\\theta) = e^{\\theta} = \\lambda$\n",
        "* $V[Y] = b''(\\theta)=e^{\\theta} = \\lambda$\n",
        "\n",
        "Linear variance function: $v(\\mu) = \\mu$\n",
        "\n",
        "\n"
      ],
      "metadata": {
        "id": "1r_Cb5Roerth"
      }
    },
    {
      "cell_type": "code",
      "source": [
        "import numpy as np\n",
        "import scipy as scp\n",
        "import sympy as sp"
      ],
      "metadata": {
        "id": "25bvwZADXcBy"
      },
      "execution_count": null,
      "outputs": []
    },
    {
      "cell_type": "code",
      "source": [
        "sp.init_printing(use_unicode=True, wrap_line=False)\n",
        "x = sp.Symbol('x')\n",
        "sp.integrate(x**2 + x + 1, x)"
      ],
      "metadata": {
        "id": "VtTrxhp3XcFJ"
      },
      "execution_count": null,
      "outputs": []
    },
    {
      "cell_type": "code",
      "source": [
        "f = sp.Function('f')\n",
        "f = x**2 + 5"
      ],
      "metadata": {
        "id": "GkGHjwwjXbBm"
      },
      "execution_count": null,
      "outputs": []
    },
    {
      "cell_type": "code",
      "source": [
        "sp.integrate(f,x)"
      ],
      "metadata": {
        "id": "JPoP9DyHJ8rX"
      },
      "execution_count": null,
      "outputs": []
    },
    {
      "cell_type": "markdown",
      "source": [
        "![image.png](data:image/png;base64,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)"
      ],
      "metadata": {
        "id": "kltaZtDVKdSt"
      }
    },
    {
      "cell_type": "code",
      "source": [
        "inv_gauss = sp.Function('inv_gauss')\n",
        "x, mi, lmbda = sp.symbols('x, mi, lmbda')\n",
        "\n",
        "inv_gauss = sp.sqrt( (lmbda)/(2*sp.pi * x**3) ) * sp.exp(- (lmbda*(x-mi)**2)/(2*mi**2*x) )\n",
        "sp.pprint(inv_gauss)"
      ],
      "metadata": {
        "id": "Bl1xaiROKFDY"
      },
      "execution_count": null,
      "outputs": []
    },
    {
      "cell_type": "code",
      "source": [
        "sp.integrate(inv_gauss * x, x)"
      ],
      "metadata": {
        "id": "VzodldKDKKgN"
      },
      "execution_count": null,
      "outputs": []
    },
    {
      "cell_type": "code",
      "source": [
        "sp.integrate(inv_gauss * x, (x, -sp.oo, sp.oo))"
      ],
      "metadata": {
        "id": "7krKR0iVLwbY"
      },
      "execution_count": null,
      "outputs": []
    },
    {
      "cell_type": "code",
      "source": [
        "sp.integrate(inv_gauss * x, (x, -1, 1))"
      ],
      "metadata": {
        "id": "wYQ9xfy3Muok"
      },
      "execution_count": null,
      "outputs": []
    },
    {
      "cell_type": "markdown",
      "source": [
        "![image.png](data:image/png;base64,iVBORw0KGgoAAAANSUhEUgAAASwAAAAZCAYAAACLvRPfAAAI+klEQVR4nO2c3XHjRhaFP7r21WUqgqUSsEgnIHICsCknYGoCWEsbgEd0AiPt+9pUAh4qAYtaByCNA7A1EQy9CdAPt0+hCaGBBgjwx8apQpEEAXSj+/6evgC0aNGiRYsWLVq0aHFI6AJPwGrXHdkxesDFBudfAMsNr9GiRYsInAOLXXdih5gDMzYfg2dgsHl3Wvyd0XPbttHlcIR3BlyVOL6P3d+hoEuxDAzZzGD1sAirRfPoAafsRq8BRpi8ZOKTgpOPgEngAn1MGdOCdOyOP43vY2ksMSNw1mAbdWEIPGDjdUW+8ZqQpD+Hgg4mB006kBGJwbtw7TWtUF1gjM1X020NMDnZlZEAu9932Di/YndOU3ryOzmGKwvHWBh+hXEw/mB23QXTQtrHbngFvK/W32gcYfzQPkdaPWws+iTCPw8c28fGOyQomsh9xBfYXBwF/t80wpphhuoCGx+NaVPoAx9de8+YrDeFa9fGit064KnrQ0j+Blhf77H5ON6grR5mHPNwi81BNG4x5ZpjHt83WFOs01noYDd+U6axiniNDeC+4hwb9B9JBCEkEAt3vA9N7CM2B/vMhd1gMpOFLIPVx+QotPne9RkbR+1rOhJ5IJHvGWFZrwuXmM6EDP42MCe8OCRnquDgHJPHMkarg8nHo2tn5faFIAMaBXmxqfdbOMKEJ9TZEdvzFh1sIEdbaKsKxF9NyE/zRth9pNElUdIF+22wjrF5z5KLTSIs8Vc9LIobV7xOLORwp0UH1og5dm95ClyEARYRXmF9L0uZKDPK6sMCi67S+0LZQghDTKbz2hKmWceEOCxZUgmZr2xj4P9kK5g65Z/bJFaYN5xsoa0qkKLOgM/cvqy07lvgLmP/vkdVPp6BX6nfoIi/enaffSwiaTrK2lYpSgf4CpPjKm0OsHGZYDTMA5Z1PGDRTJl+kNGHY4yP/pDa/+D2lzGyCzbkZ9MGS2H6d+73l7wkHb8isZBZOMUGTvnnGZbW+IJ8QZiD6AJvMYvexQbsijCxW2Xg6sAYS/Xkxc7db79WSN4EbEyuyU4vhpiH3TeIiJWRFY9xzcu5WGH3miZKFWHqeykiFTghGUNdf0XYYW6CY+CN+36K9deP3kfY/N1jY+BHk0N3/FsSozqjmGtLO3jJv08jhDBy/R1jTu/ebQv3WWaMQvos3c+STz8D2Al62AqBPNorbFD8gXsiHC6n+asbTJGvSSZEAhdSUAn1AiM7Z679V+68tKJof1H+P3D3ErvlefAeFg6PXdtz1sPdMvyd0u+itHYXKeEcu9dnErK1C/wbc0jpMb+kJFG6Z/DlbOa+yyi9xmRWujDExkUOS6vmKyyyGZAY8Two9TnyrjHGZD9PJrToVNdqXki+xK+l+zIN7I9tq5aUUIJ55L7/7H77YdwJ4bDO9xY32OA/YtZfBuoJS3/SObF/jQU2ER0S/udn9386/ZOCFHmynrt27JZ3vYm7PymsDPISi/j+RXzEJwMc6w23FUmKO/qAzcUfJHPxk9uXnov3JPN2iFiSLOJ8wGROq+H/xZRIsq9U/wcS46HxeI/J/RlhOReUkfzTna8yoh75q5NDd+06SmB6mF6HoqhdYIbJ3NrTDf/IOHAFfA58n/GfBDEUHclgfYdZZuXQRyQDuySf57hwx5+wHqmo7XTkE5tKvaN4KTUWIkk1qL5nqsqt1JninGMKEIOQZ1WtWx/j33yCVVFHWpj/qo8gSV7T47TAUrIh67IlvqeIlO5gBmuJpYByXiLP84xRH5vjPHn74K4bgh6ZGgP/IUmHQ33dJhRhvsWoqVtglmWwFOLlGYKQ1RU594BN1juSJdBYPJGE2f6En3r/x/SlSWhFxy9oFE54SVDWhVihWRC/5BwylEu3qdTCnwtFn+l7P9TIqgiSvZAc9zFZL3v/cvB3mPH4iMnUU05bguYnr97xt4hrqO0vsXtI65d+78IZjUn4wKA9yqsJ6WA3mcVhpZeDxe9oUsqQcze8zF+1L62IKqMoyqWvSKKJmK3oQVst419m7CvDYYnriOGwHti+UVjwUlhUm5eWka8p5ib2HVllDSG+Rrrilw+siC/w9fkrsHGWEyh6RGtEvaUXz2RHhJLpdFs3mAxUmesYDkt6XbjqfIt1PnSxBdkDlW5A5Hofm1Cdo2LIvBqRJ9aXZLuY98lqVyRpzMB1SmxFmLBukCHhOMoUAEpB9tVgaVFB6BOus5vSzOrdtpFWUClturBXuqL51pMNsQYr7Qz89HxOsRzNqa/if0F4weSJl07YL67F9eOeuBKjyqR7Ft6TXRPkXyjLEqdL+xU5DFkffBmy0OrJEUkl7AUmBI+Eo5ZdKcktSZ1UH+tr1UeFnliP1IQeJvxvMGH66L5v4/k2SJzQkuSh1EdeKq4wI1929h1DbHxXmPK9IRnnc0zORIrrsZ2+d+7MO7dojuSofFJ+7s71HXweupjhGLG5I8szImeYDKQr3X1jeeHOz1slnmJj+rs7Nk+WMw1WmsPqYIR73qMIc2zVL4171xHl3o9YijBkfbl7gQ1AKOVSxPI1RiqeY0vKoSK4E7avJCJLtVI0xgz9kGqrNnfu3LcZ//3hrv2Lt++kQhtVoLkYAN+4voTmouOO32aFeBP4Hxa1d0iKfcHI6wU213rOdsC6gt66rUPxooeiOF/XJpiudMknwIUlJoeXbvsU40+VIT2TT7qH+pXGO9fWG9c3GWo/UNCKZR6VssSc8y8kxih2cWgNStvkUYsIW58Yr4qQkbkmnuBTNLbJg5hVkMVfbXq9sqnkNpDFX4XwCruHQ3o1zl8NHZK3pRTVEqYRk6bFoOzjOiHkpoRacbiMbPCMzYoYJ4TTCp94LMKU4jqXJnBO/W8MuGG/opOslCXv2DvaN4IeMsoECiHo9Uh1INdgqQRBBZsxuCVsdIqQZRRF5vpbHvRKk217dD3V7vNsdUBV8k2+NiUW4iO0FTmQ1xHHtNhvaFV/k+dy64quuhjtkBvdV0lHrtmdgs3ZXfrR1Epdl+ZfZVI39JhSmwoePlRXeMfuXiigt0BMaWWqRYsWETjkOroWLVq02A/8CbWIflWuUWzEAAAAAElFTkSuQmCC)"
      ],
      "metadata": {
        "id": "WcR75lydL-Nw"
      }
    },
    {
      "cell_type": "code",
      "source": [
        "ber = sp.Function('ber')\n",
        "k, p = sp.symbols('k, p')\n",
        "\n",
        "ber = p**k * (1-p)**(1-k)\n",
        "sp.pprint(ber)"
      ],
      "metadata": {
        "id": "3KC4FhKpLwYQ"
      },
      "execution_count": null,
      "outputs": []
    },
    {
      "cell_type": "code",
      "source": [
        "sp.integrate(ber * k, (k, 0, 1))"
      ],
      "metadata": {
        "id": "-hRKMXUnLwVh"
      },
      "execution_count": null,
      "outputs": []
    },
    {
      "cell_type": "code",
      "source": [],
      "metadata": {
        "id": "XcAMapgrLwSi"
      },
      "execution_count": null,
      "outputs": []
    },
    {
      "cell_type": "code",
      "source": [],
      "metadata": {
        "id": "LHvaoi-DLwCe"
      },
      "execution_count": null,
      "outputs": []
    }
  ]
}