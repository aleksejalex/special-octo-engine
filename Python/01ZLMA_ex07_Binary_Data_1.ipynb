{
  "cells": [
    {
      "cell_type": "markdown",
      "metadata": {
        "id": "view-in-github",
        "colab_type": "text"
      },
      "source": [
        "<a href=\"https://colab.research.google.com/github/aleksejalex/special-octo-engine/blob/main/Python/01ZLMA_ex07_Binary_Data_1.ipynb\" target=\"_parent\"><img src=\"https://colab.research.google.com/assets/colab-badge.svg\" alt=\"Open In Colab\"/></a>"
      ]
    },
    {
      "cell_type": "markdown",
      "metadata": {
        "id": "oD47O_0VwUBm"
      },
      "source": [
        "Exercise 07 of the course 01ZLMA. \n",
        "\n",
        "# GLM for Discrete response - Binary Data Analysis\n",
        "\n",
        "Alternative and Binomial responses"
      ]
    },
    {
      "cell_type": "markdown",
      "metadata": {
        "id": "l2EHCMAWUHT6",
        "lines_to_next_cell": 0
      },
      "source": [
        "**Bernoulli (Alternative) Model**\n",
        "\n",
        "$$Y_{i,j} \\sim Be(\\pi_i) \\ i = 1,\\ldots,K \\ \\text{and} \\ j = 1,\\ldots, n_i.$$\n",
        "$K$ is number of groups, $n_i$ is number of observations in group $i$ and $\\sum_{i=1}^{K} = N$\n",
        "$$ E[Y_{i,j}] = \\pi_i \\ \\text{and} \\ g(\\pi_i) = \\eta_i =x_i^T \\beta $$\n",
        "\n",
        "\n",
        "**Binomial Model**\n",
        "$$Y_i = \\sum_{j=1}^{n_i} Y_{i,j} \\sim Bi(n_i, \\pi_i)$$"
      ]
    },
    {
      "cell_type": "markdown",
      "metadata": {
        "id": "urFC1XzcWd1t"
      },
      "source": [
        "**Without continuos covariate (only factor variables)**\n",
        "\n",
        "$K$ is constant and $n_i \\rightarrow \\infty $\n",
        "\n",
        "**With at least one continuos covariate**\n",
        "\n",
        "$n_i \\approx 1$ ( $n_i$ is small enough) and $K \\rightarrow \\infty$\n",
        "\n"
      ]
    },
    {
      "cell_type": "markdown",
      "metadata": {
        "id": "lSgD34dQW1cE"
      },
      "source": [
        "## Link functions for binary data\n",
        "\n",
        "**Logistic function:**\n",
        "\n",
        "The logistic function is the canonical link function for binary responses, and it is CDF of the standard logistic distribution.\n",
        "\n",
        "$$\\pi_i = \\frac{1}{1+e^{-x_i^T \\beta}} $$ \n",
        "\n",
        "\n",
        "**Probit function:**\n",
        "\n",
        "The CDF of the normal distribution. \n",
        "$$\\pi_i = \\Phi({x_i^T \\beta}) $$ \n",
        "\n",
        "\n",
        "**Cauchit function:**\n",
        "\n",
        "The CDF of the Cauchy distribution\n",
        "\n",
        "$$\\pi_i = \\frac{1}{\\pi}\\text{arctan}(x_i^T \\beta) + \\frac{1}{2} $$ \n",
        "\n",
        "\n",
        "**Complementary log-log (cloglog) function:**\n",
        "\n",
        "The inverse of the conditional log-log function (CDF of the Gumbel distribution)\n",
        "\n",
        "$$\\pi_i = 1 − e^{-e^{x_i^T \\beta}}$$\n",
        "\n",
        "The counter part of the cloglog function is log-log link function."
      ]
    },
    {
      "cell_type": "code",
      "execution_count": null,
      "metadata": {
        "id": "Jv5SOQ0TUHT7",
        "vscode": {
          "languageId": "r"
        }
      },
      "outputs": [],
      "source": [
        "import numpy as np\n",
        "import scipy\n",
        "from scipy import stats\n",
        "\n",
        "import statsmodels.api as sm\n",
        "import statsmodels.formula.api as smf\n",
        "\n",
        "from sklearn import datasets\n",
        "from sklearn.model_selection import train_test_split\n",
        "\n",
        "import matplotlib.pyplot as plt\n",
        "import seaborn as sns\n",
        "from statsmodels.graphics.api import abline_plot\n",
        "\n",
        "import pandas as pd\n",
        "\n",
        "from dfply import *  # handy module to mimic R dplyr library\n",
        "\n",
        "from helpers import Anova"
      ]
    },
    {
      "cell_type": "code",
      "execution_count": null,
      "metadata": {
        "id": "lQU7i-aH97g5"
      },
      "outputs": [],
      "source": [
        "x = np.tile(np.linspace(-5, 5, 101), 4).reshape(4, -1)\n",
        "y = []\n",
        "names =[]\n",
        "\n",
        "for i, j in enumerate(zip((\"logit\", \"probit\", \"cauchit\", \"cloglog\"), \n",
        "                (sm.genmod.families.links.Logit(), sm.genmod.families.links.probit(), \n",
        "                 sm.genmod.families.links.cauchy(), sm.genmod.families.links.CLogLog()))):\n",
        "    \n",
        "    y.append(j[1].inverse(x[i]))\n",
        "    names.append([j[0]]*len(x[i]))\n",
        "    \n",
        "y = np.array(y).flatten()\n",
        "n = np.array(names).flatten()\n",
        "\n",
        "fig, ax = plt.subplots()\n",
        "\n",
        "\n",
        "\n",
        "sns.lineplot(x='x', y='y', data=pd.DataFrame(data={'x': x.flatten(), 'y': y, 'n': n}), ax=ax, hue='n')\n",
        "    \n",
        "\n",
        "ax.legend()\n",
        "plt.show()\n"
      ]
    },
    {
      "cell_type": "markdown",
      "metadata": {
        "id": "dnlQ4vEGYGOH"
      },
      "source": [
        "## Logistic regression with Titanic dataset\n",
        "\n",
        "https://www.kaggle.com/c/titanic/data\n",
        "\n",
        "| Variable |                 Definition                 |                       Key                      |\n",
        "|:--------:|:------------------------------------------:|:----------------------------------------------:|\n",
        "| survival | Survival                                   | 0 = No, 1 = Yes                                |\n",
        "| pclass   | Ticket class                               | 1 = 1st, 2 = 2nd, 3 = 3rd                      |\n",
        "| sex      | Sex                                        |                                                |\n",
        "| Age      | Age in years                               |                                                |\n",
        "| sibsp    | # of siblings / spouses aboard the Titanic |                                                |\n",
        "| parch    | # of parents / children aboard the Titanic |                                                |\n",
        "| ticket   | Ticket number                              |                                                |\n",
        "| fare     | Passenger fare                             |                                                |\n",
        "| cabin    | Cabin number                               |                                                |\n",
        "| embarked | Port of Embarkation                        | C = Cherbourg, Q = Queenstown, S = Southampton |"
      ]
    },
    {
      "cell_type": "code",
      "execution_count": null,
      "metadata": {
        "id": "A9LyTnb997g6"
      },
      "outputs": [],
      "source": [
        "X, y = datasets.fetch_openml(\"titanic\", version=1, as_frame=True, return_X_y=True)\n",
        "X_train, X_test, y_train, y_test = train_test_split(X, y, stratify=y, test_size=0.2)\n",
        "\n",
        "titanic_train = pd.concat([X_train, y_train], axis=1)\n",
        "titanic_test = pd.concat([X_test, y_test], axis=1)"
      ]
    },
    {
      "cell_type": "code",
      "execution_count": null,
      "metadata": {
        "id": "Bf0PifhV97g7"
      },
      "outputs": [],
      "source": [
        "titanic_train"
      ]
    },
    {
      "cell_type": "code",
      "execution_count": null,
      "metadata": {
        "id": "4ePo6BcJ97g7"
      },
      "outputs": [],
      "source": [
        "titanic_train.describe(include = 'all')"
      ]
    },
    {
      "cell_type": "code",
      "execution_count": null,
      "metadata": {
        "id": "Ii0qvC0j97g7"
      },
      "outputs": [],
      "source": [
        "titanic_test.describe(include = 'all')"
      ]
    },
    {
      "cell_type": "code",
      "execution_count": null,
      "metadata": {
        "id": "AfwAohjgfMvg",
        "vscode": {
          "languageId": "r"
        }
      },
      "outputs": [],
      "source": [
        "# Number of NA's\n",
        "print(titanic_train.isna().sum())\n",
        "titanic_test.isna().sum()"
      ]
    },
    {
      "cell_type": "markdown",
      "metadata": {
        "id": "TV0KbD9KZ_bz"
      },
      "source": [
        "We will modify train dataset for our academic purpose :-)"
      ]
    },
    {
      "cell_type": "markdown",
      "metadata": {
        "id": "su9BUYSwb_HX"
      },
      "source": [
        "### Model where all covariates are discrete\n",
        "\n",
        "for categorical data in pandas see https://pandas.pydata.org/docs/user_guide/categorical.html"
      ]
    },
    {
      "cell_type": "code",
      "execution_count": null,
      "metadata": {
        "id": "ZtEboSVjZ-wD",
        "vscode": {
          "languageId": "r"
        }
      },
      "outputs": [],
      "source": [
        "data_dis = titanic_train[['survived','pclass','sex','embarked']]\n",
        "\n",
        "# or use dfply module\n",
        "#data_dis = titanic_train >> select(titanic_train.survived, titanic_train.pclass, titanic_train.sex,\n",
        "#                                   titanic_train.embarked)\n",
        "print(data_dis.dtypes)\n",
        "\n",
        "# dfply does not have mutate_if func  just mutate :(\n",
        "data_dis_ = data_dis.apply(lambda x: x.astype('category') if str(data_dis['pclass'].dtype) == 'str' else x)\n",
        "print(data_dis_.dtypes)\n",
        "\n",
        "# only pandas\n",
        "data_dis = data_dis[data_dis.embarked.isin(('C', 'S', 'Q'))]  # filter\n",
        "data_dis = data_dis.rename(columns = {'pclass':'class_'})  # rename\n",
        "data_dis = data_dis.astype('category')  # `categorize` \n",
        "\n",
        "# pandas pipe functionality\n",
        "data_dis2=(\n",
        "     data_dis\n",
        "    .pipe(lambda df: df['embarked'].isin(('C', 'S', 'Q')))  # filter\n",
        "    .rename({'pclass':'class_'})  # rename\n",
        "    .astype('category') # `categorize` \n",
        ")\n",
        "\n",
        "# with pandas + dfply\n",
        "data_dis3 = data_dis >> \\\n",
        "            filter_by(data_dis.embarked.isin(('C', 'S', 'Q')) )  >> \\\n",
        "            transmute(survived = data_dis.survived.astype('category'),\n",
        "                      class_ = data_dis.class_.astype('category'),\n",
        "                      sex = data_dis.sex.astype('category'),\n",
        "                      embarked = data_dis.embarked.astype('category'))\n",
        "  \n",
        "  \n",
        "\n",
        "print(data_dis.describe(include='all'))\n",
        "data_dis.dtypes"
      ]
    },
    {
      "cell_type": "code",
      "execution_count": null,
      "metadata": {
        "id": "0Yuqo_ov97g8"
      },
      "outputs": [],
      "source": [
        "data_dis"
      ]
    },
    {
      "cell_type": "code",
      "execution_count": null,
      "metadata": {
        "id": "UT2_FST2eRRX",
        "vscode": {
          "languageId": "r"
        }
      },
      "outputs": [],
      "source": [
        "# TODO implementation of ggpairs like function pending\n",
        "\n",
        "g = sns.PairGrid(data=data_dis, vars=['survived', 'class_', 'sex','embarked'])\n",
        "g.map_diag(sns.countplot)\n",
        "g.map_lower(sns.histplot)\n",
        "g.map_upper(sns.scatterplot)"
      ]
    },
    {
      "cell_type": "code",
      "execution_count": null,
      "metadata": {
        "id": "0hEzOim2hR6o",
        "vscode": {
          "languageId": "r"
        }
      },
      "outputs": [],
      "source": [
        "pd.crosstab([data_dis.embarked, data_dis.sex, data_dis.survived], [data_dis.class_], margins=True)"
      ]
    },
    {
      "cell_type": "code",
      "execution_count": null,
      "metadata": {
        "id": "676qsIgf97g9"
      },
      "outputs": [],
      "source": [
        "print(pd.crosstab([data_dis.survived], [data_dis.class_], margins=True))\n",
        "print(pd.crosstab([data_dis.survived], [data_dis.class_], normalize='index'))\n",
        "print(pd.crosstab([data_dis.survived], [data_dis.class_], normalize='columns'))"
      ]
    },
    {
      "cell_type": "code",
      "execution_count": null,
      "metadata": {
        "id": "JKr50VCV97g9"
      },
      "outputs": [],
      "source": [
        "# Count observations\n",
        "print(pd.crosstab([data_dis.survived], [data_dis.sex], margins=True))\n",
        "# Conditional proportions given rows\n",
        "print(pd.crosstab([data_dis.survived], [data_dis.sex], normalize='index'))\n",
        "# Conditional proportions given columns\n",
        "print(pd.crosstab([data_dis.survived], [data_dis.sex], normalize='columns'))"
      ]
    },
    {
      "cell_type": "code",
      "execution_count": null,
      "metadata": {
        "id": "8_daR5Vk97g-"
      },
      "outputs": [],
      "source": [
        "print(pd.crosstab([data_dis.survived], [data_dis.embarked], margins=True))\n",
        "print(pd.crosstab([data_dis.survived], [data_dis.embarked], normalize='columns'))\n"
      ]
    },
    {
      "cell_type": "code",
      "execution_count": null,
      "metadata": {
        "id": "gjwwUKBp97g-"
      },
      "outputs": [],
      "source": [
        "table_sex = pd.crosstab([data_dis.survived], [data_dis.sex], margins=True)\n",
        "table_sex.iloc[0, 0]\n",
        "table_sex"
      ]
    },
    {
      "cell_type": "code",
      "execution_count": null,
      "metadata": {
        "id": "UzABdm6ZjI2C",
        "vscode": {
          "languageId": "r"
        }
      },
      "outputs": [],
      "source": [
        "# Odss ratio (empirický poměr šancí)\n",
        "def OR(df):\n",
        "    return df.iloc[0, 0] / df.iloc[0, 1] / (df.iloc[1, 0] / df.iloc[1, 1])\n",
        "\n",
        "table_sex = pd.crosstab([data_dis.survived], [data_dis.sex], margins=True)\n",
        "print(table_sex)\n",
        "print(f'Odds ratio: {OR(table_sex)}')\n",
        "# Men have "
      ]
    },
    {
      "cell_type": "code",
      "execution_count": null,
      "metadata": {
        "id": "5cFgfp-n2_s_",
        "vscode": {
          "languageId": "r"
        }
      },
      "outputs": [],
      "source": [
        "#install.packages(\"epitools\")\n",
        "#library(epitools)\n",
        "#oddsratio.wald(table_sex, conf.level = 0.95)\n",
        "\n",
        "#/TODO prepare for python/"
      ]
    },
    {
      "cell_type": "code",
      "execution_count": null,
      "metadata": {
        "id": "-KgtZYVo3aD-",
        "vscode": {
          "languageId": "r"
        }
      },
      "outputs": [],
      "source": [
        "\n",
        "c, p, dof, expected = scipy.stats.chi2_contingency(table_sex)\n",
        "print(f'Statistic: {c} \\n'\n",
        "      f'Deg of freedom: {dof} \\n'\n",
        "      f'p value: {p}')"
      ]
    },
    {
      "cell_type": "markdown",
      "metadata": {
        "id": "flohDO_SBgVe"
      },
      "source": [
        "### Null model\n",
        "\n",
        "* Compute the null model (assume that the probability of survival was the same for all passangers)\n",
        "\n",
        "* How do we interpret estimated parameter?\n",
        "\n",
        "## Note\n",
        "endog (dependent var)for Binomial family in statsmodels can be specified in one of three ways: A 1d array of 0 or 1 values, indicating failure or success respectively. A 2d array, with two columns. The first column represents the success count and the second column represents the failure count. A 1d array of proportions, indicating the proportion of successes, with parameter var_weights containing the number of trials for each row."
      ]
    },
    {
      "cell_type": "code",
      "execution_count": null,
      "metadata": {
        "id": "bta1ErSXBkn6",
        "vscode": {
          "languageId": "r"
        }
      },
      "outputs": [],
      "source": [
        "# dependet variable in our case `survived` must be casted to float/int as required in statsmodels documentation\n",
        "# for Binomial family https://www.statsmodels.org/dev/generated/statsmodels.genmod.families.family.Binomial.html#statsmodels.genmod.families.family.Binomial\n",
        "\n",
        "\n",
        "data_dis['survived'] = data_dis['survived'].astype('float')\n",
        "\n",
        "mod0=smf.glm(formula = 'survived~1', data=data_dis,\n",
        "                family=sm.families.Binomial(sm.families.links.Logit())).fit()\n",
        "\n",
        "mod0.summary()"
      ]
    },
    {
      "cell_type": "code",
      "execution_count": null,
      "metadata": {
        "id": "7D8nzeEG3aHO",
        "vscode": {
          "languageId": "r"
        }
      },
      "outputs": [],
      "source": [
        "# The chances of survival according to training data.\n",
        "print(np.exp(mod0.params[0]))\n",
        "\n",
        "# The probability of survival.\n",
        "print(np.exp(mod0.params[0])/(1+np.exp(mod0.params[0])))\n"
      ]
    },
    {
      "cell_type": "markdown",
      "metadata": {
        "id": "UPWeZk4NEviZ"
      },
      "source": [
        "### Model with variable: sex\n",
        "\n",
        "* Compute the model with one covariate sex. \n",
        "\n",
        "* How can we interpret estiamted coefficients? \n",
        "\n",
        "* Did survival depend on gender (`sex`) ?\n",
        "\n",
        "* Perform an appropriate tests.\n",
        "\n",
        "* Did women have a better chance of survival? \n"
      ]
    },
    {
      "cell_type": "code",
      "execution_count": null,
      "metadata": {
        "id": "MiggAEKCBijv",
        "vscode": {
          "languageId": "r"
        }
      },
      "outputs": [],
      "source": [
        "mod_sex=smf.glm(formula = 'survived~sex', data=data_dis,\n",
        "                family=sm.families.Binomial(sm.families.links.Logit())).fit()\n",
        "\n",
        "mod_sex.summary()"
      ]
    },
    {
      "cell_type": "markdown",
      "metadata": {
        "id": "8KKuANNV193i"
      },
      "source": [
        "Use deviance to test submodels `anova(model_1,model_2,test=\"Chisq\")`."
      ]
    },
    {
      "cell_type": "code",
      "execution_count": null,
      "metadata": {
        "id": "uHBHuBiGE1HC",
        "vscode": {
          "languageId": "r"
        }
      },
      "outputs": [],
      "source": [
        "# The chances of survival according to training data.\n",
        "print(np.exp(mod_sex.params))\n",
        "#sexmale:    0.08419973147842043\n",
        "\n",
        "anova = Anova()\n",
        "anova(mod_sex,mod0,test=\"Chisq\")\n",
        "\n"
      ]
    },
    {
      "cell_type": "code",
      "execution_count": null,
      "metadata": {
        "id": "4kKa57EB97hA"
      },
      "outputs": [],
      "source": [
        "#Function to estimate OR with lower and upper limit of 95% CI for OR\n",
        "\n",
        "def OR_coef(variable,model,CI):\n",
        "    param = np.array(model.params)\n",
        "    where = np.where(np.array(model.params.index) == variable)\n",
        "    beta = param[where]\n",
        "    se = np.sqrt(np.diag(model.cov_params().to_numpy()))[where]\n",
        "    or_ = np.exp(beta)\n",
        "    \n",
        "    return pd.DataFrame(index=[variable], data={'OR': or_, 'LCL': np.exp(beta-1*scipy.stats.norm.ppf(CI/2 +0.5)*se)\n",
        "                                              , 'UCL':np.exp(beta+ scipy.stats.norm.ppf(CI/2 +0.5)*se)})\n",
        "OR_coef(\"sex[T.male]\",mod_sex,0.95)"
      ]
    },
    {
      "cell_type": "markdown",
      "metadata": {
        "id": "QCuc-DIJ9UGZ"
      },
      "source": [
        "Compare with results obtained from contingency table."
      ]
    },
    {
      "cell_type": "markdown",
      "metadata": {
        "id": "-kIqGZEQFp-D"
      },
      "source": [
        "### Your turn:\n",
        "\n",
        "Estimate model with one covariate `class` and compute: \n",
        "\n",
        "1. Did survival depend on (`class`) ?\n",
        "\n",
        "2. Perform an appropriate tests.\n",
        "\n",
        "3. Compute odds ratios between classes.\n",
        "\n",
        "4. Did passangers in second class have a better chance of survival than in third? \n"
      ]
    },
    {
      "cell_type": "code",
      "execution_count": null,
      "metadata": {
        "id": "j9YO4TYCF_4J",
        "vscode": {
          "languageId": "r"
        }
      },
      "outputs": [],
      "source": [
        "#1. "
      ]
    },
    {
      "cell_type": "code",
      "execution_count": null,
      "metadata": {
        "id": "djCunqa_GAJ8",
        "vscode": {
          "languageId": "r"
        }
      },
      "outputs": [],
      "source": [
        "#2. "
      ]
    },
    {
      "cell_type": "code",
      "execution_count": null,
      "metadata": {
        "id": "MBN8U9pfGAOp",
        "vscode": {
          "languageId": "r"
        }
      },
      "outputs": [],
      "source": [
        "#3."
      ]
    },
    {
      "cell_type": "code",
      "execution_count": null,
      "metadata": {
        "id": "maNOb3VWOJzv",
        "vscode": {
          "languageId": "r"
        }
      },
      "outputs": [],
      "source": [
        "#4."
      ]
    },
    {
      "cell_type": "markdown",
      "metadata": {
        "id": "42sCjLq-FkV5"
      },
      "source": [
        "### Model with all discrete covariates without interactions"
      ]
    },
    {
      "cell_type": "code",
      "execution_count": null,
      "metadata": {
        "id": "pWKH73g5jJDj",
        "vscode": {
          "languageId": "r"
        }
      },
      "outputs": [],
      "source": [
        "# Simple Logistic Regression model with all discrete covariates without interactions\n",
        "\n",
        "# to work with factor in statsmodels we need to first one-hot encode variables\n",
        "one_hot = pd.get_dummies(data_dis.iloc[:, data_dis.columns != 'survived'],\n",
        "                         columns=list(np.array(data_dis.columns)[data_dis.columns != 'survived']),\n",
        "                    drop_first=True)\n",
        "one_hot = sm.add_constant(one_hot) # add intercept\n",
        "mod1=sm.GLM(endog=data_dis.survived, exog=one_hot,\n",
        "                family=sm.families.Binomial(sm.families.links.Logit())).fit()\n",
        "\n",
        "mod1.summary()\n"
      ]
    },
    {
      "cell_type": "markdown",
      "metadata": {
        "id": "qkXZwWVG3rED"
      },
      "source": [
        "Deviance tests to add/drop independent variables.\n",
        "\n",
        "TODO /NOT IMPLEMENTED YET FOR PYTHON/ \n",
        "\n",
        "`drop1(model,test=\"Chisq\")`\n",
        "\n",
        "`add1(model,terms.to.add,test=\"Chisq\")`"
      ]
    },
    {
      "cell_type": "code",
      "execution_count": null,
      "metadata": {
        "id": "Mu3VGgYDjJGt",
        "vscode": {
          "languageId": "r"
        }
      },
      "outputs": [],
      "source": [
        "#drop1(mod1,test=\"Chisq\")  # TODO\n"
      ]
    },
    {
      "cell_type": "code",
      "execution_count": null,
      "metadata": {
        "id": "-wTFLd1T4GAY",
        "vscode": {
          "languageId": "r"
        }
      },
      "outputs": [],
      "source": [
        "# add1(mod0,survived~sex+class+embarked, test=\"Chisq\") TODO\n"
      ]
    },
    {
      "cell_type": "code",
      "execution_count": null,
      "metadata": {
        "id": "bVIXmCWb5AZO",
        "vscode": {
          "languageId": "r"
        }
      },
      "outputs": [],
      "source": [
        "data_dis2 = data_dis.replace({'embarked': 'Q'}, 'C')\n",
        "\n",
        "one_hot2 = pd.get_dummies(data_dis2.iloc[:, data_dis2.columns != 'survived'],\n",
        "                         columns=list(np.array(data_dis2.columns)[data_dis2.columns != 'survived']),\n",
        "                    drop_first=True)\n",
        "one_hot2 = sm.add_constant(one_hot2) # add intercept\n",
        "\n",
        "mod1=sm.GLM(endog=data_dis2.survived, exog=one_hot2,\n",
        "                family=sm.families.Binomial(sm.families.links.Logit())).fit()\n",
        "\n",
        "mod1.summary()"
      ]
    },
    {
      "cell_type": "code",
      "execution_count": null,
      "metadata": {
        "id": "ZhrNnbuS8rjk",
        "vscode": {
          "languageId": "r"
        }
      },
      "outputs": [],
      "source": [
        "OR_coef(\"sex_male\",mod1,0.95)"
      ]
    },
    {
      "cell_type": "markdown",
      "metadata": {
        "id": "5jkf4N0EHHb0"
      },
      "source": [
        "Interpret previous result:\n",
        "\n",
        "* By how many percentage is the chance of survival lower for  men? \n",
        "\n",
        "* Interpret confidence intrval and its significance.\n"
      ]
    },
    {
      "cell_type": "markdown",
      "metadata": {
        "id": "VirGNE8J9kWA"
      },
      "source": [
        "Lets try model with second order interactions.\n"
      ]
    },
    {
      "cell_type": "code",
      "execution_count": null,
      "metadata": {
        "id": "uT7yNEgH8ruU",
        "vscode": {
          "languageId": "r"
        }
      },
      "outputs": [],
      "source": [
        "# add1(mod1,~.^2,test=\"Chisq\") TODO"
      ]
    },
    {
      "cell_type": "code",
      "execution_count": null,
      "metadata": {
        "id": "CmX8KMnk9G6y",
        "vscode": {
          "languageId": "r"
        }
      },
      "outputs": [],
      "source": [
        "\n",
        "mod2_all=smf.glm(formula = 'survived~sex*embarked + sex*class_+class_*embarked', data=data_dis,\n",
        "                family=sm.families.Binomial(sm.families.links.Logit())).fit()\n",
        "\n",
        "mod2_all.summary()\n",
        "\n"
      ]
    },
    {
      "cell_type": "code",
      "execution_count": null,
      "metadata": {
        "id": "1bKbLLgZ-xN-",
        "vscode": {
          "languageId": "r"
        }
      },
      "outputs": [],
      "source": [
        "# step(mod2_all)  TODO"
      ]
    },
    {
      "cell_type": "code",
      "execution_count": null,
      "metadata": {
        "id": "_rdGvZUe9G-x",
        "vscode": {
          "languageId": "r"
        }
      },
      "outputs": [],
      "source": [
        "mod2=smf.glm(formula = 'survived~sex*embarked + sex*class_', data=data_dis,\n",
        "                family=sm.families.Binomial(sm.families.links.Logit())).fit()\n",
        "\n",
        "mod2.summary()\n",
        "\n"
      ]
    },
    {
      "cell_type": "code",
      "execution_count": null,
      "metadata": {
        "id": "7gSz2aqQFVBG",
        "vscode": {
          "languageId": "r"
        }
      },
      "outputs": [],
      "source": [
        "anova(mod2_all,mod2,test=\"Chisq\")\n"
      ]
    },
    {
      "cell_type": "markdown",
      "metadata": {
        "id": "iVLJsFVyGN-N"
      },
      "source": [
        "Interpretation by OR in models with interactions is more complitacated, see Lecture notes."
      ]
    },
    {
      "cell_type": "markdown",
      "metadata": {
        "id": "dgUfzZq4Gks5"
      },
      "source": [
        "Lets try model with merged factor levels.\n",
        "\n",
        "\n"
      ]
    },
    {
      "cell_type": "code",
      "execution_count": null,
      "metadata": {
        "id": "vppHkWQD9HJV",
        "vscode": {
          "languageId": "r"
        }
      },
      "outputs": [],
      "source": [
        "data_dis3 = data_dis2.replace({'class_': 2}, 1)\n",
        "\n",
        "data_dis3.class_.unique()"
      ]
    },
    {
      "cell_type": "code",
      "execution_count": null,
      "metadata": {
        "id": "7PJi1BUh_ww7",
        "vscode": {
          "languageId": "r"
        }
      },
      "outputs": [],
      "source": [
        "mod2=smf.glm(formula = 'survived~sex*embarked + sex*class_', data=data_dis3,\n",
        "                family=sm.families.Binomial(sm.families.links.Logit())).fit()\n",
        "\n",
        "mod2.summary()\n"
      ]
    },
    {
      "cell_type": "code",
      "execution_count": null,
      "metadata": {
        "id": "iEbWdTcY_wz9",
        "vscode": {
          "languageId": "r"
        }
      },
      "outputs": [],
      "source": [
        "mod3=smf.glm(formula = 'survived~sex*embarked + sex*class_+class_*embarked', data=data_dis3,\n",
        "                family=sm.families.Binomial(sm.families.links.Logit())).fit()\n",
        "\n",
        "print(mod3.summary())\n",
        "\n",
        "\n",
        "\n",
        "anova(mod2,mod3,test=\"Chisq\")\n"
      ]
    },
    {
      "cell_type": "markdown",
      "metadata": {
        "id": "PJSz8gifGy1p"
      },
      "source": [
        "## Model with continuous independent variable.\n"
      ]
    },
    {
      "cell_type": "markdown",
      "metadata": {
        "id": "gga0Fav7Q2W8"
      },
      "source": [
        "Discuss difference from models without continuous variable (again)!!!"
      ]
    },
    {
      "cell_type": "code",
      "execution_count": null,
      "metadata": {
        "id": "yI6EhBMzJSmz",
        "vscode": {
          "languageId": "r"
        }
      },
      "outputs": [],
      "source": [
        "titanic_train.info()"
      ]
    },
    {
      "cell_type": "code",
      "execution_count": null,
      "metadata": {
        "id": "2LoARzISGzJ0",
        "vscode": {
          "languageId": "r"
        }
      },
      "outputs": [],
      "source": [
        "       \n",
        "data_con = titanic_train >> \\\n",
        "                select(titanic_train.survived, titanic_train.sex, titanic_train.embarked, titanic_train.fare,\n",
        "                      titanic_train.pclass, titanic_train.age)\n",
        "\n",
        "data_con = data_con.apply(lambda x: x.astype('category') if str(x.dtype) in ('object', 'str') else x) \n",
        "\n",
        "print(data_con.describe(include='all'))\n",
        "print(data_con.info())\n",
        "\n",
        "    \n",
        "data_con = data_con >> \\\n",
        "            filter_by(data_con.embarked.isin(('C', 'S', 'Q')) )  >> \\\n",
        "            transmute(survived = data_con.survived.astype('float'), # cast to float beacause of statsmodels requirements\n",
        "                      age = data_con.age,\n",
        "                      fare = data_con.fare,\n",
        "                      class_ = data_con.pclass.astype('category'),\n",
        "                      sex = data_con.sex.astype('category'),\n",
        "                      embarked = data_con.embarked.astype('category'))\n",
        "\n",
        "data_con = data_con.dropna(axis=0, how='any')\n",
        "\n",
        "print(data_con.describe(include='all'))          \n",
        "data_con.info()"
      ]
    },
    {
      "cell_type": "code",
      "execution_count": null,
      "metadata": {
        "id": "9YIZsc2vQT_k",
        "vscode": {
          "languageId": "r"
        }
      },
      "outputs": [],
      "source": [
        "_vars=['survived', 'age','fare','class_']\n",
        "\n",
        "fig, axes = plt.subplots(len(_vars), len(_vars), figsize=(10, 10))\n",
        "\n",
        "sns.countplot(data=data_con, x=_vars[0], ax=axes[0, 0])\n",
        "sns.boxplot(data=data_con, y=_vars[0], x=_vars[1], ax=axes[0, 1], orient='h')\n",
        "sns.boxplot(data=data_con, y=_vars[0], x=_vars[2], ax=axes[0, 2] ,orient='h')\n",
        "sns.countplot(data=data_con, x=_vars[3], hue=_vars[0], ax=axes[0, 3])\n",
        "\n",
        "sns.histplot(data=data_con, y=_vars[1], ax=axes[1, 0], hue=_vars[0])\n",
        "sns.histplot(data=data_con, x=_vars[1], ax=axes[1, 1], stat='frequency', kde=True)\n",
        "axes[1, 2].text(0.1, 0.5, f'Corr: {round(scipy.stats.pearsonr(x=data_con[_vars[1]], y=data_con[_vars[2]])[0], 2)}')\n",
        "sns.boxplot(data=data_con, x=_vars[3], y=_vars[1], ax=axes[1, 3])\n",
        "\n",
        "\n",
        "sns.histplot(data=data_con, y=_vars[2], ax=axes[2, 0], hue=_vars[0])\n",
        "sns.scatterplot(data=data_con, x=_vars[1], y=_vars[2], ax=axes[2, 1])\n",
        "sns.histplot(data=data_con, x=_vars[2], ax=axes[2, 2],  stat='frequency', kde=True)\n",
        "sns.boxplot(data=data_con, x=_vars[3], y=_vars[2], ax=axes[2, 3])\n",
        "\n",
        "\n",
        "sns.histplot(data=data_con, x=_vars[3], y=_vars[0], ax=axes[3, 0])\n",
        "sns.histplot(data=data_con, x=_vars[1], hue=_vars[3], ax=axes[3, 1])\n",
        "sns.histplot(data=data_con, x=_vars[2], hue=_vars[3], ax=axes[3, 2])\n",
        "sns.countplot(data=data_con, x=_vars[3], ax=axes[3, 3])\n",
        "\n",
        "\n",
        "for i, k in enumerate(_vars):\n",
        "    for j, l in enumerate(_vars):\n",
        "    \n",
        "            \n",
        "        if i < 3:\n",
        "            axes[i, j].tick_params(\n",
        "                        axis='x',          # changes apply to the x-axis\n",
        "                        which='both',      # both major and minor ticks are affected\n",
        "                        bottom=False,      # ticks along the bottom edge are off\n",
        "                        top=False,         # ticks along the top edge are off\n",
        "                        labelbottom=False)\n",
        "            axes[i, j].set_xlabel('')\n",
        "        if j > 0:\n",
        "            axes[i, j].set_ylabel('')\n",
        "            axes[i, j].tick_params(\n",
        "                        axis='y',         \n",
        "                        which='both',      \n",
        "                        left=False,      \n",
        "                        top=False,         \n",
        "                        labelleft=False)\n",
        "        if j == 0:               \n",
        "            axes[i, j].set_ylabel(k)\n",
        "        if i == 3 :               \n",
        "            axes[i, j].set_xlabel(l)\n",
        "\n",
        "plt.show()\n",
        "\n",
        "# TODO It needs define own functionality based on PairGrid which will distinguish categorical vs categorical\n",
        "# categorical vs quantitative and quantitaive vs quantitative variables"
      ]
    },
    {
      "cell_type": "code",
      "execution_count": null,
      "metadata": {
        "id": "qzMPskyw97hF"
      },
      "outputs": [],
      "source": [
        "fig, ax = plt.subplots()\n",
        "sns.boxplot(x='sex', y='age', hue='survived', ax = ax, data=data_con, showmeans=True)\n",
        "ax.set_xlabel('Gender')\n",
        "ax.set_ylabel('Age')\n",
        "ax.set_title('Gender boxplot')"
      ]
    },
    {
      "cell_type": "code",
      "execution_count": null,
      "metadata": {
        "id": "xJ3Mu-M097hF"
      },
      "outputs": [],
      "source": [
        "fig, ax = plt.subplots()\n",
        "sns.boxplot(x='class_', y='fare', hue='survived', ax = ax, data=data_con, showmeans=True)\n",
        "ax.set_xlabel('Class')\n",
        "ax.set_ylabel('Fare')\n",
        "ax.set_title('Class x Fare')"
      ]
    },
    {
      "cell_type": "markdown",
      "metadata": {
        "id": "gN0UJs4PSjcY"
      },
      "source": [
        "Continuous variable as factor"
      ]
    },
    {
      "cell_type": "code",
      "execution_count": null,
      "metadata": {
        "id": "NN70zHIpQUMz",
        "vscode": {
          "languageId": "r"
        }
      },
      "outputs": [],
      "source": [
        "data_con_fac = data_con >> \\\n",
        "  mutate(age = pd.cut(data_con.age,(-np.inf, 15, 50, np.inf), labels=[\"child\",\"adult\",\"senior\"]))\n",
        "data_con_fac"
      ]
    },
    {
      "cell_type": "code",
      "execution_count": null,
      "metadata": {
        "id": "6l9MDcNI97hG"
      },
      "outputs": [],
      "source": [
        "g = sns.PairGrid(data=data_con_fac, vars=list(data_con_fac.columns))  # TODO needs custom implementation\n",
        "\n",
        "g.map_lower(sns.histplot)\n",
        "g.map_diag(sns.histplot)\n",
        "g.map_upper(sns.scatterplot)\n"
      ]
    },
    {
      "cell_type": "code",
      "execution_count": null,
      "metadata": {
        "id": "QouMFb1LXVvl",
        "vscode": {
          "languageId": "r"
        }
      },
      "outputs": [],
      "source": [
        "\n",
        "mod_0= smf.glm(formula = 'survived~1', data=data_con_fac,\n",
        "                family=sm.families.Binomial(sm.families.links.Logit())).fit()\n",
        "\n",
        "print(mod_0.summary())\n"
      ]
    },
    {
      "cell_type": "code",
      "execution_count": null,
      "metadata": {
        "id": "hyHUUA3iIzqy",
        "vscode": {
          "languageId": "r"
        }
      },
      "outputs": [],
      "source": [
        "\n",
        "mod_age_fac = smf.glm(formula = 'survived~age', data=data_con_fac,\n",
        "                family=sm.families.Binomial(sm.families.links.Logit())).fit()\n",
        "\n",
        "print(mod_age_fac.summary())\n",
        "\n",
        "np.exp(mod_age_fac.params)"
      ]
    },
    {
      "cell_type": "markdown",
      "metadata": {
        "id": "mD47uutFW7fq"
      },
      "source": [
        "Is the chance decreasing with increasing age?"
      ]
    },
    {
      "cell_type": "code",
      "execution_count": null,
      "metadata": {
        "id": "glFlpkE7WY5E",
        "vscode": {
          "languageId": "r"
        }
      },
      "outputs": [],
      "source": [
        "anova(mod_age_fac,mod_0,test=\"Chisq\")\n",
        "\n"
      ]
    },
    {
      "cell_type": "code",
      "execution_count": null,
      "metadata": {
        "id": "K1-4oyxDIztp",
        "vscode": {
          "languageId": "r"
        }
      },
      "outputs": [],
      "source": [
        "\n",
        "mod_age = smf.glm(formula = 'survived~np.divide(age, 10)', data=data_con,\n",
        "                family=sm.families.Binomial(sm.families.links.Logit())).fit()\n",
        "print(mod_age.summary())\n",
        "np.exp(mod_age.params)"
      ]
    },
    {
      "cell_type": "markdown",
      "metadata": {
        "id": "fL0gYJp4YNbG"
      },
      "source": [
        "Question:\n",
        "\n",
        "* With increasing age by 10 years, chance to survive decreased by 11%. \n",
        "\n",
        "* What do you think about causality in this result?"
      ]
    },
    {
      "cell_type": "code",
      "execution_count": null,
      "metadata": {
        "id": "I-xGC5yNIzwd",
        "vscode": {
          "languageId": "r"
        }
      },
      "outputs": [],
      "source": [
        "anova(mod_age,mod_0,test=\"Chisq\")\n"
      ]
    },
    {
      "cell_type": "markdown",
      "metadata": {
        "id": "yGWlCERLZoxl"
      },
      "source": [
        "Question:\n",
        "\n",
        "* Can we compare by deviance test models `mod_age` and `mod_age_fac`?\n",
        "* Which model do you prefere and why?\n",
        "* For which approach (factorized or continuous) saturated model is useful and why?\n"
      ]
    },
    {
      "cell_type": "code",
      "execution_count": null,
      "metadata": {
        "id": "eM2WYaTyIzzD",
        "vscode": {
          "languageId": "r"
        }
      },
      "outputs": [],
      "source": [
        "\n",
        "#mod_sat_fac = smf.glm(formula = 'survived~sex*age*embarked*class_', data=data_con >> \\\n",
        "#                          mutate(age=data_con.age.astype('category'),\n",
        "#                                 fare=data_con.fare.astype('category')),\n",
        "#                family=sm.families.Binomial(sm.families.links.Logit())).fit()\n",
        "#mod_sat_fac.summary()"
      ]
    },
    {
      "cell_type": "code",
      "execution_count": null,
      "metadata": {
        "id": "sNhOXHGsIz1w",
        "vscode": {
          "languageId": "r"
        }
      },
      "outputs": [],
      "source": []
    },
    {
      "cell_type": "code",
      "execution_count": null,
      "metadata": {
        "id": "BjhoEQb7Iz4i",
        "vscode": {
          "languageId": "r"
        }
      },
      "outputs": [],
      "source": []
    },
    {
      "cell_type": "markdown",
      "metadata": {
        "id": "aHoKBY8sbD2i"
      },
      "source": [
        "Your turn:\n",
        "\n",
        "Consider a model with continuos variables `age`, `fare`, and any factor variable. \n",
        "\n",
        "* Create factor `child`, which takes values 1 (child) and 0 (adult).\n",
        "* Create factor from varaible `fare`, where each level break is by 10 pounds.\n",
        "* Estimate a model, where the chance of survival depends on factorized `fare` and `sex` and `child`.\n",
        "* What percentage is the chance of survival lower for adult compare to child? \n",
        "* Depends the probability of survival on fare? Test it.\n",
        "* Assume that the chance of survival increases with exponential increasig fare. How the chance of survival increased if the person spent an extra 10 pound for a ticket? \n",
        "* Build a model where the probabilty of survival depends on both `age` and `fare`. Are both covariates significant?\n",
        "* "
      ]
    },
    {
      "cell_type": "code",
      "execution_count": null,
      "metadata": {
        "id": "piHSJCMXmD_b",
        "vscode": {
          "languageId": "r"
        }
      },
      "outputs": [],
      "source": []
    },
    {
      "cell_type": "code",
      "execution_count": null,
      "metadata": {
        "id": "aJdoeBs6mECT",
        "vscode": {
          "languageId": "r"
        }
      },
      "outputs": [],
      "source": []
    },
    {
      "cell_type": "code",
      "execution_count": null,
      "metadata": {
        "id": "OUJpeS9hmEFJ",
        "vscode": {
          "languageId": "r"
        }
      },
      "outputs": [],
      "source": []
    },
    {
      "cell_type": "markdown",
      "metadata": {
        "id": "Ajs79iDemE_F"
      },
      "source": [
        "Next Exercises (8 and 9):\n",
        "\n",
        "* Logistic regression and binary classification (ROC, accuracy, ...)\n",
        "* Residual analysis\n",
        "* Prediction and confidence intervals\n",
        "* Logistic regression and ML approach\n",
        "\n"
      ]
    },
    {
      "cell_type": "code",
      "execution_count": null,
      "metadata": {
        "id": "4cZJroCQmEIu",
        "vscode": {
          "languageId": "r"
        }
      },
      "outputs": [],
      "source": []
    }
  ],
  "metadata": {
    "colab": {
      "name": "01ZLMA_ex07_Binary_Data_1.ipynb",
      "private_outputs": true,
      "provenance": [],
      "include_colab_link": true
    },
    "kernelspec": {
      "display_name": "Python 3 (ipykernel)",
      "language": "python",
      "name": "python3"
    },
    "language_info": {
      "codemirror_mode": {
        "name": "ipython",
        "version": 3
      },
      "file_extension": ".py",
      "mimetype": "text/x-python",
      "name": "python",
      "nbconvert_exporter": "python",
      "pygments_lexer": "ipython3",
      "version": "3.9.1"
    }
  },
  "nbformat": 4,
  "nbformat_minor": 0
}