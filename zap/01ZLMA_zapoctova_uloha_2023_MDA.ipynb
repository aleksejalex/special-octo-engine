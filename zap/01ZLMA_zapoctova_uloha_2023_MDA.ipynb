{
  "cells": [
    {
      "cell_type": "markdown",
      "metadata": {
        "id": "view-in-github",
        "colab_type": "text"
      },
      "source": [
        "<a href=\"https://colab.research.google.com/github/aleksejalex/special-octo-engine/blob/main/zap/01ZLMA_zapoctova_uloha_2023_MDA.ipynb\" target=\"_parent\"><img src=\"https://colab.research.google.com/assets/colab-badge.svg\" alt=\"Open In Colab\"/></a>"
      ]
    },
    {
      "cell_type": "markdown",
      "id": "e4eb5b6c-c218-4e95-a9fc-e643fdb09f16",
      "metadata": {
        "id": "e4eb5b6c-c218-4e95-a9fc-e643fdb09f16"
      },
      "source": [
        "# Zadání zápočtové úlohy z předmětu 01ZLMA 2022/2023"
      ]
    },
    {
      "cell_type": "markdown",
      "id": "7bfb8b9c-aa13-4621-8463-2e6e6b507940",
      "metadata": {
        "id": "7bfb8b9c-aa13-4621-8463-2e6e6b507940"
      },
      "source": [
        "https://archive.ics.uci.edu/ml/datasets/default+of+credit+card+clients\n",
        "\n",
        "Data Set Information:\n",
        "\n",
        "This research aimed at the case of customers default payments in Taiwan and compares the predictive accuracy of probability of default among six data mining methods. From the perspective of risk management, the result of predictive accuracy of the estimated probability of default will be more valuable than the binary result of classification - credible or not credible clients\n",
        "\n",
        "\n",
        "\n"
      ]
    },
    {
      "cell_type": "code",
      "execution_count": 164,
      "id": "cd444b7a-73bd-4bcb-b299-1d713266e410",
      "metadata": {
        "colab": {
          "base_uri": "https://localhost:8080/"
        },
        "id": "cd444b7a-73bd-4bcb-b299-1d713266e410",
        "outputId": "838c8284-cca9-43c9-f0c7-e39ba62073d1"
      },
      "outputs": [
        {
          "output_type": "stream",
          "name": "stdout",
          "text": [
            "Looking in indexes: https://pypi.org/simple, https://us-python.pkg.dev/colab-wheels/public/simple/\n",
            "Requirement already satisfied: pandas in /usr/local/lib/python3.10/dist-packages (1.5.3)\n",
            "Requirement already satisfied: matplotlib in /usr/local/lib/python3.10/dist-packages (3.7.1)\n",
            "Requirement already satisfied: xlrd in /usr/local/lib/python3.10/dist-packages (2.0.1)\n",
            "Requirement already satisfied: python-dateutil>=2.8.1 in /usr/local/lib/python3.10/dist-packages (from pandas) (2.8.2)\n",
            "Requirement already satisfied: pytz>=2020.1 in /usr/local/lib/python3.10/dist-packages (from pandas) (2022.7.1)\n",
            "Requirement already satisfied: numpy>=1.21.0 in /usr/local/lib/python3.10/dist-packages (from pandas) (1.22.4)\n",
            "Requirement already satisfied: contourpy>=1.0.1 in /usr/local/lib/python3.10/dist-packages (from matplotlib) (1.1.0)\n",
            "Requirement already satisfied: cycler>=0.10 in /usr/local/lib/python3.10/dist-packages (from matplotlib) (0.11.0)\n",
            "Requirement already satisfied: fonttools>=4.22.0 in /usr/local/lib/python3.10/dist-packages (from matplotlib) (4.40.0)\n",
            "Requirement already satisfied: kiwisolver>=1.0.1 in /usr/local/lib/python3.10/dist-packages (from matplotlib) (1.4.4)\n",
            "Requirement already satisfied: packaging>=20.0 in /usr/local/lib/python3.10/dist-packages (from matplotlib) (23.1)\n",
            "Requirement already satisfied: pillow>=6.2.0 in /usr/local/lib/python3.10/dist-packages (from matplotlib) (8.4.0)\n",
            "Requirement already satisfied: pyparsing>=2.3.1 in /usr/local/lib/python3.10/dist-packages (from matplotlib) (3.1.0)\n",
            "Requirement already satisfied: six>=1.5 in /usr/local/lib/python3.10/dist-packages (from python-dateutil>=2.8.1->pandas) (1.16.0)\n"
          ]
        }
      ],
      "source": [
        "%pip install pandas matplotlib xlrd"
      ]
    },
    {
      "cell_type": "code",
      "execution_count": 165,
      "id": "4524b353-9e26-45de-b8c6-93f619b77f16",
      "metadata": {
        "id": "4524b353-9e26-45de-b8c6-93f619b77f16"
      },
      "outputs": [],
      "source": [
        "import pandas as pd\n",
        "import numpy as np\n",
        "url = \"https://github.com/aleksejalex/01ZLMA_forked/raw/main/default_of_credit_card_clients.xls\"\n",
        "df = pd.read_excel(url, header=1)"
      ]
    },
    {
      "cell_type": "code",
      "execution_count": 166,
      "id": "12940f81-91bb-4e46-9f68-e6161abe30f0",
      "metadata": {
        "id": "12940f81-91bb-4e46-9f68-e6161abe30f0"
      },
      "outputs": [],
      "source": [
        "df = df.rename(columns = {\"default payment next month\": \"default\"})"
      ]
    },
    {
      "cell_type": "code",
      "execution_count": 167,
      "id": "41d7af23-c108-4083-ade9-8a21deedf3e9",
      "metadata": {
        "colab": {
          "base_uri": "https://localhost:8080/",
          "height": 299
        },
        "id": "41d7af23-c108-4083-ade9-8a21deedf3e9",
        "outputId": "3239702c-e515-4f43-f137-dd010e4d1a5f"
      },
      "outputs": [
        {
          "output_type": "execute_result",
          "data": {
            "text/plain": [
              "   ID  LIMIT_BAL  SEX  EDUCATION  MARRIAGE  AGE  PAY_0  PAY_2  PAY_3  PAY_4  \\\n",
              "0   1      20000    2          2         1   24      2      2     -1     -1   \n",
              "1   2     120000    2          2         2   26     -1      2      0      0   \n",
              "2   3      90000    2          2         2   34      0      0      0      0   \n",
              "3   4      50000    2          2         1   37      0      0      0      0   \n",
              "4   5      50000    1          2         1   57     -1      0     -1      0   \n",
              "\n",
              "   ...  BILL_AMT4  BILL_AMT5  BILL_AMT6  PAY_AMT1  PAY_AMT2  PAY_AMT3  \\\n",
              "0  ...          0          0          0         0       689         0   \n",
              "1  ...       3272       3455       3261         0      1000      1000   \n",
              "2  ...      14331      14948      15549      1518      1500      1000   \n",
              "3  ...      28314      28959      29547      2000      2019      1200   \n",
              "4  ...      20940      19146      19131      2000     36681     10000   \n",
              "\n",
              "   PAY_AMT4  PAY_AMT5  PAY_AMT6  default  \n",
              "0         0         0         0        1  \n",
              "1      1000         0      2000        1  \n",
              "2      1000      1000      5000        0  \n",
              "3      1100      1069      1000        0  \n",
              "4      9000       689       679        0  \n",
              "\n",
              "[5 rows x 25 columns]"
            ],
            "text/html": [
              "\n",
              "  <div id=\"df-67f627c3-1e52-4d78-b241-952424fa155b\">\n",
              "    <div class=\"colab-df-container\">\n",
              "      <div>\n",
              "<style scoped>\n",
              "    .dataframe tbody tr th:only-of-type {\n",
              "        vertical-align: middle;\n",
              "    }\n",
              "\n",
              "    .dataframe tbody tr th {\n",
              "        vertical-align: top;\n",
              "    }\n",
              "\n",
              "    .dataframe thead th {\n",
              "        text-align: right;\n",
              "    }\n",
              "</style>\n",
              "<table border=\"1\" class=\"dataframe\">\n",
              "  <thead>\n",
              "    <tr style=\"text-align: right;\">\n",
              "      <th></th>\n",
              "      <th>ID</th>\n",
              "      <th>LIMIT_BAL</th>\n",
              "      <th>SEX</th>\n",
              "      <th>EDUCATION</th>\n",
              "      <th>MARRIAGE</th>\n",
              "      <th>AGE</th>\n",
              "      <th>PAY_0</th>\n",
              "      <th>PAY_2</th>\n",
              "      <th>PAY_3</th>\n",
              "      <th>PAY_4</th>\n",
              "      <th>...</th>\n",
              "      <th>BILL_AMT4</th>\n",
              "      <th>BILL_AMT5</th>\n",
              "      <th>BILL_AMT6</th>\n",
              "      <th>PAY_AMT1</th>\n",
              "      <th>PAY_AMT2</th>\n",
              "      <th>PAY_AMT3</th>\n",
              "      <th>PAY_AMT4</th>\n",
              "      <th>PAY_AMT5</th>\n",
              "      <th>PAY_AMT6</th>\n",
              "      <th>default</th>\n",
              "    </tr>\n",
              "  </thead>\n",
              "  <tbody>\n",
              "    <tr>\n",
              "      <th>0</th>\n",
              "      <td>1</td>\n",
              "      <td>20000</td>\n",
              "      <td>2</td>\n",
              "      <td>2</td>\n",
              "      <td>1</td>\n",
              "      <td>24</td>\n",
              "      <td>2</td>\n",
              "      <td>2</td>\n",
              "      <td>-1</td>\n",
              "      <td>-1</td>\n",
              "      <td>...</td>\n",
              "      <td>0</td>\n",
              "      <td>0</td>\n",
              "      <td>0</td>\n",
              "      <td>0</td>\n",
              "      <td>689</td>\n",
              "      <td>0</td>\n",
              "      <td>0</td>\n",
              "      <td>0</td>\n",
              "      <td>0</td>\n",
              "      <td>1</td>\n",
              "    </tr>\n",
              "    <tr>\n",
              "      <th>1</th>\n",
              "      <td>2</td>\n",
              "      <td>120000</td>\n",
              "      <td>2</td>\n",
              "      <td>2</td>\n",
              "      <td>2</td>\n",
              "      <td>26</td>\n",
              "      <td>-1</td>\n",
              "      <td>2</td>\n",
              "      <td>0</td>\n",
              "      <td>0</td>\n",
              "      <td>...</td>\n",
              "      <td>3272</td>\n",
              "      <td>3455</td>\n",
              "      <td>3261</td>\n",
              "      <td>0</td>\n",
              "      <td>1000</td>\n",
              "      <td>1000</td>\n",
              "      <td>1000</td>\n",
              "      <td>0</td>\n",
              "      <td>2000</td>\n",
              "      <td>1</td>\n",
              "    </tr>\n",
              "    <tr>\n",
              "      <th>2</th>\n",
              "      <td>3</td>\n",
              "      <td>90000</td>\n",
              "      <td>2</td>\n",
              "      <td>2</td>\n",
              "      <td>2</td>\n",
              "      <td>34</td>\n",
              "      <td>0</td>\n",
              "      <td>0</td>\n",
              "      <td>0</td>\n",
              "      <td>0</td>\n",
              "      <td>...</td>\n",
              "      <td>14331</td>\n",
              "      <td>14948</td>\n",
              "      <td>15549</td>\n",
              "      <td>1518</td>\n",
              "      <td>1500</td>\n",
              "      <td>1000</td>\n",
              "      <td>1000</td>\n",
              "      <td>1000</td>\n",
              "      <td>5000</td>\n",
              "      <td>0</td>\n",
              "    </tr>\n",
              "    <tr>\n",
              "      <th>3</th>\n",
              "      <td>4</td>\n",
              "      <td>50000</td>\n",
              "      <td>2</td>\n",
              "      <td>2</td>\n",
              "      <td>1</td>\n",
              "      <td>37</td>\n",
              "      <td>0</td>\n",
              "      <td>0</td>\n",
              "      <td>0</td>\n",
              "      <td>0</td>\n",
              "      <td>...</td>\n",
              "      <td>28314</td>\n",
              "      <td>28959</td>\n",
              "      <td>29547</td>\n",
              "      <td>2000</td>\n",
              "      <td>2019</td>\n",
              "      <td>1200</td>\n",
              "      <td>1100</td>\n",
              "      <td>1069</td>\n",
              "      <td>1000</td>\n",
              "      <td>0</td>\n",
              "    </tr>\n",
              "    <tr>\n",
              "      <th>4</th>\n",
              "      <td>5</td>\n",
              "      <td>50000</td>\n",
              "      <td>1</td>\n",
              "      <td>2</td>\n",
              "      <td>1</td>\n",
              "      <td>57</td>\n",
              "      <td>-1</td>\n",
              "      <td>0</td>\n",
              "      <td>-1</td>\n",
              "      <td>0</td>\n",
              "      <td>...</td>\n",
              "      <td>20940</td>\n",
              "      <td>19146</td>\n",
              "      <td>19131</td>\n",
              "      <td>2000</td>\n",
              "      <td>36681</td>\n",
              "      <td>10000</td>\n",
              "      <td>9000</td>\n",
              "      <td>689</td>\n",
              "      <td>679</td>\n",
              "      <td>0</td>\n",
              "    </tr>\n",
              "  </tbody>\n",
              "</table>\n",
              "<p>5 rows × 25 columns</p>\n",
              "</div>\n",
              "      <button class=\"colab-df-convert\" onclick=\"convertToInteractive('df-67f627c3-1e52-4d78-b241-952424fa155b')\"\n",
              "              title=\"Convert this dataframe to an interactive table.\"\n",
              "              style=\"display:none;\">\n",
              "        \n",
              "  <svg xmlns=\"http://www.w3.org/2000/svg\" height=\"24px\"viewBox=\"0 0 24 24\"\n",
              "       width=\"24px\">\n",
              "    <path d=\"M0 0h24v24H0V0z\" fill=\"none\"/>\n",
              "    <path d=\"M18.56 5.44l.94 2.06.94-2.06 2.06-.94-2.06-.94-.94-2.06-.94 2.06-2.06.94zm-11 1L8.5 8.5l.94-2.06 2.06-.94-2.06-.94L8.5 2.5l-.94 2.06-2.06.94zm10 10l.94 2.06.94-2.06 2.06-.94-2.06-.94-.94-2.06-.94 2.06-2.06.94z\"/><path d=\"M17.41 7.96l-1.37-1.37c-.4-.4-.92-.59-1.43-.59-.52 0-1.04.2-1.43.59L10.3 9.45l-7.72 7.72c-.78.78-.78 2.05 0 2.83L4 21.41c.39.39.9.59 1.41.59.51 0 1.02-.2 1.41-.59l7.78-7.78 2.81-2.81c.8-.78.8-2.07 0-2.86zM5.41 20L4 18.59l7.72-7.72 1.47 1.35L5.41 20z\"/>\n",
              "  </svg>\n",
              "      </button>\n",
              "      \n",
              "  <style>\n",
              "    .colab-df-container {\n",
              "      display:flex;\n",
              "      flex-wrap:wrap;\n",
              "      gap: 12px;\n",
              "    }\n",
              "\n",
              "    .colab-df-convert {\n",
              "      background-color: #E8F0FE;\n",
              "      border: none;\n",
              "      border-radius: 50%;\n",
              "      cursor: pointer;\n",
              "      display: none;\n",
              "      fill: #1967D2;\n",
              "      height: 32px;\n",
              "      padding: 0 0 0 0;\n",
              "      width: 32px;\n",
              "    }\n",
              "\n",
              "    .colab-df-convert:hover {\n",
              "      background-color: #E2EBFA;\n",
              "      box-shadow: 0px 1px 2px rgba(60, 64, 67, 0.3), 0px 1px 3px 1px rgba(60, 64, 67, 0.15);\n",
              "      fill: #174EA6;\n",
              "    }\n",
              "\n",
              "    [theme=dark] .colab-df-convert {\n",
              "      background-color: #3B4455;\n",
              "      fill: #D2E3FC;\n",
              "    }\n",
              "\n",
              "    [theme=dark] .colab-df-convert:hover {\n",
              "      background-color: #434B5C;\n",
              "      box-shadow: 0px 1px 3px 1px rgba(0, 0, 0, 0.15);\n",
              "      filter: drop-shadow(0px 1px 2px rgba(0, 0, 0, 0.3));\n",
              "      fill: #FFFFFF;\n",
              "    }\n",
              "  </style>\n",
              "\n",
              "      <script>\n",
              "        const buttonEl =\n",
              "          document.querySelector('#df-67f627c3-1e52-4d78-b241-952424fa155b button.colab-df-convert');\n",
              "        buttonEl.style.display =\n",
              "          google.colab.kernel.accessAllowed ? 'block' : 'none';\n",
              "\n",
              "        async function convertToInteractive(key) {\n",
              "          const element = document.querySelector('#df-67f627c3-1e52-4d78-b241-952424fa155b');\n",
              "          const dataTable =\n",
              "            await google.colab.kernel.invokeFunction('convertToInteractive',\n",
              "                                                     [key], {});\n",
              "          if (!dataTable) return;\n",
              "\n",
              "          const docLinkHtml = 'Like what you see? Visit the ' +\n",
              "            '<a target=\"_blank\" href=https://colab.research.google.com/notebooks/data_table.ipynb>data table notebook</a>'\n",
              "            + ' to learn more about interactive tables.';\n",
              "          element.innerHTML = '';\n",
              "          dataTable['output_type'] = 'display_data';\n",
              "          await google.colab.output.renderOutput(dataTable, element);\n",
              "          const docLink = document.createElement('div');\n",
              "          docLink.innerHTML = docLinkHtml;\n",
              "          element.appendChild(docLink);\n",
              "        }\n",
              "      </script>\n",
              "    </div>\n",
              "  </div>\n",
              "  "
            ]
          },
          "metadata": {},
          "execution_count": 167
        }
      ],
      "source": [
        "df.head()"
      ]
    },
    {
      "cell_type": "code",
      "execution_count": 168,
      "id": "822eb99f-636b-4acc-b512-73315f64505b",
      "metadata": {
        "id": "822eb99f-636b-4acc-b512-73315f64505b"
      },
      "outputs": [],
      "source": [
        "df = df.rename(columns=lambda x: x.lower())"
      ]
    },
    {
      "cell_type": "code",
      "execution_count": 169,
      "id": "9ca38936-43a8-4489-a9c1-460eab7ac3c2",
      "metadata": {
        "colab": {
          "base_uri": "https://localhost:8080/"
        },
        "id": "9ca38936-43a8-4489-a9c1-460eab7ac3c2",
        "outputId": "a10aa507-32c7-4fad-f132-e8db46278438"
      },
      "outputs": [
        {
          "output_type": "execute_result",
          "data": {
            "text/plain": [
              "(30000, 25)"
            ]
          },
          "metadata": {},
          "execution_count": 169
        }
      ],
      "source": [
        "df.shape"
      ]
    },
    {
      "cell_type": "code",
      "execution_count": 170,
      "id": "43717475-be11-4dca-80a3-803c3f18e0ad",
      "metadata": {
        "id": "43717475-be11-4dca-80a3-803c3f18e0ad"
      },
      "outputs": [],
      "source": [
        "bill_cols = list(filter(lambda col: col.find(\"bill_amt\") != -1, df.columns))"
      ]
    },
    {
      "cell_type": "code",
      "execution_count": 171,
      "id": "38f68449-0cc1-4a97-9e71-ba68cc910849",
      "metadata": {
        "id": "38f68449-0cc1-4a97-9e71-ba68cc910849"
      },
      "outputs": [],
      "source": [
        "pay_cols = list(filter(lambda col: col.find(\"pay_amt\") != -1, df.columns))"
      ]
    },
    {
      "cell_type": "code",
      "execution_count": 172,
      "id": "91a5042d-cf5b-4ecd-943c-94da49b0cba7",
      "metadata": {
        "id": "91a5042d-cf5b-4ecd-943c-94da49b0cba7"
      },
      "outputs": [],
      "source": [
        "df['bill_min'] = df[bill_cols].apply(min, axis=1)"
      ]
    },
    {
      "cell_type": "code",
      "execution_count": 173,
      "id": "f136c6d8-1503-4425-b67b-32a4c5f25962",
      "metadata": {
        "id": "f136c6d8-1503-4425-b67b-32a4c5f25962"
      },
      "outputs": [],
      "source": [
        "df['bill_max'] = df[bill_cols].apply(max, axis=1)"
      ]
    },
    {
      "cell_type": "code",
      "execution_count": 174,
      "id": "004c443b-0729-40c5-ad01-d4361cf7649e",
      "metadata": {
        "id": "004c443b-0729-40c5-ad01-d4361cf7649e"
      },
      "outputs": [],
      "source": [
        "df['pay_min'] = df[pay_cols].apply(min, axis=1)"
      ]
    },
    {
      "cell_type": "code",
      "execution_count": 175,
      "id": "76eda61a-a138-4661-bd63-9d313303e1ee",
      "metadata": {
        "id": "76eda61a-a138-4661-bd63-9d313303e1ee"
      },
      "outputs": [],
      "source": [
        "df['pay_max'] = df[pay_cols].apply(max, axis=1)"
      ]
    },
    {
      "cell_type": "code",
      "execution_count": 176,
      "id": "ac738713-5703-4572-8e62-5c640fa34f3c",
      "metadata": {
        "id": "ac738713-5703-4572-8e62-5c640fa34f3c"
      },
      "outputs": [],
      "source": [
        "df = df.drop(pay_cols + bill_cols + ['id'] + ['pay_' + str(i) for i in range(2,6)], axis=1)"
      ]
    },
    {
      "cell_type": "code",
      "execution_count": 177,
      "id": "b1cf739c-018e-43a0-a42f-ecc3899ad9b2",
      "metadata": {
        "colab": {
          "base_uri": "https://localhost:8080/",
          "height": 270
        },
        "id": "b1cf739c-018e-43a0-a42f-ecc3899ad9b2",
        "outputId": "58c08dce-1446-4f2e-aba3-3e7b4ae4404d"
      },
      "outputs": [
        {
          "output_type": "execute_result",
          "data": {
            "text/plain": [
              "   limit_bal  sex  education  marriage  age  pay_0  pay_6  default  bill_min  \\\n",
              "0      20000    2          2         1   24      2     -2        1         0   \n",
              "1     120000    2          2         2   26     -1      2        1      1725   \n",
              "2      90000    2          2         2   34      0      0        0     13559   \n",
              "3      50000    2          2         1   37      0      0        0     28314   \n",
              "4      50000    1          2         1   57     -1      0        0      5670   \n",
              "\n",
              "   bill_max  pay_min  pay_max  \n",
              "0      3913        0      689  \n",
              "1      3455        0     2000  \n",
              "2     29239     1000     5000  \n",
              "3     49291     1000     2019  \n",
              "4     35835      679    36681  "
            ],
            "text/html": [
              "\n",
              "  <div id=\"df-1fef927a-e589-464e-a697-b85193c00430\">\n",
              "    <div class=\"colab-df-container\">\n",
              "      <div>\n",
              "<style scoped>\n",
              "    .dataframe tbody tr th:only-of-type {\n",
              "        vertical-align: middle;\n",
              "    }\n",
              "\n",
              "    .dataframe tbody tr th {\n",
              "        vertical-align: top;\n",
              "    }\n",
              "\n",
              "    .dataframe thead th {\n",
              "        text-align: right;\n",
              "    }\n",
              "</style>\n",
              "<table border=\"1\" class=\"dataframe\">\n",
              "  <thead>\n",
              "    <tr style=\"text-align: right;\">\n",
              "      <th></th>\n",
              "      <th>limit_bal</th>\n",
              "      <th>sex</th>\n",
              "      <th>education</th>\n",
              "      <th>marriage</th>\n",
              "      <th>age</th>\n",
              "      <th>pay_0</th>\n",
              "      <th>pay_6</th>\n",
              "      <th>default</th>\n",
              "      <th>bill_min</th>\n",
              "      <th>bill_max</th>\n",
              "      <th>pay_min</th>\n",
              "      <th>pay_max</th>\n",
              "    </tr>\n",
              "  </thead>\n",
              "  <tbody>\n",
              "    <tr>\n",
              "      <th>0</th>\n",
              "      <td>20000</td>\n",
              "      <td>2</td>\n",
              "      <td>2</td>\n",
              "      <td>1</td>\n",
              "      <td>24</td>\n",
              "      <td>2</td>\n",
              "      <td>-2</td>\n",
              "      <td>1</td>\n",
              "      <td>0</td>\n",
              "      <td>3913</td>\n",
              "      <td>0</td>\n",
              "      <td>689</td>\n",
              "    </tr>\n",
              "    <tr>\n",
              "      <th>1</th>\n",
              "      <td>120000</td>\n",
              "      <td>2</td>\n",
              "      <td>2</td>\n",
              "      <td>2</td>\n",
              "      <td>26</td>\n",
              "      <td>-1</td>\n",
              "      <td>2</td>\n",
              "      <td>1</td>\n",
              "      <td>1725</td>\n",
              "      <td>3455</td>\n",
              "      <td>0</td>\n",
              "      <td>2000</td>\n",
              "    </tr>\n",
              "    <tr>\n",
              "      <th>2</th>\n",
              "      <td>90000</td>\n",
              "      <td>2</td>\n",
              "      <td>2</td>\n",
              "      <td>2</td>\n",
              "      <td>34</td>\n",
              "      <td>0</td>\n",
              "      <td>0</td>\n",
              "      <td>0</td>\n",
              "      <td>13559</td>\n",
              "      <td>29239</td>\n",
              "      <td>1000</td>\n",
              "      <td>5000</td>\n",
              "    </tr>\n",
              "    <tr>\n",
              "      <th>3</th>\n",
              "      <td>50000</td>\n",
              "      <td>2</td>\n",
              "      <td>2</td>\n",
              "      <td>1</td>\n",
              "      <td>37</td>\n",
              "      <td>0</td>\n",
              "      <td>0</td>\n",
              "      <td>0</td>\n",
              "      <td>28314</td>\n",
              "      <td>49291</td>\n",
              "      <td>1000</td>\n",
              "      <td>2019</td>\n",
              "    </tr>\n",
              "    <tr>\n",
              "      <th>4</th>\n",
              "      <td>50000</td>\n",
              "      <td>1</td>\n",
              "      <td>2</td>\n",
              "      <td>1</td>\n",
              "      <td>57</td>\n",
              "      <td>-1</td>\n",
              "      <td>0</td>\n",
              "      <td>0</td>\n",
              "      <td>5670</td>\n",
              "      <td>35835</td>\n",
              "      <td>679</td>\n",
              "      <td>36681</td>\n",
              "    </tr>\n",
              "  </tbody>\n",
              "</table>\n",
              "</div>\n",
              "      <button class=\"colab-df-convert\" onclick=\"convertToInteractive('df-1fef927a-e589-464e-a697-b85193c00430')\"\n",
              "              title=\"Convert this dataframe to an interactive table.\"\n",
              "              style=\"display:none;\">\n",
              "        \n",
              "  <svg xmlns=\"http://www.w3.org/2000/svg\" height=\"24px\"viewBox=\"0 0 24 24\"\n",
              "       width=\"24px\">\n",
              "    <path d=\"M0 0h24v24H0V0z\" fill=\"none\"/>\n",
              "    <path d=\"M18.56 5.44l.94 2.06.94-2.06 2.06-.94-2.06-.94-.94-2.06-.94 2.06-2.06.94zm-11 1L8.5 8.5l.94-2.06 2.06-.94-2.06-.94L8.5 2.5l-.94 2.06-2.06.94zm10 10l.94 2.06.94-2.06 2.06-.94-2.06-.94-.94-2.06-.94 2.06-2.06.94z\"/><path d=\"M17.41 7.96l-1.37-1.37c-.4-.4-.92-.59-1.43-.59-.52 0-1.04.2-1.43.59L10.3 9.45l-7.72 7.72c-.78.78-.78 2.05 0 2.83L4 21.41c.39.39.9.59 1.41.59.51 0 1.02-.2 1.41-.59l7.78-7.78 2.81-2.81c.8-.78.8-2.07 0-2.86zM5.41 20L4 18.59l7.72-7.72 1.47 1.35L5.41 20z\"/>\n",
              "  </svg>\n",
              "      </button>\n",
              "      \n",
              "  <style>\n",
              "    .colab-df-container {\n",
              "      display:flex;\n",
              "      flex-wrap:wrap;\n",
              "      gap: 12px;\n",
              "    }\n",
              "\n",
              "    .colab-df-convert {\n",
              "      background-color: #E8F0FE;\n",
              "      border: none;\n",
              "      border-radius: 50%;\n",
              "      cursor: pointer;\n",
              "      display: none;\n",
              "      fill: #1967D2;\n",
              "      height: 32px;\n",
              "      padding: 0 0 0 0;\n",
              "      width: 32px;\n",
              "    }\n",
              "\n",
              "    .colab-df-convert:hover {\n",
              "      background-color: #E2EBFA;\n",
              "      box-shadow: 0px 1px 2px rgba(60, 64, 67, 0.3), 0px 1px 3px 1px rgba(60, 64, 67, 0.15);\n",
              "      fill: #174EA6;\n",
              "    }\n",
              "\n",
              "    [theme=dark] .colab-df-convert {\n",
              "      background-color: #3B4455;\n",
              "      fill: #D2E3FC;\n",
              "    }\n",
              "\n",
              "    [theme=dark] .colab-df-convert:hover {\n",
              "      background-color: #434B5C;\n",
              "      box-shadow: 0px 1px 3px 1px rgba(0, 0, 0, 0.15);\n",
              "      filter: drop-shadow(0px 1px 2px rgba(0, 0, 0, 0.3));\n",
              "      fill: #FFFFFF;\n",
              "    }\n",
              "  </style>\n",
              "\n",
              "      <script>\n",
              "        const buttonEl =\n",
              "          document.querySelector('#df-1fef927a-e589-464e-a697-b85193c00430 button.colab-df-convert');\n",
              "        buttonEl.style.display =\n",
              "          google.colab.kernel.accessAllowed ? 'block' : 'none';\n",
              "\n",
              "        async function convertToInteractive(key) {\n",
              "          const element = document.querySelector('#df-1fef927a-e589-464e-a697-b85193c00430');\n",
              "          const dataTable =\n",
              "            await google.colab.kernel.invokeFunction('convertToInteractive',\n",
              "                                                     [key], {});\n",
              "          if (!dataTable) return;\n",
              "\n",
              "          const docLinkHtml = 'Like what you see? Visit the ' +\n",
              "            '<a target=\"_blank\" href=https://colab.research.google.com/notebooks/data_table.ipynb>data table notebook</a>'\n",
              "            + ' to learn more about interactive tables.';\n",
              "          element.innerHTML = '';\n",
              "          dataTable['output_type'] = 'display_data';\n",
              "          await google.colab.output.renderOutput(dataTable, element);\n",
              "          const docLink = document.createElement('div');\n",
              "          docLink.innerHTML = docLinkHtml;\n",
              "          element.appendChild(docLink);\n",
              "        }\n",
              "      </script>\n",
              "    </div>\n",
              "  </div>\n",
              "  "
            ]
          },
          "metadata": {},
          "execution_count": 177
        }
      ],
      "source": [
        "df.head()"
      ]
    },
    {
      "cell_type": "code",
      "execution_count": 178,
      "id": "0db99d88-6dea-4a59-b67e-b65063ff2674",
      "metadata": {
        "id": "0db99d88-6dea-4a59-b67e-b65063ff2674"
      },
      "outputs": [],
      "source": [
        "df = df[(df['bill_min'] > 0) &\n",
        "        (df['pay_max'] > 0) &\n",
        "        (df['marriage'] != 0) &\n",
        "        (df['marriage'] != 3) &\n",
        "        (df['education'] != 0)]"
      ]
    },
    {
      "cell_type": "code",
      "execution_count": 179,
      "id": "3004e335-2bf7-406c-9a2b-90d4ef3e74f6",
      "metadata": {
        "id": "3004e335-2bf7-406c-9a2b-90d4ef3e74f6"
      },
      "outputs": [],
      "source": [
        "df.loc[df.education > 3, 'education'] = 3"
      ]
    },
    {
      "cell_type": "code",
      "execution_count": 180,
      "id": "6b7028df-66da-4356-88f1-d2f8d5995277",
      "metadata": {
        "id": "6b7028df-66da-4356-88f1-d2f8d5995277"
      },
      "outputs": [],
      "source": [
        "df['education'] = pd.Categorical(df.education)"
      ]
    },
    {
      "cell_type": "code",
      "execution_count": 181,
      "id": "79f68631-b2e2-43c3-a353-715df63cfdbb",
      "metadata": {
        "id": "79f68631-b2e2-43c3-a353-715df63cfdbb"
      },
      "outputs": [],
      "source": [
        "df['sex'] = pd.Categorical(df.sex)"
      ]
    },
    {
      "cell_type": "code",
      "execution_count": 182,
      "id": "7cc8b1dd-08ea-486d-ad84-0bf4559a2b91",
      "metadata": {
        "id": "7cc8b1dd-08ea-486d-ad84-0bf4559a2b91"
      },
      "outputs": [],
      "source": [
        "df['marriage'] = pd.Categorical(df.marriage)"
      ]
    },
    {
      "cell_type": "code",
      "execution_count": 183,
      "id": "c0adb029-ec2f-4c85-b856-73d8e113bb6b",
      "metadata": {
        "colab": {
          "base_uri": "https://localhost:8080/",
          "height": 364
        },
        "id": "c0adb029-ec2f-4c85-b856-73d8e113bb6b",
        "outputId": "443c6489-4a09-48ce-dcf0-1c065aa6830f"
      },
      "outputs": [
        {
          "output_type": "execute_result",
          "data": {
            "text/plain": [
              "            limit_bal           age         pay_0         pay_6       default  \\\n",
              "count    21943.000000  21943.000000  21943.000000  21943.000000  21943.000000   \n",
              "mean    162801.334366     35.271977      0.085996      0.021328      0.222167   \n",
              "std     130553.935668      9.221242      1.042020      0.947823      0.415712   \n",
              "min      10000.000000     21.000000     -2.000000     -2.000000      0.000000   \n",
              "25%      50000.000000     28.000000      0.000000      0.000000      0.000000   \n",
              "50%     130000.000000     34.000000      0.000000      0.000000      0.000000   \n",
              "75%     230000.000000     41.000000      0.000000      0.000000      0.000000   \n",
              "max    1000000.000000     79.000000      8.000000      8.000000      1.000000   \n",
              "\n",
              "            bill_min       bill_max       pay_min       pay_max  \n",
              "count   21943.000000   21943.000000  21943.000000  2.194300e+04  \n",
              "mean    43168.164563   73786.276307   1665.886706  1.634583e+04  \n",
              "std     59592.725589   82413.780752   2748.702698  3.571387e+04  \n",
              "min         1.000000      12.000000      0.000000  1.500000e+01  \n",
              "25%      4596.500000   19652.500000      0.000000  2.843000e+03  \n",
              "50%     19852.000000   47637.000000    700.000000  5.300000e+03  \n",
              "75%     55951.500000   97714.500000   2050.000000  1.300000e+04  \n",
              "max    551702.000000  983931.000000  63758.000000  1.227082e+06  "
            ],
            "text/html": [
              "\n",
              "  <div id=\"df-5cc01eca-6cc6-4340-822d-d6bcafce29e5\">\n",
              "    <div class=\"colab-df-container\">\n",
              "      <div>\n",
              "<style scoped>\n",
              "    .dataframe tbody tr th:only-of-type {\n",
              "        vertical-align: middle;\n",
              "    }\n",
              "\n",
              "    .dataframe tbody tr th {\n",
              "        vertical-align: top;\n",
              "    }\n",
              "\n",
              "    .dataframe thead th {\n",
              "        text-align: right;\n",
              "    }\n",
              "</style>\n",
              "<table border=\"1\" class=\"dataframe\">\n",
              "  <thead>\n",
              "    <tr style=\"text-align: right;\">\n",
              "      <th></th>\n",
              "      <th>limit_bal</th>\n",
              "      <th>age</th>\n",
              "      <th>pay_0</th>\n",
              "      <th>pay_6</th>\n",
              "      <th>default</th>\n",
              "      <th>bill_min</th>\n",
              "      <th>bill_max</th>\n",
              "      <th>pay_min</th>\n",
              "      <th>pay_max</th>\n",
              "    </tr>\n",
              "  </thead>\n",
              "  <tbody>\n",
              "    <tr>\n",
              "      <th>count</th>\n",
              "      <td>21943.000000</td>\n",
              "      <td>21943.000000</td>\n",
              "      <td>21943.000000</td>\n",
              "      <td>21943.000000</td>\n",
              "      <td>21943.000000</td>\n",
              "      <td>21943.000000</td>\n",
              "      <td>21943.000000</td>\n",
              "      <td>21943.000000</td>\n",
              "      <td>2.194300e+04</td>\n",
              "    </tr>\n",
              "    <tr>\n",
              "      <th>mean</th>\n",
              "      <td>162801.334366</td>\n",
              "      <td>35.271977</td>\n",
              "      <td>0.085996</td>\n",
              "      <td>0.021328</td>\n",
              "      <td>0.222167</td>\n",
              "      <td>43168.164563</td>\n",
              "      <td>73786.276307</td>\n",
              "      <td>1665.886706</td>\n",
              "      <td>1.634583e+04</td>\n",
              "    </tr>\n",
              "    <tr>\n",
              "      <th>std</th>\n",
              "      <td>130553.935668</td>\n",
              "      <td>9.221242</td>\n",
              "      <td>1.042020</td>\n",
              "      <td>0.947823</td>\n",
              "      <td>0.415712</td>\n",
              "      <td>59592.725589</td>\n",
              "      <td>82413.780752</td>\n",
              "      <td>2748.702698</td>\n",
              "      <td>3.571387e+04</td>\n",
              "    </tr>\n",
              "    <tr>\n",
              "      <th>min</th>\n",
              "      <td>10000.000000</td>\n",
              "      <td>21.000000</td>\n",
              "      <td>-2.000000</td>\n",
              "      <td>-2.000000</td>\n",
              "      <td>0.000000</td>\n",
              "      <td>1.000000</td>\n",
              "      <td>12.000000</td>\n",
              "      <td>0.000000</td>\n",
              "      <td>1.500000e+01</td>\n",
              "    </tr>\n",
              "    <tr>\n",
              "      <th>25%</th>\n",
              "      <td>50000.000000</td>\n",
              "      <td>28.000000</td>\n",
              "      <td>0.000000</td>\n",
              "      <td>0.000000</td>\n",
              "      <td>0.000000</td>\n",
              "      <td>4596.500000</td>\n",
              "      <td>19652.500000</td>\n",
              "      <td>0.000000</td>\n",
              "      <td>2.843000e+03</td>\n",
              "    </tr>\n",
              "    <tr>\n",
              "      <th>50%</th>\n",
              "      <td>130000.000000</td>\n",
              "      <td>34.000000</td>\n",
              "      <td>0.000000</td>\n",
              "      <td>0.000000</td>\n",
              "      <td>0.000000</td>\n",
              "      <td>19852.000000</td>\n",
              "      <td>47637.000000</td>\n",
              "      <td>700.000000</td>\n",
              "      <td>5.300000e+03</td>\n",
              "    </tr>\n",
              "    <tr>\n",
              "      <th>75%</th>\n",
              "      <td>230000.000000</td>\n",
              "      <td>41.000000</td>\n",
              "      <td>0.000000</td>\n",
              "      <td>0.000000</td>\n",
              "      <td>0.000000</td>\n",
              "      <td>55951.500000</td>\n",
              "      <td>97714.500000</td>\n",
              "      <td>2050.000000</td>\n",
              "      <td>1.300000e+04</td>\n",
              "    </tr>\n",
              "    <tr>\n",
              "      <th>max</th>\n",
              "      <td>1000000.000000</td>\n",
              "      <td>79.000000</td>\n",
              "      <td>8.000000</td>\n",
              "      <td>8.000000</td>\n",
              "      <td>1.000000</td>\n",
              "      <td>551702.000000</td>\n",
              "      <td>983931.000000</td>\n",
              "      <td>63758.000000</td>\n",
              "      <td>1.227082e+06</td>\n",
              "    </tr>\n",
              "  </tbody>\n",
              "</table>\n",
              "</div>\n",
              "      <button class=\"colab-df-convert\" onclick=\"convertToInteractive('df-5cc01eca-6cc6-4340-822d-d6bcafce29e5')\"\n",
              "              title=\"Convert this dataframe to an interactive table.\"\n",
              "              style=\"display:none;\">\n",
              "        \n",
              "  <svg xmlns=\"http://www.w3.org/2000/svg\" height=\"24px\"viewBox=\"0 0 24 24\"\n",
              "       width=\"24px\">\n",
              "    <path d=\"M0 0h24v24H0V0z\" fill=\"none\"/>\n",
              "    <path d=\"M18.56 5.44l.94 2.06.94-2.06 2.06-.94-2.06-.94-.94-2.06-.94 2.06-2.06.94zm-11 1L8.5 8.5l.94-2.06 2.06-.94-2.06-.94L8.5 2.5l-.94 2.06-2.06.94zm10 10l.94 2.06.94-2.06 2.06-.94-2.06-.94-.94-2.06-.94 2.06-2.06.94z\"/><path d=\"M17.41 7.96l-1.37-1.37c-.4-.4-.92-.59-1.43-.59-.52 0-1.04.2-1.43.59L10.3 9.45l-7.72 7.72c-.78.78-.78 2.05 0 2.83L4 21.41c.39.39.9.59 1.41.59.51 0 1.02-.2 1.41-.59l7.78-7.78 2.81-2.81c.8-.78.8-2.07 0-2.86zM5.41 20L4 18.59l7.72-7.72 1.47 1.35L5.41 20z\"/>\n",
              "  </svg>\n",
              "      </button>\n",
              "      \n",
              "  <style>\n",
              "    .colab-df-container {\n",
              "      display:flex;\n",
              "      flex-wrap:wrap;\n",
              "      gap: 12px;\n",
              "    }\n",
              "\n",
              "    .colab-df-convert {\n",
              "      background-color: #E8F0FE;\n",
              "      border: none;\n",
              "      border-radius: 50%;\n",
              "      cursor: pointer;\n",
              "      display: none;\n",
              "      fill: #1967D2;\n",
              "      height: 32px;\n",
              "      padding: 0 0 0 0;\n",
              "      width: 32px;\n",
              "    }\n",
              "\n",
              "    .colab-df-convert:hover {\n",
              "      background-color: #E2EBFA;\n",
              "      box-shadow: 0px 1px 2px rgba(60, 64, 67, 0.3), 0px 1px 3px 1px rgba(60, 64, 67, 0.15);\n",
              "      fill: #174EA6;\n",
              "    }\n",
              "\n",
              "    [theme=dark] .colab-df-convert {\n",
              "      background-color: #3B4455;\n",
              "      fill: #D2E3FC;\n",
              "    }\n",
              "\n",
              "    [theme=dark] .colab-df-convert:hover {\n",
              "      background-color: #434B5C;\n",
              "      box-shadow: 0px 1px 3px 1px rgba(0, 0, 0, 0.15);\n",
              "      filter: drop-shadow(0px 1px 2px rgba(0, 0, 0, 0.3));\n",
              "      fill: #FFFFFF;\n",
              "    }\n",
              "  </style>\n",
              "\n",
              "      <script>\n",
              "        const buttonEl =\n",
              "          document.querySelector('#df-5cc01eca-6cc6-4340-822d-d6bcafce29e5 button.colab-df-convert');\n",
              "        buttonEl.style.display =\n",
              "          google.colab.kernel.accessAllowed ? 'block' : 'none';\n",
              "\n",
              "        async function convertToInteractive(key) {\n",
              "          const element = document.querySelector('#df-5cc01eca-6cc6-4340-822d-d6bcafce29e5');\n",
              "          const dataTable =\n",
              "            await google.colab.kernel.invokeFunction('convertToInteractive',\n",
              "                                                     [key], {});\n",
              "          if (!dataTable) return;\n",
              "\n",
              "          const docLinkHtml = 'Like what you see? Visit the ' +\n",
              "            '<a target=\"_blank\" href=https://colab.research.google.com/notebooks/data_table.ipynb>data table notebook</a>'\n",
              "            + ' to learn more about interactive tables.';\n",
              "          element.innerHTML = '';\n",
              "          dataTable['output_type'] = 'display_data';\n",
              "          await google.colab.output.renderOutput(dataTable, element);\n",
              "          const docLink = document.createElement('div');\n",
              "          docLink.innerHTML = docLinkHtml;\n",
              "          element.appendChild(docLink);\n",
              "        }\n",
              "      </script>\n",
              "    </div>\n",
              "  </div>\n",
              "  "
            ]
          },
          "metadata": {},
          "execution_count": 183
        }
      ],
      "source": [
        "df.describe()"
      ]
    },
    {
      "cell_type": "code",
      "execution_count": 184,
      "id": "9c04d31d-f8ff-4260-b48b-fdfe47b3eb27",
      "metadata": {
        "id": "9c04d31d-f8ff-4260-b48b-fdfe47b3eb27"
      },
      "outputs": [],
      "source": [
        "df_table = df[['default',\n",
        "               'age',\n",
        "               'sex',\n",
        "               'education',\n",
        "               'marriage',\n",
        "               'limit_bal']].rename(columns={'age':'age_full', 'limit_bal':'limit_bal_full'})"
      ]
    },
    {
      "cell_type": "code",
      "execution_count": 185,
      "id": "2db9d6d5-41dd-42d5-a275-503ef09c2606",
      "metadata": {
        "id": "2db9d6d5-41dd-42d5-a275-503ef09c2606"
      },
      "outputs": [],
      "source": [
        "age_breaks = [-np.infty, 25, 30, 35, 40, np.infty]\n",
        "age_lables = ['<25', '25-30', '30-35','35-40', '>40']\n",
        "df_table['age'] = pd.cut(df_table['age_full'], bins=age_breaks, labels=age_lables)"
      ]
    },
    {
      "cell_type": "code",
      "execution_count": 186,
      "id": "ddd3f336-4e3d-4349-8194-982a569f43a8",
      "metadata": {
        "id": "ddd3f336-4e3d-4349-8194-982a569f43a8"
      },
      "outputs": [],
      "source": [
        "limit_bal_breaks = [-np.infty,50_000, 100_000, 150_000, 200_000, np.infty]\n",
        "limit_bal_lables = ['<50k','50k-100k','100k-150k','150k-200k','>200k']\n",
        "df_table['limit_bal'] = pd.cut(df_table['limit_bal_full'], bins=limit_bal_breaks, labels=limit_bal_lables)"
      ]
    },
    {
      "cell_type": "code",
      "execution_count": 187,
      "id": "953938d8-f705-4307-b67f-360769f17655",
      "metadata": {
        "id": "953938d8-f705-4307-b67f-360769f17655"
      },
      "outputs": [],
      "source": [
        "df_table = df_table.drop(filter(lambda x: x.find(\"_full\") != -1, df_table.columns), axis=1)"
      ]
    },
    {
      "cell_type": "code",
      "execution_count": 188,
      "id": "66e03d4a-a5e0-48cc-98be-6f5b714c7e10",
      "metadata": {
        "id": "66e03d4a-a5e0-48cc-98be-6f5b714c7e10"
      },
      "outputs": [],
      "source": [
        "df_table_grouped = df_table.groupby(['age', 'limit_bal', 'sex'], dropna=False)\n",
        "df_table = df_table_grouped.agg({'default':'sum'}).rename(columns = {'default':'default_yes'})"
      ]
    },
    {
      "cell_type": "code",
      "execution_count": 189,
      "id": "1024c2cc-21f4-490f-9cb7-eac41beb7e70",
      "metadata": {
        "id": "1024c2cc-21f4-490f-9cb7-eac41beb7e70"
      },
      "outputs": [],
      "source": [
        "df_table['default_no'] = df_table_grouped.size() - df_table['default_yes']"
      ]
    },
    {
      "cell_type": "code",
      "execution_count": 190,
      "id": "973910af-d31b-4f43-9d54-3eb73243dac7",
      "metadata": {
        "colab": {
          "base_uri": "https://localhost:8080/",
          "height": 237
        },
        "id": "973910af-d31b-4f43-9d54-3eb73243dac7",
        "outputId": "fb49d8de-b96e-44b5-adff-d1393646e2cc"
      },
      "outputs": [
        {
          "output_type": "execute_result",
          "data": {
            "text/plain": [
              "                   default_yes  default_no\n",
              "age limit_bal sex                         \n",
              "<25 <50k      1            210         444\n",
              "              2            326         710\n",
              "    50k-100k  1             23          94\n",
              "              2            146         439\n",
              "    100k-150k 1             12          43"
            ],
            "text/html": [
              "\n",
              "  <div id=\"df-f2572dea-278c-4aaa-b586-ecc3c97cf939\">\n",
              "    <div class=\"colab-df-container\">\n",
              "      <div>\n",
              "<style scoped>\n",
              "    .dataframe tbody tr th:only-of-type {\n",
              "        vertical-align: middle;\n",
              "    }\n",
              "\n",
              "    .dataframe tbody tr th {\n",
              "        vertical-align: top;\n",
              "    }\n",
              "\n",
              "    .dataframe thead th {\n",
              "        text-align: right;\n",
              "    }\n",
              "</style>\n",
              "<table border=\"1\" class=\"dataframe\">\n",
              "  <thead>\n",
              "    <tr style=\"text-align: right;\">\n",
              "      <th></th>\n",
              "      <th></th>\n",
              "      <th></th>\n",
              "      <th>default_yes</th>\n",
              "      <th>default_no</th>\n",
              "    </tr>\n",
              "    <tr>\n",
              "      <th>age</th>\n",
              "      <th>limit_bal</th>\n",
              "      <th>sex</th>\n",
              "      <th></th>\n",
              "      <th></th>\n",
              "    </tr>\n",
              "  </thead>\n",
              "  <tbody>\n",
              "    <tr>\n",
              "      <th rowspan=\"5\" valign=\"top\">&lt;25</th>\n",
              "      <th rowspan=\"2\" valign=\"top\">&lt;50k</th>\n",
              "      <th>1</th>\n",
              "      <td>210</td>\n",
              "      <td>444</td>\n",
              "    </tr>\n",
              "    <tr>\n",
              "      <th>2</th>\n",
              "      <td>326</td>\n",
              "      <td>710</td>\n",
              "    </tr>\n",
              "    <tr>\n",
              "      <th rowspan=\"2\" valign=\"top\">50k-100k</th>\n",
              "      <th>1</th>\n",
              "      <td>23</td>\n",
              "      <td>94</td>\n",
              "    </tr>\n",
              "    <tr>\n",
              "      <th>2</th>\n",
              "      <td>146</td>\n",
              "      <td>439</td>\n",
              "    </tr>\n",
              "    <tr>\n",
              "      <th>100k-150k</th>\n",
              "      <th>1</th>\n",
              "      <td>12</td>\n",
              "      <td>43</td>\n",
              "    </tr>\n",
              "  </tbody>\n",
              "</table>\n",
              "</div>\n",
              "      <button class=\"colab-df-convert\" onclick=\"convertToInteractive('df-f2572dea-278c-4aaa-b586-ecc3c97cf939')\"\n",
              "              title=\"Convert this dataframe to an interactive table.\"\n",
              "              style=\"display:none;\">\n",
              "        \n",
              "  <svg xmlns=\"http://www.w3.org/2000/svg\" height=\"24px\"viewBox=\"0 0 24 24\"\n",
              "       width=\"24px\">\n",
              "    <path d=\"M0 0h24v24H0V0z\" fill=\"none\"/>\n",
              "    <path d=\"M18.56 5.44l.94 2.06.94-2.06 2.06-.94-2.06-.94-.94-2.06-.94 2.06-2.06.94zm-11 1L8.5 8.5l.94-2.06 2.06-.94-2.06-.94L8.5 2.5l-.94 2.06-2.06.94zm10 10l.94 2.06.94-2.06 2.06-.94-2.06-.94-.94-2.06-.94 2.06-2.06.94z\"/><path d=\"M17.41 7.96l-1.37-1.37c-.4-.4-.92-.59-1.43-.59-.52 0-1.04.2-1.43.59L10.3 9.45l-7.72 7.72c-.78.78-.78 2.05 0 2.83L4 21.41c.39.39.9.59 1.41.59.51 0 1.02-.2 1.41-.59l7.78-7.78 2.81-2.81c.8-.78.8-2.07 0-2.86zM5.41 20L4 18.59l7.72-7.72 1.47 1.35L5.41 20z\"/>\n",
              "  </svg>\n",
              "      </button>\n",
              "      \n",
              "  <style>\n",
              "    .colab-df-container {\n",
              "      display:flex;\n",
              "      flex-wrap:wrap;\n",
              "      gap: 12px;\n",
              "    }\n",
              "\n",
              "    .colab-df-convert {\n",
              "      background-color: #E8F0FE;\n",
              "      border: none;\n",
              "      border-radius: 50%;\n",
              "      cursor: pointer;\n",
              "      display: none;\n",
              "      fill: #1967D2;\n",
              "      height: 32px;\n",
              "      padding: 0 0 0 0;\n",
              "      width: 32px;\n",
              "    }\n",
              "\n",
              "    .colab-df-convert:hover {\n",
              "      background-color: #E2EBFA;\n",
              "      box-shadow: 0px 1px 2px rgba(60, 64, 67, 0.3), 0px 1px 3px 1px rgba(60, 64, 67, 0.15);\n",
              "      fill: #174EA6;\n",
              "    }\n",
              "\n",
              "    [theme=dark] .colab-df-convert {\n",
              "      background-color: #3B4455;\n",
              "      fill: #D2E3FC;\n",
              "    }\n",
              "\n",
              "    [theme=dark] .colab-df-convert:hover {\n",
              "      background-color: #434B5C;\n",
              "      box-shadow: 0px 1px 3px 1px rgba(0, 0, 0, 0.15);\n",
              "      filter: drop-shadow(0px 1px 2px rgba(0, 0, 0, 0.3));\n",
              "      fill: #FFFFFF;\n",
              "    }\n",
              "  </style>\n",
              "\n",
              "      <script>\n",
              "        const buttonEl =\n",
              "          document.querySelector('#df-f2572dea-278c-4aaa-b586-ecc3c97cf939 button.colab-df-convert');\n",
              "        buttonEl.style.display =\n",
              "          google.colab.kernel.accessAllowed ? 'block' : 'none';\n",
              "\n",
              "        async function convertToInteractive(key) {\n",
              "          const element = document.querySelector('#df-f2572dea-278c-4aaa-b586-ecc3c97cf939');\n",
              "          const dataTable =\n",
              "            await google.colab.kernel.invokeFunction('convertToInteractive',\n",
              "                                                     [key], {});\n",
              "          if (!dataTable) return;\n",
              "\n",
              "          const docLinkHtml = 'Like what you see? Visit the ' +\n",
              "            '<a target=\"_blank\" href=https://colab.research.google.com/notebooks/data_table.ipynb>data table notebook</a>'\n",
              "            + ' to learn more about interactive tables.';\n",
              "          element.innerHTML = '';\n",
              "          dataTable['output_type'] = 'display_data';\n",
              "          await google.colab.output.renderOutput(dataTable, element);\n",
              "          const docLink = document.createElement('div');\n",
              "          docLink.innerHTML = docLinkHtml;\n",
              "          element.appendChild(docLink);\n",
              "        }\n",
              "      </script>\n",
              "    </div>\n",
              "  </div>\n",
              "  "
            ]
          },
          "metadata": {},
          "execution_count": 190
        }
      ],
      "source": [
        "df_table.head()"
      ]
    },
    {
      "cell_type": "code",
      "execution_count": 191,
      "id": "be44799d-1f9c-4f79-86fe-1d0a102895c4",
      "metadata": {
        "colab": {
          "base_uri": "https://localhost:8080/"
        },
        "id": "be44799d-1f9c-4f79-86fe-1d0a102895c4",
        "outputId": "14a78e2a-471c-42f8-9b14-7f4b98c104d9"
      },
      "outputs": [
        {
          "output_type": "stream",
          "name": "stdout",
          "text": [
            "Looking in indexes: https://pypi.org/simple, https://us-python.pkg.dev/colab-wheels/public/simple/\n",
            "Requirement already satisfied: scikit-learn in /usr/local/lib/python3.10/dist-packages (1.2.2)\n",
            "Requirement already satisfied: numpy>=1.17.3 in /usr/local/lib/python3.10/dist-packages (from scikit-learn) (1.22.4)\n",
            "Requirement already satisfied: scipy>=1.3.2 in /usr/local/lib/python3.10/dist-packages (from scikit-learn) (1.10.1)\n",
            "Requirement already satisfied: joblib>=1.1.1 in /usr/local/lib/python3.10/dist-packages (from scikit-learn) (1.2.0)\n",
            "Requirement already satisfied: threadpoolctl>=2.0.0 in /usr/local/lib/python3.10/dist-packages (from scikit-learn) (3.1.0)\n"
          ]
        }
      ],
      "source": [
        "%pip install scikit-learn"
      ]
    },
    {
      "cell_type": "code",
      "execution_count": 192,
      "id": "2e7d4290-ac59-459f-96a7-e575a01444d0",
      "metadata": {
        "id": "2e7d4290-ac59-459f-96a7-e575a01444d0"
      },
      "outputs": [],
      "source": [
        "from sklearn.model_selection import train_test_split"
      ]
    },
    {
      "cell_type": "code",
      "execution_count": 193,
      "id": "4fc3afeb-73f2-4e03-b0c9-ab8768d21533",
      "metadata": {
        "id": "4fc3afeb-73f2-4e03-b0c9-ab8768d21533"
      },
      "outputs": [],
      "source": [
        "data_train, data_test = train_test_split(df, test_size = 0.3, random_state=42, stratify=df['default'])"
      ]
    },
    {
      "cell_type": "code",
      "execution_count": 194,
      "id": "3c1416a1-0e67-4aac-8397-dc184dbce0c8",
      "metadata": {
        "colab": {
          "base_uri": "https://localhost:8080/"
        },
        "id": "3c1416a1-0e67-4aac-8397-dc184dbce0c8",
        "outputId": "495548cb-7fb0-489b-e799-f83c633a7db6"
      },
      "outputs": [
        {
          "output_type": "execute_result",
          "data": {
            "text/plain": [
              "(15360, 12)"
            ]
          },
          "metadata": {},
          "execution_count": 194
        }
      ],
      "source": [
        "data_train.shape"
      ]
    },
    {
      "cell_type": "code",
      "execution_count": 195,
      "id": "fc8c976d-1dc5-4e19-bc49-d1092cd502a0",
      "metadata": {
        "colab": {
          "base_uri": "https://localhost:8080/"
        },
        "id": "fc8c976d-1dc5-4e19-bc49-d1092cd502a0",
        "outputId": "b1a916fe-5218-4158-ff78-0fd8451caac4"
      },
      "outputs": [
        {
          "output_type": "execute_result",
          "data": {
            "text/plain": [
              "(6583, 12)"
            ]
          },
          "metadata": {},
          "execution_count": 195
        }
      ],
      "source": [
        "data_test.shape"
      ]
    },
    {
      "cell_type": "markdown",
      "id": "fc09b473-b379-41ac-9e4c-fbdb90e69814",
      "metadata": {
        "id": "fc09b473-b379-41ac-9e4c-fbdb90e69814"
      },
      "source": [
        "## Zadání"
      ]
    },
    {
      "cell_type": "markdown",
      "id": "f1754273-3824-4228-85d1-1e7aa45d3922",
      "metadata": {
        "id": "f1754273-3824-4228-85d1-1e7aa45d3922"
      },
      "source": [
        "## 01 - Grafické zobrazení dat a jejich kontrola\n",
        "\n",
        "Použijte dataset `data_train` a `data_test`."
      ]
    },
    {
      "cell_type": "markdown",
      "id": "fa44496f-4905-4d36-8a75-525e747b1846",
      "metadata": {
        "id": "fa44496f-4905-4d36-8a75-525e747b1846"
      },
      "source": [
        "* Navrhněte vhodný způsob zobrazení dat, který vám pomůže určit, zdali použití logistické regrese pro predikci nesplacení úvěru je možné a vhodné při použítí zvolených trénovacích a testvacích dat.\n",
        "* Vykreslete boxploty pro různé numerické proměnné, odezvu `default` a barevně odlište kategorické proměnné. Je z těchto obrázků možné odhadnout jaká proměnná bude mít vliv na odezvu? (jen `data_train`).\n",
        "* Pro vybrané skupiny z předešlé otázky navrhněte vhodný statistický test, proveďte ho a řekněte zdali je vámi zvolená proměnná statisticky významná pro určení schopnosti splácet (jen `data_train`)."
      ]
    },
    {
      "cell_type": "markdown",
      "id": "95ff4d9a-8ef5-4b6b-987a-b1df5353e88b",
      "metadata": {
        "id": "95ff4d9a-8ef5-4b6b-987a-b1df5353e88b"
      },
      "source": [
        "## 02 - Logistická regrese agregovaná tabulková data\n",
        "\n",
        "použijte `data_table`\n",
        "\n",
        "\n",
        "\n"
      ]
    },
    {
      "cell_type": "markdown",
      "id": "091e08f2-2908-4482-bb29-aaeaf6ee6ab0",
      "metadata": {
        "id": "091e08f2-2908-4482-bb29-aaeaf6ee6ab0"
      },
      "source": [
        "* Vytvořte odezvu pro logistický model binomického rozdělení a sestrojte nulový model. Jaká je ve zkoumané populaci  průměrná šance na neschopnost splácet úvěr  a jaká je pravděpodobnost nesplacení úvěru?\n",
        "\n",
        "* Sestrojte model, kde závisí výskyt nesplacení úvěru pouze na proměnné `limit_bal`. Je vliv limitu významná proměnná na hladině významnosti 0.05? Pokud ano, zjistěte, kolikrát mají lidé s limitem větším než 100 vetší šanci na neschopnost splácet než lidé s limitem nad 200.\n",
        "\n",
        "* Sestrojte model, kde závisí výskyt neschopnosti splácet pouze na věku `age`.  Je věk  statisticky významná proměnná na hladině významnosti 0.01? Pokud ano, zjistěte, kolikrát mají pacienti ve věku mezi 35-40 menší šanci na  neschopnost splácet než lidé ve věku 20-25.\n",
        "\n",
        "* Předpokládejte, že šance na neschopnost splácet roste exponenciálně s hodnotou limitu a klesá exponenciálně s věkem. Vytvořte příslušné numerické spojité prediktory. Sestrojte model, kde šance na neschopnost splácet bude záležet na numerických hodnotách tlaku a věku (bez interakce). Jaký je poměr šancí na neschopnost splácet mezi lidmi lišícími se limitem o 50000 a majícími stejný věk?\n",
        "\n",
        "* Otestujte předešlý model proti saturovanému modelu. Má tento test opodstatnění? Okomentujte jeho výsledek."
      ]
    },
    {
      "cell_type": "code",
      "source": [
        "import statsmodels.api as sm\n",
        "import statsmodels.formula.api as smf\n",
        "import matplotlib.pyplot as plt"
      ],
      "metadata": {
        "id": "sd0lYxJPZMqC"
      },
      "id": "sd0lYxJPZMqC",
      "execution_count": 196,
      "outputs": []
    },
    {
      "cell_type": "code",
      "source": [
        "df_table.head()"
      ],
      "metadata": {
        "colab": {
          "base_uri": "https://localhost:8080/",
          "height": 237
        },
        "id": "aCHERvjYX5W8",
        "outputId": "282c27f5-89c5-4522-bc13-81bae052d119"
      },
      "id": "aCHERvjYX5W8",
      "execution_count": 197,
      "outputs": [
        {
          "output_type": "execute_result",
          "data": {
            "text/plain": [
              "                   default_yes  default_no\n",
              "age limit_bal sex                         \n",
              "<25 <50k      1            210         444\n",
              "              2            326         710\n",
              "    50k-100k  1             23          94\n",
              "              2            146         439\n",
              "    100k-150k 1             12          43"
            ],
            "text/html": [
              "\n",
              "  <div id=\"df-616a19d9-93df-4f73-8c85-fc3d8b848445\">\n",
              "    <div class=\"colab-df-container\">\n",
              "      <div>\n",
              "<style scoped>\n",
              "    .dataframe tbody tr th:only-of-type {\n",
              "        vertical-align: middle;\n",
              "    }\n",
              "\n",
              "    .dataframe tbody tr th {\n",
              "        vertical-align: top;\n",
              "    }\n",
              "\n",
              "    .dataframe thead th {\n",
              "        text-align: right;\n",
              "    }\n",
              "</style>\n",
              "<table border=\"1\" class=\"dataframe\">\n",
              "  <thead>\n",
              "    <tr style=\"text-align: right;\">\n",
              "      <th></th>\n",
              "      <th></th>\n",
              "      <th></th>\n",
              "      <th>default_yes</th>\n",
              "      <th>default_no</th>\n",
              "    </tr>\n",
              "    <tr>\n",
              "      <th>age</th>\n",
              "      <th>limit_bal</th>\n",
              "      <th>sex</th>\n",
              "      <th></th>\n",
              "      <th></th>\n",
              "    </tr>\n",
              "  </thead>\n",
              "  <tbody>\n",
              "    <tr>\n",
              "      <th rowspan=\"5\" valign=\"top\">&lt;25</th>\n",
              "      <th rowspan=\"2\" valign=\"top\">&lt;50k</th>\n",
              "      <th>1</th>\n",
              "      <td>210</td>\n",
              "      <td>444</td>\n",
              "    </tr>\n",
              "    <tr>\n",
              "      <th>2</th>\n",
              "      <td>326</td>\n",
              "      <td>710</td>\n",
              "    </tr>\n",
              "    <tr>\n",
              "      <th rowspan=\"2\" valign=\"top\">50k-100k</th>\n",
              "      <th>1</th>\n",
              "      <td>23</td>\n",
              "      <td>94</td>\n",
              "    </tr>\n",
              "    <tr>\n",
              "      <th>2</th>\n",
              "      <td>146</td>\n",
              "      <td>439</td>\n",
              "    </tr>\n",
              "    <tr>\n",
              "      <th>100k-150k</th>\n",
              "      <th>1</th>\n",
              "      <td>12</td>\n",
              "      <td>43</td>\n",
              "    </tr>\n",
              "  </tbody>\n",
              "</table>\n",
              "</div>\n",
              "      <button class=\"colab-df-convert\" onclick=\"convertToInteractive('df-616a19d9-93df-4f73-8c85-fc3d8b848445')\"\n",
              "              title=\"Convert this dataframe to an interactive table.\"\n",
              "              style=\"display:none;\">\n",
              "        \n",
              "  <svg xmlns=\"http://www.w3.org/2000/svg\" height=\"24px\"viewBox=\"0 0 24 24\"\n",
              "       width=\"24px\">\n",
              "    <path d=\"M0 0h24v24H0V0z\" fill=\"none\"/>\n",
              "    <path d=\"M18.56 5.44l.94 2.06.94-2.06 2.06-.94-2.06-.94-.94-2.06-.94 2.06-2.06.94zm-11 1L8.5 8.5l.94-2.06 2.06-.94-2.06-.94L8.5 2.5l-.94 2.06-2.06.94zm10 10l.94 2.06.94-2.06 2.06-.94-2.06-.94-.94-2.06-.94 2.06-2.06.94z\"/><path d=\"M17.41 7.96l-1.37-1.37c-.4-.4-.92-.59-1.43-.59-.52 0-1.04.2-1.43.59L10.3 9.45l-7.72 7.72c-.78.78-.78 2.05 0 2.83L4 21.41c.39.39.9.59 1.41.59.51 0 1.02-.2 1.41-.59l7.78-7.78 2.81-2.81c.8-.78.8-2.07 0-2.86zM5.41 20L4 18.59l7.72-7.72 1.47 1.35L5.41 20z\"/>\n",
              "  </svg>\n",
              "      </button>\n",
              "      \n",
              "  <style>\n",
              "    .colab-df-container {\n",
              "      display:flex;\n",
              "      flex-wrap:wrap;\n",
              "      gap: 12px;\n",
              "    }\n",
              "\n",
              "    .colab-df-convert {\n",
              "      background-color: #E8F0FE;\n",
              "      border: none;\n",
              "      border-radius: 50%;\n",
              "      cursor: pointer;\n",
              "      display: none;\n",
              "      fill: #1967D2;\n",
              "      height: 32px;\n",
              "      padding: 0 0 0 0;\n",
              "      width: 32px;\n",
              "    }\n",
              "\n",
              "    .colab-df-convert:hover {\n",
              "      background-color: #E2EBFA;\n",
              "      box-shadow: 0px 1px 2px rgba(60, 64, 67, 0.3), 0px 1px 3px 1px rgba(60, 64, 67, 0.15);\n",
              "      fill: #174EA6;\n",
              "    }\n",
              "\n",
              "    [theme=dark] .colab-df-convert {\n",
              "      background-color: #3B4455;\n",
              "      fill: #D2E3FC;\n",
              "    }\n",
              "\n",
              "    [theme=dark] .colab-df-convert:hover {\n",
              "      background-color: #434B5C;\n",
              "      box-shadow: 0px 1px 3px 1px rgba(0, 0, 0, 0.15);\n",
              "      filter: drop-shadow(0px 1px 2px rgba(0, 0, 0, 0.3));\n",
              "      fill: #FFFFFF;\n",
              "    }\n",
              "  </style>\n",
              "\n",
              "      <script>\n",
              "        const buttonEl =\n",
              "          document.querySelector('#df-616a19d9-93df-4f73-8c85-fc3d8b848445 button.colab-df-convert');\n",
              "        buttonEl.style.display =\n",
              "          google.colab.kernel.accessAllowed ? 'block' : 'none';\n",
              "\n",
              "        async function convertToInteractive(key) {\n",
              "          const element = document.querySelector('#df-616a19d9-93df-4f73-8c85-fc3d8b848445');\n",
              "          const dataTable =\n",
              "            await google.colab.kernel.invokeFunction('convertToInteractive',\n",
              "                                                     [key], {});\n",
              "          if (!dataTable) return;\n",
              "\n",
              "          const docLinkHtml = 'Like what you see? Visit the ' +\n",
              "            '<a target=\"_blank\" href=https://colab.research.google.com/notebooks/data_table.ipynb>data table notebook</a>'\n",
              "            + ' to learn more about interactive tables.';\n",
              "          element.innerHTML = '';\n",
              "          dataTable['output_type'] = 'display_data';\n",
              "          await google.colab.output.renderOutput(dataTable, element);\n",
              "          const docLink = document.createElement('div');\n",
              "          docLink.innerHTML = docLinkHtml;\n",
              "          element.appendChild(docLink);\n",
              "        }\n",
              "      </script>\n",
              "    </div>\n",
              "  </div>\n",
              "  "
            ]
          },
          "metadata": {},
          "execution_count": 197
        }
      ]
    },
    {
      "cell_type": "markdown",
      "source": [
        "model:\n",
        "\n",
        "$$ \\ln(\\: p(y, x | \\theta) \\: ) = \\theta^T \\cdot x ≡ \\theta \\cdot x $$\n",
        "\n"
      ],
      "metadata": {
        "id": "6xbIQEI0dqIs"
      },
      "id": "6xbIQEI0dqIs"
    },
    {
      "cell_type": "markdown",
      "source": [
        "Z dostupných informací - logistická regrese z knihovny statsmodels potřebuje na vstupu \"individuální data\" - tj. v našem případě dataframe `df` a ne kontingenční tabulku `df_table`. Příp. existují způsoby, jak z konting. tabulky vyrobit tabulku jednotlivých (individálních) pozorování.\n"
      ],
      "metadata": {
        "id": "nuBC_MZFMsa8"
      },
      "id": "nuBC_MZFMsa8"
    },
    {
      "cell_type": "code",
      "source": [
        "# ukolem je ke konstrukci modelu pouzit kont. tabulku, z tech duvodu pouzivame individualni\n",
        "# data, ovsem jen ty promenne, na zaklade kterych byla kont. tabulka sestavovana"
      ],
      "metadata": {
        "id": "Teu6V2HHeIz6"
      },
      "id": "Teu6V2HHeIz6",
      "execution_count": 198,
      "outputs": []
    },
    {
      "cell_type": "code",
      "source": [
        "X = df[['limit_bal', 'sex', 'age']]\n",
        "y = df['default']\n",
        "model = sm.Logit(y, X)\n",
        "result = model.fit()\n",
        "\n",
        "print(result.summary())\n",
        "print(f'AIC = {result.aic}')"
      ],
      "metadata": {
        "colab": {
          "base_uri": "https://localhost:8080/"
        },
        "id": "fgLd2W9kQB0p",
        "outputId": "25b7d9cd-2fa2-4273-8169-cb401984f5cc"
      },
      "id": "fgLd2W9kQB0p",
      "execution_count": 199,
      "outputs": [
        {
          "output_type": "stream",
          "name": "stdout",
          "text": [
            "Optimization terminated successfully.\n",
            "         Current function value: 0.510293\n",
            "         Iterations 6\n",
            "                           Logit Regression Results                           \n",
            "==============================================================================\n",
            "Dep. Variable:                default   No. Observations:                21943\n",
            "Model:                          Logit   Df Residuals:                    21940\n",
            "Method:                           MLE   Df Model:                            2\n",
            "Date:                Mon, 26 Jun 2023   Pseudo R-squ.:                 0.03652\n",
            "Time:                        01:07:55   Log-Likelihood:                -11197.\n",
            "converged:                       True   LL-Null:                       -11622.\n",
            "Covariance Type:            nonrobust   LLR p-value:                4.635e-185\n",
            "==============================================================================\n",
            "                 coef    std err          z      P>|z|      [0.025      0.975]\n",
            "------------------------------------------------------------------------------\n",
            "limit_bal  -4.434e-06   1.59e-07    -27.919      0.000   -4.75e-06   -4.12e-06\n",
            "sex           -0.3064      0.025    -12.285      0.000      -0.355      -0.258\n",
            "age           -0.0033      0.001     -2.782      0.005      -0.006      -0.001\n",
            "==============================================================================\n",
            "AIC = 22400.73427323265\n"
          ]
        }
      ]
    },
    {
      "cell_type": "code",
      "source": [
        "# nulovy model\n",
        "model_nulo = smf.logit('default ~ 1', data=df)\n",
        "result_nulo = model_nulo.fit()\n",
        "print(result_nulo.summary())\n",
        "print(f'AIC = {result_nulo.aic}')"
      ],
      "metadata": {
        "colab": {
          "base_uri": "https://localhost:8080/"
        },
        "id": "9GlWEej5i4JM",
        "outputId": "34568b97-aa37-4e1e-fb9a-5f9ebb67adf3"
      },
      "id": "9GlWEej5i4JM",
      "execution_count": 200,
      "outputs": [
        {
          "output_type": "stream",
          "name": "stdout",
          "text": [
            "Optimization terminated successfully.\n",
            "         Current function value: 0.529636\n",
            "         Iterations 5\n",
            "                           Logit Regression Results                           \n",
            "==============================================================================\n",
            "Dep. Variable:                default   No. Observations:                21943\n",
            "Model:                          Logit   Df Residuals:                    21942\n",
            "Method:                           MLE   Df Model:                            0\n",
            "Date:                Mon, 26 Jun 2023   Pseudo R-squ.:               8.452e-11\n",
            "Time:                        01:07:55   Log-Likelihood:                -11622.\n",
            "converged:                       True   LL-Null:                       -11622.\n",
            "Covariance Type:            nonrobust   LLR p-value:                       nan\n",
            "==============================================================================\n",
            "                 coef    std err          z      P>|z|      [0.025      0.975]\n",
            "------------------------------------------------------------------------------\n",
            "Intercept     -1.2531      0.016    -77.163      0.000      -1.285      -1.221\n",
            "==============================================================================\n",
            "AIC = 23245.62354846453\n"
          ]
        }
      ]
    },
    {
      "cell_type": "markdown",
      "source": [
        "### pravděpodobnost nesplacení úvěru\n",
        "tj. p(default = 0)\n",
        "\n",
        "$$ p(\\mbox{default}=0) = p(y=0)  = \\sum_{x \\in X} p(y = 0, x | \\theta^{̂} )$$\n",
        "\n",
        "kde $j$ je index, jdoucí od 1 do délky vektoru $x$ (tedy počet uvažovaných příznaků)\n",
        "\n",
        "kde $ \\theta^{̂} $ je odhad (vektorový) a $x$ je vektor daných vysvětlujicích proměnných.\n",
        "\n",
        "$$ \\sum_{x \\in X} p(y = 0, x | \\theta^{̂} ) = \\sum_{x \\in X} \\exp( \\theta^{̂} \\cdot x) = \\sum_{x \\in X} \\exp(\\sum_{j} \\theta^{̂}_j \\cdot x_j) $$"
      ],
      "metadata": {
        "id": "Tt_DFJtGGHFv"
      },
      "id": "Tt_DFJtGGHFv"
    },
    {
      "cell_type": "markdown",
      "source": [
        "tedy počítáme:\n"
      ],
      "metadata": {
        "id": "gPRtZP9OPpKo"
      },
      "id": "gPRtZP9OPpKo"
    },
    {
      "cell_type": "code",
      "source": [
        "float(result_nulo.params)"
      ],
      "metadata": {
        "colab": {
          "base_uri": "https://localhost:8080/"
        },
        "id": "ziApDdzuOMBy",
        "outputId": "15627867-3409-4f67-c457-3d6aa506c0b3"
      },
      "id": "ziApDdzuOMBy",
      "execution_count": 201,
      "outputs": [
        {
          "output_type": "execute_result",
          "data": {
            "text/plain": [
              "-1.2530852608759442"
            ]
          },
          "metadata": {},
          "execution_count": 201
        }
      ]
    },
    {
      "cell_type": "code",
      "source": [
        "theta = float(result_nulo.params)\n",
        "x = 1\n",
        "prst_pro_jeden_x = np.exp(theta * x)\n",
        "print(prst_pro_jeden_x)"
      ],
      "metadata": {
        "colab": {
          "base_uri": "https://localhost:8080/"
        },
        "id": "wQgKR9MaRj7-",
        "outputId": "b00dfdf7-12c9-4fcf-eb02-68ffd542d15a"
      },
      "id": "wQgKR9MaRj7-",
      "execution_count": 202,
      "outputs": [
        {
          "output_type": "stream",
          "name": "stdout",
          "text": [
            "0.2856222170142954\n"
          ]
        }
      ]
    },
    {
      "cell_type": "markdown",
      "source": [
        "### šance na neschopnost splácet úvěr\n",
        "\n",
        "$$ \\mbox{chance}(\\mbox{default}=0) = \\frac{p(y=0,x| \\theta^{̂})}{p(y=1,x| \\theta^{̂})} = \\frac{\\exp( \\theta^{̂}  \\cdot x)}{1 - \\exp( \\theta^{̂}  \\cdot x)} $$"
      ],
      "metadata": {
        "id": "TQZPtYScGNIs"
      },
      "id": "TQZPtYScGNIs"
    },
    {
      "cell_type": "code",
      "source": [
        "chance = (np.exp(theta * x)) / (1 - np.exp(theta * x))\n",
        "print(chance)"
      ],
      "metadata": {
        "colab": {
          "base_uri": "https://localhost:8080/"
        },
        "id": "34ZFn5YjRjw4",
        "outputId": "a341d260-8cfd-450d-96b2-b1d75f04a795"
      },
      "id": "34ZFn5YjRjw4",
      "execution_count": 203,
      "outputs": [
        {
          "output_type": "stream",
          "name": "stdout",
          "text": [
            "0.3998195686049366\n"
          ]
        }
      ]
    },
    {
      "cell_type": "markdown",
      "source": [
        "### model pouze s `limit_bal`"
      ],
      "metadata": {
        "id": "Gni-PCvsISMK"
      },
      "id": "Gni-PCvsISMK"
    },
    {
      "cell_type": "code",
      "source": [
        "X = df[['limit_bal']]\n",
        "y = df['default']\n",
        "model_limit_bal = sm.Logit(y, X)\n",
        "result_limit_bal = model_limit_bal.fit()\n",
        "\n",
        "print(result_limit_bal.summary())\n",
        "print(f'AIC = {result_limit_bal.aic}')"
      ],
      "metadata": {
        "colab": {
          "base_uri": "https://localhost:8080/"
        },
        "id": "VpPR5GYfRjkW",
        "outputId": "461835dd-94c6-41ab-a268-cf9ff2f91c0e"
      },
      "id": "VpPR5GYfRjkW",
      "execution_count": 204,
      "outputs": [
        {
          "output_type": "stream",
          "name": "stdout",
          "text": [
            "Optimization terminated successfully.\n",
            "         Current function value: 0.524155\n",
            "         Iterations 5\n",
            "                           Logit Regression Results                           \n",
            "==============================================================================\n",
            "Dep. Variable:                default   No. Observations:                21943\n",
            "Model:                          Logit   Df Residuals:                    21942\n",
            "Method:                           MLE   Df Model:                            0\n",
            "Date:                Mon, 26 Jun 2023   Pseudo R-squ.:                 0.01035\n",
            "Time:                        01:07:55   Log-Likelihood:                -11502.\n",
            "converged:                       True   LL-Null:                       -11622.\n",
            "Covariance Type:            nonrobust   LLR p-value:                       nan\n",
            "==============================================================================\n",
            "                 coef    std err          z      P>|z|      [0.025      0.975]\n",
            "------------------------------------------------------------------------------\n",
            "limit_bal  -7.517e-06   1.13e-07    -66.611      0.000   -7.74e-06    -7.3e-06\n",
            "==============================================================================\n",
            "AIC = 23005.083905090516\n"
          ]
        }
      ]
    },
    {
      "cell_type": "markdown",
      "source": [
        "ano, proměnná `limit_bal` je na hladině 0.05 významná."
      ],
      "metadata": {
        "id": "3sSwDed1JUA-"
      },
      "id": "3sSwDed1JUA-"
    },
    {
      "cell_type": "markdown",
      "source": [
        "kolikrát mají lidé s limitem větším než 100 vetší šanci na neschopnost splácet než lidé s limitem nad 200:"
      ],
      "metadata": {
        "id": "N22ccgT8Jj0V"
      },
      "id": "N22ccgT8Jj0V"
    },
    {
      "cell_type": "code",
      "source": [
        "df_limitbal_above_100 = df[df.limit_bal>100000]\n",
        "#print(df.describe())\n",
        "#print(df_limitbal_above_100.describe())\n",
        "df_limitbal_above_200 = df[df.limit_bal>200000]\n",
        "#print(df.describe())\n",
        "#print(df_limitbal_above_200.describe())"
      ],
      "metadata": {
        "id": "ecOoQ5jMQ27a"
      },
      "id": "ecOoQ5jMQ27a",
      "execution_count": 205,
      "outputs": []
    },
    {
      "cell_type": "code",
      "source": [
        "y_limitbal_above_100 = df_limitbal_above_100['default']\n",
        "y_limitbal_above_200 = df_limitbal_above_200['default']\n",
        "\n",
        "x_limitbal_above_100 = df_limitbal_above_100['limit_bal']\n",
        "x_limitbal_above_200 = df_limitbal_above_200['limit_bal']"
      ],
      "metadata": {
        "id": "1Wf9LVWUSl4a"
      },
      "id": "1Wf9LVWUSl4a",
      "execution_count": 206,
      "outputs": []
    },
    {
      "cell_type": "code",
      "source": [
        "theta = float(result_limit_bal.params)\n",
        "chance_for_limitbal_above_100 = 1/len(x_limitbal_above_100)  * np.sum(np.exp(theta * x_limitbal_above_100))\n",
        "print(chance_for_limitbal_above_100)\n",
        "chance_for_limitbal_above_200 = 1/len(x_limitbal_above_200) * np.sum(np.exp(theta * x_limitbal_above_200))\n",
        "print(chance_for_limitbal_above_200)\n",
        "\n",
        "podil = chance_for_limitbal_above_100 / chance_for_limitbal_above_200\n",
        "print(f'podil sanci je {podil}, tj. cca {int(podil * 100)} procent')"
      ],
      "metadata": {
        "colab": {
          "base_uri": "https://localhost:8080/"
        },
        "id": "566-p2OLSz1h",
        "outputId": "e974dbcd-f8dc-42c0-b706-153a1c21c61a"
      },
      "id": "566-p2OLSz1h",
      "execution_count": 207,
      "outputs": [
        {
          "output_type": "stream",
          "name": "stdout",
          "text": [
            "0.20193940582994183\n",
            "0.10708137305733911\n",
            "podil sanci je 1.8858499855227748, tj. cca 188 procent\n"
          ]
        }
      ]
    },
    {
      "cell_type": "code",
      "source": [],
      "metadata": {
        "id": "Oghsz2WqN1SA"
      },
      "id": "Oghsz2WqN1SA",
      "execution_count": 207,
      "outputs": []
    },
    {
      "cell_type": "markdown",
      "source": [
        "$$  \\mbox{chance}(y=0 | \\mbox{limit_bal} > 100) =  $$\n",
        "\n",
        "\n",
        "$$ \\mbox{chance}(y=0 | \\mbox{limit_bal} > 200) =  $$\n",
        "\n",
        "\n",
        "\n",
        "$$ \\mbox{tolikrat} = \\frac{\\mbox{chance}(y=0 | \\mbox{limit_bal} > 100)}{\\mbox{chance}(y=0 | \\mbox{limit_bal} > 200)}  =  $$"
      ],
      "metadata": {
        "id": "oo1rcBZPJtYX"
      },
      "id": "oo1rcBZPJtYX"
    },
    {
      "cell_type": "markdown",
      "source": [
        "### model pouze s `age`"
      ],
      "metadata": {
        "id": "Umwo70CyIY-P"
      },
      "id": "Umwo70CyIY-P"
    },
    {
      "cell_type": "code",
      "source": [
        "X = df[['age']]\n",
        "y = df['default']\n",
        "model_age = sm.Logit(y, X)\n",
        "result_age = model_age.fit()\n",
        "\n",
        "print(result_age.summary())\n",
        "print(f'AIC = {result_age.aic}')"
      ],
      "metadata": {
        "colab": {
          "base_uri": "https://localhost:8080/"
        },
        "id": "xJyfWSh-RkO_",
        "outputId": "de45d98f-49d2-4533-ba65-6160a90874ea"
      },
      "id": "xJyfWSh-RkO_",
      "execution_count": 208,
      "outputs": [
        {
          "output_type": "stream",
          "name": "stdout",
          "text": [
            "Optimization terminated successfully.\n",
            "         Current function value: 0.538478\n",
            "         Iterations 5\n",
            "                           Logit Regression Results                           \n",
            "==============================================================================\n",
            "Dep. Variable:                default   No. Observations:                21943\n",
            "Model:                          Logit   Df Residuals:                    21942\n",
            "Method:                           MLE   Df Model:                            0\n",
            "Date:                Mon, 26 Jun 2023   Pseudo R-squ.:                -0.01669\n",
            "Time:                        01:07:56   Log-Likelihood:                -11816.\n",
            "converged:                       True   LL-Null:                       -11622.\n",
            "Covariance Type:            nonrobust   LLR p-value:                       nan\n",
            "==============================================================================\n",
            "                 coef    std err          z      P>|z|      [0.025      0.975]\n",
            "------------------------------------------------------------------------------\n",
            "age           -0.0340      0.000    -73.979      0.000      -0.035      -0.033\n",
            "==============================================================================\n",
            "AIC = 23633.633566799595\n"
          ]
        }
      ]
    },
    {
      "cell_type": "markdown",
      "source": [
        "ano, `age` je statisticky významná na hledině 0.01"
      ],
      "metadata": {
        "id": "vKw7HMt_K23t"
      },
      "id": "vKw7HMt_K23t"
    },
    {
      "cell_type": "markdown",
      "source": [
        "kolikrát mají pacienti ve věku mezi 35-40 menší šanci na neschopnost splácet než lidé ve věku 20-25:"
      ],
      "metadata": {
        "id": "cWmJPKG3A-lv"
      },
      "id": "cWmJPKG3A-lv"
    },
    {
      "cell_type": "code",
      "source": [
        "df_age_35_40 =df[(df['age'] >= 35) & (df['age'] <= 40)]\n",
        "#print(df.describe())\n",
        "#print(df_age_35_40.describe())\n",
        "df_age_20_25 =df[(df['age'] >= 20) & (df['age'] <= 25)]\n",
        "#print(df.describe())\n",
        "#print(df_age_20_25.describe())"
      ],
      "metadata": {
        "id": "ujwC6bIhZUoW"
      },
      "id": "ujwC6bIhZUoW",
      "execution_count": 209,
      "outputs": []
    },
    {
      "cell_type": "code",
      "source": [
        "y_age_35_40 = df_age_35_40['default']\n",
        "y_age_20_25 = df_age_20_25['default']\n",
        "\n",
        "x_age_35_40 = df_age_35_40['age']\n",
        "x_age_20_25 = df_age_20_25['age']"
      ],
      "metadata": {
        "id": "-T7sws82ZXlh"
      },
      "id": "-T7sws82ZXlh",
      "execution_count": 210,
      "outputs": []
    },
    {
      "cell_type": "code",
      "source": [
        "theta = float(result_age.params)\n",
        "chance_age_35_40 = 1/len(x_age_35_40) * np.sum(np.exp(theta * x_age_35_40))\n",
        "print(chance_age_35_40)\n",
        "chance_age_20_25 = 1/len(x_age_20_25) * np.sum(np.exp(theta * x_age_20_25))\n",
        "print(chance_age_20_25)\n",
        "\n",
        "podil = chance_age_35_40 / chance_age_20_25\n",
        "print(f'podil sanci je {podil}, tj. cca {int(podil * 100)} procent')"
      ],
      "metadata": {
        "colab": {
          "base_uri": "https://localhost:8080/"
        },
        "id": "hZp2PTjqZZh1",
        "outputId": "d469d3cf-addf-455f-8666-4951c8a0fd2d"
      },
      "id": "hZp2PTjqZZh1",
      "execution_count": 211,
      "outputs": [
        {
          "output_type": "stream",
          "name": "stdout",
          "text": [
            "0.28086730663755266\n",
            "0.44619467592480766\n",
            "podil sanci je 0.6294725638655629, tj. cca 62 procent\n"
          ]
        }
      ]
    },
    {
      "cell_type": "markdown",
      "source": [
        "### Model s `limit_bal` a `-age`"
      ],
      "metadata": {
        "id": "QtM8cHaaiboC"
      },
      "id": "QtM8cHaaiboC"
    },
    {
      "cell_type": "code",
      "source": [
        "X = pd.DataFrame()\n",
        "X['limit_bal'] = df.limit_bal # šance na neschopnost splácet roste exponenciálně s hodnotou limitu\n",
        "X['age'] = (-1) * df.age      # ... a klesá exponenciálně s věkem\n",
        "y = df['default']\n",
        "model_limit_age = sm.Logit(y, X)\n",
        "result_limit_age = model_limit_age.fit()\n",
        "\n",
        "print(result_limit_age.summary())\n",
        "print(f'AIC = {result_limit_age.aic}')"
      ],
      "metadata": {
        "colab": {
          "base_uri": "https://localhost:8080/"
        },
        "id": "i3cUQA-7idXb",
        "outputId": "f08b7d2e-8a23-4522-eff1-83a8c9909fc7"
      },
      "id": "i3cUQA-7idXb",
      "execution_count": 212,
      "outputs": [
        {
          "output_type": "stream",
          "name": "stdout",
          "text": [
            "Optimization terminated successfully.\n",
            "         Current function value: 0.513741\n",
            "         Iterations 6\n",
            "                           Logit Regression Results                           \n",
            "==============================================================================\n",
            "Dep. Variable:                default   No. Observations:                21943\n",
            "Model:                          Logit   Df Residuals:                    21941\n",
            "Method:                           MLE   Df Model:                            1\n",
            "Date:                Mon, 26 Jun 2023   Pseudo R-squ.:                 0.03001\n",
            "Time:                        01:07:56   Log-Likelihood:                -11273.\n",
            "converged:                       True   LL-Null:                       -11622.\n",
            "Covariance Type:            nonrobust   LLR p-value:                1.001e-153\n",
            "==============================================================================\n",
            "                 coef    std err          z      P>|z|      [0.025      0.975]\n",
            "------------------------------------------------------------------------------\n",
            "limit_bal  -4.775e-06    1.6e-07    -29.918      0.000   -5.09e-06   -4.46e-06\n",
            "age            0.0151      0.001     21.094      0.000       0.014       0.016\n",
            "==============================================================================\n",
            "AIC = 22550.036381414226\n"
          ]
        }
      ]
    },
    {
      "cell_type": "markdown",
      "source": [
        "Jaký je poměr šancí na neschopnost splácet mezi lidmi lišícími se limitem o 50000 a majícími stejný věk?"
      ],
      "metadata": {
        "id": "QEw0-JS2i-Aq"
      },
      "id": "QEw0-JS2i-Aq"
    },
    {
      "cell_type": "code",
      "source": [
        "#for curr_age in df.age:\n",
        "#    print(curr_age)"
      ],
      "metadata": {
        "id": "AJey1O_ciqVW"
      },
      "id": "AJey1O_ciqVW",
      "execution_count": 213,
      "outputs": []
    },
    {
      "cell_type": "code",
      "source": [],
      "metadata": {
        "id": "Jh6JP-pwnwK5"
      },
      "id": "Jh6JP-pwnwK5",
      "execution_count": 213,
      "outputs": []
    },
    {
      "cell_type": "code",
      "source": [],
      "metadata": {
        "id": "dTWT8Y-JiqPD"
      },
      "id": "dTWT8Y-JiqPD",
      "execution_count": 213,
      "outputs": []
    },
    {
      "cell_type": "code",
      "source": [
        "X = df[['limit_bal', 'sex', 'education', 'marriage', 'age', 'pay_0', 'pay_6',\n",
        "    'bill_min', 'bill_max', 'pay_min', 'pay_max']]\n",
        "y = df['default']\n",
        "model = sm.Logit(y, X)\n",
        "result = model.fit()\n",
        "\n",
        "print(result.summary())\n",
        "print(result.aic)"
      ],
      "metadata": {
        "colab": {
          "base_uri": "https://localhost:8080/"
        },
        "id": "dO_hiQSvbYJL",
        "outputId": "765fe881-e7e6-4a54-eb51-48eef6d3bea6"
      },
      "id": "dO_hiQSvbYJL",
      "execution_count": 214,
      "outputs": [
        {
          "output_type": "stream",
          "name": "stdout",
          "text": [
            "Optimization terminated successfully.\n",
            "         Current function value: 0.442313\n",
            "         Iterations 6\n",
            "                           Logit Regression Results                           \n",
            "==============================================================================\n",
            "Dep. Variable:                default   No. Observations:                21943\n",
            "Model:                          Logit   Df Residuals:                    21932\n",
            "Method:                           MLE   Df Model:                           10\n",
            "Date:                Mon, 26 Jun 2023   Pseudo R-squ.:                  0.1649\n",
            "Time:                        01:07:56   Log-Likelihood:                -9705.7\n",
            "converged:                       True   LL-Null:                       -11622.\n",
            "Covariance Type:            nonrobust   LLR p-value:                     0.000\n",
            "==============================================================================\n",
            "                 coef    std err          z      P>|z|      [0.025      0.975]\n",
            "------------------------------------------------------------------------------\n",
            "limit_bal  -1.769e-06   2.08e-07     -8.506      0.000   -2.18e-06   -1.36e-06\n",
            "sex           -0.1782      0.032     -5.532      0.000      -0.241      -0.115\n",
            "education     -0.1113      0.027     -4.191      0.000      -0.163      -0.059\n",
            "marriage      -0.3328      0.028    -11.820      0.000      -0.388      -0.278\n",
            "age           -0.0028      0.002     -1.685      0.092      -0.006       0.000\n",
            "pay_0          0.7354      0.021     35.429      0.000       0.695       0.776\n",
            "pay_6          0.1671      0.021      7.950      0.000       0.126       0.208\n",
            "bill_min    4.287e-06   7.62e-07      5.626      0.000    2.79e-06    5.78e-06\n",
            "bill_max   -1.405e-06   5.93e-07     -2.369      0.018   -2.57e-06   -2.42e-07\n",
            "pay_min       -0.0002   1.36e-05    -13.170      0.000      -0.000      -0.000\n",
            "pay_max     1.793e-07    8.4e-07      0.214      0.831   -1.47e-06    1.82e-06\n",
            "==============================================================================\n",
            "19433.370244576356\n"
          ]
        }
      ]
    },
    {
      "cell_type": "code",
      "source": [
        "formula_satur = 'default ~ limit_bal * sex * education * marriage * age * pay_0 * pay_6 * bill_min * bill_max * pay_min * pay_max'\n",
        "########## do not run in colab, it crashes....\n",
        "#model_satur = smf.logit(formula_satur, data=df).fit()\n",
        "#print(model_satur.summary())"
      ],
      "metadata": {
        "id": "fv7lYrIni4B9"
      },
      "id": "fv7lYrIni4B9",
      "execution_count": 215,
      "outputs": []
    },
    {
      "cell_type": "markdown",
      "source": [
        "Na saturovany model nemame data (prilis mnoho interakci prilis vysokeho radu)"
      ],
      "metadata": {
        "id": "2WxPTF7KlRlb"
      },
      "id": "2WxPTF7KlRlb"
    },
    {
      "cell_type": "code",
      "source": [
        "formula_order_1 = 'default ~ limit_bal + sex + education + marriage + age + \\\n",
        "                pay_0 + pay_6 + bill_min + bill_max + pay_min + pay_max '\n",
        "my_interactions = ' + limit_bal * bill_max * pay_max'\n",
        "formula_interactions = formula_order_1 + my_interactions\n",
        "\n",
        "model_interactions = smf.logit(formula_interactions, data=df).fit()\n",
        "\n",
        "print(model_interactions.summary())\n",
        "print(model_interactions.aic)"
      ],
      "metadata": {
        "colab": {
          "base_uri": "https://localhost:8080/"
        },
        "id": "Khjg3vqmj0As",
        "outputId": "cad6389f-f242-4fa1-fe41-c35fde25a5c7"
      },
      "id": "Khjg3vqmj0As",
      "execution_count": 216,
      "outputs": [
        {
          "output_type": "stream",
          "name": "stdout",
          "text": [
            "Optimization terminated successfully.\n",
            "         Current function value: 0.440400\n",
            "         Iterations 7\n",
            "                           Logit Regression Results                           \n",
            "==============================================================================\n",
            "Dep. Variable:                default   No. Observations:                21943\n",
            "Model:                          Logit   Df Residuals:                    21926\n",
            "Method:                           MLE   Df Model:                           16\n",
            "Date:                Mon, 26 Jun 2023   Pseudo R-squ.:                  0.1685\n",
            "Time:                        01:07:56   Log-Likelihood:                -9663.7\n",
            "converged:                       True   LL-Null:                       -11622.\n",
            "Covariance Type:            nonrobust   LLR p-value:                     0.000\n",
            "==============================================================================================\n",
            "                                 coef    std err          z      P>|z|      [0.025      0.975]\n",
            "----------------------------------------------------------------------------------------------\n",
            "Intercept                     -0.7755      0.108     -7.177      0.000      -0.987      -0.564\n",
            "sex[T.2]                      -0.1024      0.037     -2.762      0.006      -0.175      -0.030\n",
            "education[T.2]                -0.0539      0.044     -1.237      0.216      -0.139       0.032\n",
            "education[T.3]                -0.1716      0.057     -2.993      0.003      -0.284      -0.059\n",
            "marriage[T.2]                 -0.2228      0.042     -5.369      0.000      -0.304      -0.142\n",
            "limit_bal                  -2.214e-06   2.57e-07     -8.627      0.000   -2.72e-06   -1.71e-06\n",
            "age                            0.0028      0.002      1.264      0.206      -0.002       0.007\n",
            "pay_0                          0.7382      0.021     35.464      0.000       0.697       0.779\n",
            "pay_6                          0.1666      0.021      7.893      0.000       0.125       0.208\n",
            "bill_min                    4.334e-06   7.39e-07      5.862      0.000    2.88e-06    5.78e-06\n",
            "bill_max                   -5.487e-06   8.04e-07     -6.829      0.000   -7.06e-06   -3.91e-06\n",
            "pay_min                       -0.0002   1.36e-05    -13.050      0.000      -0.000      -0.000\n",
            "pay_max                      -6.2e-06   2.79e-06     -2.220      0.026   -1.17e-05   -7.26e-07\n",
            "limit_bal:bill_max          1.239e-11   1.73e-12      7.147      0.000    8.99e-12    1.58e-11\n",
            "limit_bal:pay_max           2.959e-12   9.03e-12      0.328      0.743   -1.47e-11    2.07e-11\n",
            "bill_max:pay_max             5.27e-11    1.5e-11      3.522      0.000    2.34e-11     8.2e-11\n",
            "limit_bal:bill_max:pay_max -8.365e-17   3.21e-17     -2.610      0.009   -1.46e-16   -2.08e-17\n",
            "==============================================================================================\n",
            "19361.390851505836\n"
          ]
        }
      ]
    },
    {
      "cell_type": "markdown",
      "id": "b7d9828b-cd71-49c9-9b60-9e421bf625bc",
      "metadata": {
        "id": "b7d9828b-cd71-49c9-9b60-9e421bf625bc"
      },
      "source": [
        "## 03 - Poissonovská regrese na agregovaná tabulková data (4/7)\n",
        "\n",
        "použijte  `data_table`\n"
      ]
    },
    {
      "cell_type": "markdown",
      "id": "53622962-6af9-49ef-9be3-244061afaa43",
      "metadata": {
        "id": "53622962-6af9-49ef-9be3-244061afaa43"
      },
      "source": [
        "* Upravte tabulku do potřebného formátu a sestrojte čistě aditivní loglineární model pro četnosti pozorování ve skupinách, který předpokládá vzájemnou\n",
        "nezávislost mezi všemi skupinovými prediktory.\n",
        "\n",
        "* Na základě předchozího modelu, jaký je odhad šance na neschopnost splácet mezi všemi vybranými lidmi ve skupině a jaký je odhad pravděpodobnosti neschopnosti splácet?\n",
        "\n",
        "* Sestavte model, který obsahuje všechny možné dvojné interakce mezi klasifikačními veličinami a porovnejte tento model s předchozím modelem bez interakcí. Je tento model statisticky významně lepší?\n",
        "\n",
        "* Sestavte saturovaný model. Je tento model statisticky významně lepší než předchozí s dvojtými interakcemi? Vyberte model který je podle vás nejlepší.\n",
        "\n",
        "* Na základě vybraného modelu, je ve všech věkových skupinách stejná souvislost mezi limitem a šancí splácet?\n",
        "\n",
        "* Na základě vybraného modelu, je pro obě pohlaví stejná souvislost mezi limitem a šancí splácet?\n",
        "\n",
        "* Ve skupině co se týče vzdělání je nějvětší souvislost mezi schopností splácet a limitem?\n"
      ]
    },
    {
      "cell_type": "markdown",
      "id": "82c81ec3-998f-4af4-8ee9-2f69f148e7b4",
      "metadata": {
        "id": "82c81ec3-998f-4af4-8ee9-2f69f148e7b4"
      },
      "source": [
        "## 04 - Logistická regrese - statistika (5/8)\n",
        "\n",
        "Nyní již používejte `data_train`"
      ]
    },
    {
      "cell_type": "markdown",
      "id": "0a8929e4-0af4-45fe-9964-8f3ee4b3df52",
      "metadata": {
        "id": "0a8929e4-0af4-45fe-9964-8f3ee4b3df52"
      },
      "source": [
        "* Vypište kontingenční tabulku pro proměnné pohlaví (`sex`) a schopnost splácet  (`default`). Ručně z tabulky spočtěte empirický poměr šancí na schopnost splácet (muž vs. žena) a pravděpodobnost onemocnění pro ženu a muže. Výsledek porovnejte s výsledky z logistické regrese, kde jediným prediktorem bude právě proměnná `sex` a odezvou proměnná `default`. Pro poměr šancí uveďte i 95% konfidenční interval a okometujte, zdali mají ženy signifikantně menší šanci na schopnost splácet.\n",
        "\n",
        "* Vypište kontingenční tabulku pro proměnné vzdělání (`education`) a schopnost splácet (`default`). Ručně z tabulky spočtěte empirický poměr šancí na onemocnění srdce (type 0: asymptomatic, proti ostatním) a pravděpodobnosti onemocnění pro jednotlivé typy. Výsledek porovnejte s výsledky z logistické regrese, kde jediným prediktorem bude právě proměnná `education` a odezvou proměnná `default`. Pro poměr šancí uveďte i 95% konfidenční interval a okometujte, zdali mají s lepším vzděláním mají menší šanci na neschopnost splácet úvěr.\n",
        "\n",
        "* Sestavte model, kde použijete všechny dostupné proměnné (jak faktorové tak numerické). Pomocí deviančních testů model postupně redukujte. Výsledný model porovnejte s modelem, který byste obdrželi při použití automatického výběru s funkcí `step()`.\n",
        "\n",
        "* Pro vybraný model spočtěte šanci na schopnost splácet pro muže oproti ženám, včetně 95% konfidenčních intervalů. Stejně tak pro manželství a vzdělání. Jak se výsledek změnil oproti jednoduchým modelům a jak byste tuto změnu vysvětlili?\n",
        "\n",
        "* Použijte váš model a spočtěte odhad pravděpodobnosti schopnosti splácet pro testovací data vykreslete pro proměnou `limit_bal` predikční konfidenční intervaly.\n",
        "Nápověda krom cvičení, také třeba zde: https://fromthebottomoftheheap.net/2017/05/01/glm-prediction-intervals-i/\n",
        "\n",
        "* Na základě trénovacích dat zvolte vhodný treshold pro určení splatí / nesplatí a na testovacích datech spočtěte Accuracy a vykreslete ROC křivku spolu s AUC.\n",
        "\n",
        "\n",
        "\n"
      ]
    },
    {
      "cell_type": "code",
      "source": [],
      "metadata": {
        "id": "2qE1EkDRQ9ee"
      },
      "id": "2qE1EkDRQ9ee",
      "execution_count": 216,
      "outputs": []
    },
    {
      "cell_type": "markdown",
      "id": "020fe55e-24aa-415e-aaf1-7c72bfe1a907",
      "metadata": {
        "id": "020fe55e-24aa-415e-aaf1-7c72bfe1a907"
      },
      "source": [
        "## 05 - Logistická regrese -  strojové učení"
      ]
    },
    {
      "cell_type": "markdown",
      "id": "804fe9ce-edbe-429f-8a80-ab868b1076db",
      "metadata": {
        "id": "804fe9ce-edbe-429f-8a80-ab868b1076db"
      },
      "source": [
        "* Sestavte workflow (pipeline) na trenovacích datech pro logistickou regresi s použitím regularizace (elestic-net), která bude obsahovat\n",
        " *   Přípravu proměnných, transformaci, one-hot encoding, normalizaci, ... (Možno použít recipe z tidy models)\n",
        " *   Hledání \"optimálního\" nastavení hyperparametru v regularizaci.\n",
        " *   k-fold cross validaci\n",
        "\n",
        "* Pomocí předchozí pipline/workflow vyberte hodnotu hyperparametru. Pokud chceme uvedený algoritmus použít k detekci pacientů s nemocí srdce, jakou statistiku bychom měli sledovat abychom omylem nepropustili nemocného domů jako zdravého?\n",
        "\n",
        "* Spočtěte a porovnejte statistiky používané při binární klasifikaci na trénovacích a testovacích datech. Vykreslete ROC křivku a spočtěte plochu pod ní jak pro testovací tak trénovací data. Co můžeme říci o kvalitě modelu z této sekce 05 a modelu z předchozí 04?\n",
        "\n",
        "\n"
      ]
    },
    {
      "cell_type": "code",
      "source": [
        "data_train.describe()"
      ],
      "metadata": {
        "id": "-PwHSYV9NsmN",
        "outputId": "a4f023e1-a07a-41b2-b818-e78e77ba9980",
        "colab": {
          "base_uri": "https://localhost:8080/",
          "height": 364
        }
      },
      "id": "-PwHSYV9NsmN",
      "execution_count": 217,
      "outputs": [
        {
          "output_type": "execute_result",
          "data": {
            "text/plain": [
              "           limit_bal           age         pay_0         pay_6       default  \\\n",
              "count   15360.000000  15360.000000  15360.000000  15360.000000  15360.000000   \n",
              "mean   162245.031250     35.254492      0.085612      0.022135      0.222135   \n",
              "std    129924.887184      9.196972      1.040817      0.952292      0.415695   \n",
              "min     10000.000000     21.000000     -2.000000     -2.000000      0.000000   \n",
              "25%     50000.000000     28.000000      0.000000      0.000000      0.000000   \n",
              "50%    130000.000000     34.000000      0.000000      0.000000      0.000000   \n",
              "75%    230000.000000     41.000000      0.000000      0.000000      0.000000   \n",
              "max    800000.000000     75.000000      8.000000      8.000000      1.000000   \n",
              "\n",
              "            bill_min       bill_max       pay_min       pay_max  \n",
              "count   15360.000000   15360.000000  15360.000000  1.536000e+04  \n",
              "mean    43123.818815   73594.068685   1670.266341  1.620679e+04  \n",
              "std     59177.713289   81764.732521   2729.917514  3.543944e+04  \n",
              "min         2.000000      54.000000      0.000000  1.800000e+01  \n",
              "25%      4536.250000   19639.250000      0.000000  2.827750e+03  \n",
              "50%     19826.500000   47549.500000    715.000000  5.338000e+03  \n",
              "75%     56529.500000   97971.500000   2100.000000  1.296125e+04  \n",
              "max    551702.000000  823540.000000  63758.000000  1.227082e+06  "
            ],
            "text/html": [
              "\n",
              "  <div id=\"df-b61015d1-e110-4c5c-a929-c456ce65fde1\">\n",
              "    <div class=\"colab-df-container\">\n",
              "      <div>\n",
              "<style scoped>\n",
              "    .dataframe tbody tr th:only-of-type {\n",
              "        vertical-align: middle;\n",
              "    }\n",
              "\n",
              "    .dataframe tbody tr th {\n",
              "        vertical-align: top;\n",
              "    }\n",
              "\n",
              "    .dataframe thead th {\n",
              "        text-align: right;\n",
              "    }\n",
              "</style>\n",
              "<table border=\"1\" class=\"dataframe\">\n",
              "  <thead>\n",
              "    <tr style=\"text-align: right;\">\n",
              "      <th></th>\n",
              "      <th>limit_bal</th>\n",
              "      <th>age</th>\n",
              "      <th>pay_0</th>\n",
              "      <th>pay_6</th>\n",
              "      <th>default</th>\n",
              "      <th>bill_min</th>\n",
              "      <th>bill_max</th>\n",
              "      <th>pay_min</th>\n",
              "      <th>pay_max</th>\n",
              "    </tr>\n",
              "  </thead>\n",
              "  <tbody>\n",
              "    <tr>\n",
              "      <th>count</th>\n",
              "      <td>15360.000000</td>\n",
              "      <td>15360.000000</td>\n",
              "      <td>15360.000000</td>\n",
              "      <td>15360.000000</td>\n",
              "      <td>15360.000000</td>\n",
              "      <td>15360.000000</td>\n",
              "      <td>15360.000000</td>\n",
              "      <td>15360.000000</td>\n",
              "      <td>1.536000e+04</td>\n",
              "    </tr>\n",
              "    <tr>\n",
              "      <th>mean</th>\n",
              "      <td>162245.031250</td>\n",
              "      <td>35.254492</td>\n",
              "      <td>0.085612</td>\n",
              "      <td>0.022135</td>\n",
              "      <td>0.222135</td>\n",
              "      <td>43123.818815</td>\n",
              "      <td>73594.068685</td>\n",
              "      <td>1670.266341</td>\n",
              "      <td>1.620679e+04</td>\n",
              "    </tr>\n",
              "    <tr>\n",
              "      <th>std</th>\n",
              "      <td>129924.887184</td>\n",
              "      <td>9.196972</td>\n",
              "      <td>1.040817</td>\n",
              "      <td>0.952292</td>\n",
              "      <td>0.415695</td>\n",
              "      <td>59177.713289</td>\n",
              "      <td>81764.732521</td>\n",
              "      <td>2729.917514</td>\n",
              "      <td>3.543944e+04</td>\n",
              "    </tr>\n",
              "    <tr>\n",
              "      <th>min</th>\n",
              "      <td>10000.000000</td>\n",
              "      <td>21.000000</td>\n",
              "      <td>-2.000000</td>\n",
              "      <td>-2.000000</td>\n",
              "      <td>0.000000</td>\n",
              "      <td>2.000000</td>\n",
              "      <td>54.000000</td>\n",
              "      <td>0.000000</td>\n",
              "      <td>1.800000e+01</td>\n",
              "    </tr>\n",
              "    <tr>\n",
              "      <th>25%</th>\n",
              "      <td>50000.000000</td>\n",
              "      <td>28.000000</td>\n",
              "      <td>0.000000</td>\n",
              "      <td>0.000000</td>\n",
              "      <td>0.000000</td>\n",
              "      <td>4536.250000</td>\n",
              "      <td>19639.250000</td>\n",
              "      <td>0.000000</td>\n",
              "      <td>2.827750e+03</td>\n",
              "    </tr>\n",
              "    <tr>\n",
              "      <th>50%</th>\n",
              "      <td>130000.000000</td>\n",
              "      <td>34.000000</td>\n",
              "      <td>0.000000</td>\n",
              "      <td>0.000000</td>\n",
              "      <td>0.000000</td>\n",
              "      <td>19826.500000</td>\n",
              "      <td>47549.500000</td>\n",
              "      <td>715.000000</td>\n",
              "      <td>5.338000e+03</td>\n",
              "    </tr>\n",
              "    <tr>\n",
              "      <th>75%</th>\n",
              "      <td>230000.000000</td>\n",
              "      <td>41.000000</td>\n",
              "      <td>0.000000</td>\n",
              "      <td>0.000000</td>\n",
              "      <td>0.000000</td>\n",
              "      <td>56529.500000</td>\n",
              "      <td>97971.500000</td>\n",
              "      <td>2100.000000</td>\n",
              "      <td>1.296125e+04</td>\n",
              "    </tr>\n",
              "    <tr>\n",
              "      <th>max</th>\n",
              "      <td>800000.000000</td>\n",
              "      <td>75.000000</td>\n",
              "      <td>8.000000</td>\n",
              "      <td>8.000000</td>\n",
              "      <td>1.000000</td>\n",
              "      <td>551702.000000</td>\n",
              "      <td>823540.000000</td>\n",
              "      <td>63758.000000</td>\n",
              "      <td>1.227082e+06</td>\n",
              "    </tr>\n",
              "  </tbody>\n",
              "</table>\n",
              "</div>\n",
              "      <button class=\"colab-df-convert\" onclick=\"convertToInteractive('df-b61015d1-e110-4c5c-a929-c456ce65fde1')\"\n",
              "              title=\"Convert this dataframe to an interactive table.\"\n",
              "              style=\"display:none;\">\n",
              "        \n",
              "  <svg xmlns=\"http://www.w3.org/2000/svg\" height=\"24px\"viewBox=\"0 0 24 24\"\n",
              "       width=\"24px\">\n",
              "    <path d=\"M0 0h24v24H0V0z\" fill=\"none\"/>\n",
              "    <path d=\"M18.56 5.44l.94 2.06.94-2.06 2.06-.94-2.06-.94-.94-2.06-.94 2.06-2.06.94zm-11 1L8.5 8.5l.94-2.06 2.06-.94-2.06-.94L8.5 2.5l-.94 2.06-2.06.94zm10 10l.94 2.06.94-2.06 2.06-.94-2.06-.94-.94-2.06-.94 2.06-2.06.94z\"/><path d=\"M17.41 7.96l-1.37-1.37c-.4-.4-.92-.59-1.43-.59-.52 0-1.04.2-1.43.59L10.3 9.45l-7.72 7.72c-.78.78-.78 2.05 0 2.83L4 21.41c.39.39.9.59 1.41.59.51 0 1.02-.2 1.41-.59l7.78-7.78 2.81-2.81c.8-.78.8-2.07 0-2.86zM5.41 20L4 18.59l7.72-7.72 1.47 1.35L5.41 20z\"/>\n",
              "  </svg>\n",
              "      </button>\n",
              "      \n",
              "  <style>\n",
              "    .colab-df-container {\n",
              "      display:flex;\n",
              "      flex-wrap:wrap;\n",
              "      gap: 12px;\n",
              "    }\n",
              "\n",
              "    .colab-df-convert {\n",
              "      background-color: #E8F0FE;\n",
              "      border: none;\n",
              "      border-radius: 50%;\n",
              "      cursor: pointer;\n",
              "      display: none;\n",
              "      fill: #1967D2;\n",
              "      height: 32px;\n",
              "      padding: 0 0 0 0;\n",
              "      width: 32px;\n",
              "    }\n",
              "\n",
              "    .colab-df-convert:hover {\n",
              "      background-color: #E2EBFA;\n",
              "      box-shadow: 0px 1px 2px rgba(60, 64, 67, 0.3), 0px 1px 3px 1px rgba(60, 64, 67, 0.15);\n",
              "      fill: #174EA6;\n",
              "    }\n",
              "\n",
              "    [theme=dark] .colab-df-convert {\n",
              "      background-color: #3B4455;\n",
              "      fill: #D2E3FC;\n",
              "    }\n",
              "\n",
              "    [theme=dark] .colab-df-convert:hover {\n",
              "      background-color: #434B5C;\n",
              "      box-shadow: 0px 1px 3px 1px rgba(0, 0, 0, 0.15);\n",
              "      filter: drop-shadow(0px 1px 2px rgba(0, 0, 0, 0.3));\n",
              "      fill: #FFFFFF;\n",
              "    }\n",
              "  </style>\n",
              "\n",
              "      <script>\n",
              "        const buttonEl =\n",
              "          document.querySelector('#df-b61015d1-e110-4c5c-a929-c456ce65fde1 button.colab-df-convert');\n",
              "        buttonEl.style.display =\n",
              "          google.colab.kernel.accessAllowed ? 'block' : 'none';\n",
              "\n",
              "        async function convertToInteractive(key) {\n",
              "          const element = document.querySelector('#df-b61015d1-e110-4c5c-a929-c456ce65fde1');\n",
              "          const dataTable =\n",
              "            await google.colab.kernel.invokeFunction('convertToInteractive',\n",
              "                                                     [key], {});\n",
              "          if (!dataTable) return;\n",
              "\n",
              "          const docLinkHtml = 'Like what you see? Visit the ' +\n",
              "            '<a target=\"_blank\" href=https://colab.research.google.com/notebooks/data_table.ipynb>data table notebook</a>'\n",
              "            + ' to learn more about interactive tables.';\n",
              "          element.innerHTML = '';\n",
              "          dataTable['output_type'] = 'display_data';\n",
              "          await google.colab.output.renderOutput(dataTable, element);\n",
              "          const docLink = document.createElement('div');\n",
              "          docLink.innerHTML = docLinkHtml;\n",
              "          element.appendChild(docLink);\n",
              "        }\n",
              "      </script>\n",
              "    </div>\n",
              "  </div>\n",
              "  "
            ]
          },
          "metadata": {},
          "execution_count": 217
        }
      ]
    },
    {
      "cell_type": "code",
      "source": [
        "data_test.describe()"
      ],
      "metadata": {
        "id": "2CD1FGRJ9IRS",
        "outputId": "bccf3518-3415-4fec-ce6a-a28f4e81310a",
        "colab": {
          "base_uri": "https://localhost:8080/",
          "height": 364
        }
      },
      "id": "2CD1FGRJ9IRS",
      "execution_count": 218,
      "outputs": [
        {
          "output_type": "execute_result",
          "data": {
            "text/plain": [
              "            limit_bal          age        pay_0        pay_6      default  \\\n",
              "count     6583.000000  6583.000000  6583.000000  6583.000000  6583.000000   \n",
              "mean    164099.346802    35.312775     0.086890     0.019444     0.222239   \n",
              "std     132010.843539     9.278196     1.044898     0.937383     0.415783   \n",
              "min      10000.000000    21.000000    -2.000000    -2.000000     0.000000   \n",
              "25%      50000.000000    28.000000     0.000000     0.000000     0.000000   \n",
              "50%     130000.000000    34.000000     0.000000     0.000000     0.000000   \n",
              "75%     230000.000000    41.000000     0.000000     0.000000     0.000000   \n",
              "max    1000000.000000    79.000000     8.000000     6.000000     1.000000   \n",
              "\n",
              "            bill_min       bill_max       pay_min        pay_max  \n",
              "count    6583.000000    6583.000000   6583.000000    6583.000000  \n",
              "mean    43271.635728   74234.751025   1655.667781   16670.241531  \n",
              "std     60554.417384   83913.237668   2792.224964   36346.776004  \n",
              "min         1.000000      12.000000      0.000000      15.000000  \n",
              "25%      4729.000000   19675.000000      0.000000    2869.000000  \n",
              "50%     19895.000000   47895.000000    694.000000    5269.000000  \n",
              "75%     54750.000000   97078.500000   2000.000000   13000.000000  \n",
              "max    535020.000000  983931.000000  50000.000000  896040.000000  "
            ],
            "text/html": [
              "\n",
              "  <div id=\"df-6df0af80-8ce3-4794-a800-8fa9389f91da\">\n",
              "    <div class=\"colab-df-container\">\n",
              "      <div>\n",
              "<style scoped>\n",
              "    .dataframe tbody tr th:only-of-type {\n",
              "        vertical-align: middle;\n",
              "    }\n",
              "\n",
              "    .dataframe tbody tr th {\n",
              "        vertical-align: top;\n",
              "    }\n",
              "\n",
              "    .dataframe thead th {\n",
              "        text-align: right;\n",
              "    }\n",
              "</style>\n",
              "<table border=\"1\" class=\"dataframe\">\n",
              "  <thead>\n",
              "    <tr style=\"text-align: right;\">\n",
              "      <th></th>\n",
              "      <th>limit_bal</th>\n",
              "      <th>age</th>\n",
              "      <th>pay_0</th>\n",
              "      <th>pay_6</th>\n",
              "      <th>default</th>\n",
              "      <th>bill_min</th>\n",
              "      <th>bill_max</th>\n",
              "      <th>pay_min</th>\n",
              "      <th>pay_max</th>\n",
              "    </tr>\n",
              "  </thead>\n",
              "  <tbody>\n",
              "    <tr>\n",
              "      <th>count</th>\n",
              "      <td>6583.000000</td>\n",
              "      <td>6583.000000</td>\n",
              "      <td>6583.000000</td>\n",
              "      <td>6583.000000</td>\n",
              "      <td>6583.000000</td>\n",
              "      <td>6583.000000</td>\n",
              "      <td>6583.000000</td>\n",
              "      <td>6583.000000</td>\n",
              "      <td>6583.000000</td>\n",
              "    </tr>\n",
              "    <tr>\n",
              "      <th>mean</th>\n",
              "      <td>164099.346802</td>\n",
              "      <td>35.312775</td>\n",
              "      <td>0.086890</td>\n",
              "      <td>0.019444</td>\n",
              "      <td>0.222239</td>\n",
              "      <td>43271.635728</td>\n",
              "      <td>74234.751025</td>\n",
              "      <td>1655.667781</td>\n",
              "      <td>16670.241531</td>\n",
              "    </tr>\n",
              "    <tr>\n",
              "      <th>std</th>\n",
              "      <td>132010.843539</td>\n",
              "      <td>9.278196</td>\n",
              "      <td>1.044898</td>\n",
              "      <td>0.937383</td>\n",
              "      <td>0.415783</td>\n",
              "      <td>60554.417384</td>\n",
              "      <td>83913.237668</td>\n",
              "      <td>2792.224964</td>\n",
              "      <td>36346.776004</td>\n",
              "    </tr>\n",
              "    <tr>\n",
              "      <th>min</th>\n",
              "      <td>10000.000000</td>\n",
              "      <td>21.000000</td>\n",
              "      <td>-2.000000</td>\n",
              "      <td>-2.000000</td>\n",
              "      <td>0.000000</td>\n",
              "      <td>1.000000</td>\n",
              "      <td>12.000000</td>\n",
              "      <td>0.000000</td>\n",
              "      <td>15.000000</td>\n",
              "    </tr>\n",
              "    <tr>\n",
              "      <th>25%</th>\n",
              "      <td>50000.000000</td>\n",
              "      <td>28.000000</td>\n",
              "      <td>0.000000</td>\n",
              "      <td>0.000000</td>\n",
              "      <td>0.000000</td>\n",
              "      <td>4729.000000</td>\n",
              "      <td>19675.000000</td>\n",
              "      <td>0.000000</td>\n",
              "      <td>2869.000000</td>\n",
              "    </tr>\n",
              "    <tr>\n",
              "      <th>50%</th>\n",
              "      <td>130000.000000</td>\n",
              "      <td>34.000000</td>\n",
              "      <td>0.000000</td>\n",
              "      <td>0.000000</td>\n",
              "      <td>0.000000</td>\n",
              "      <td>19895.000000</td>\n",
              "      <td>47895.000000</td>\n",
              "      <td>694.000000</td>\n",
              "      <td>5269.000000</td>\n",
              "    </tr>\n",
              "    <tr>\n",
              "      <th>75%</th>\n",
              "      <td>230000.000000</td>\n",
              "      <td>41.000000</td>\n",
              "      <td>0.000000</td>\n",
              "      <td>0.000000</td>\n",
              "      <td>0.000000</td>\n",
              "      <td>54750.000000</td>\n",
              "      <td>97078.500000</td>\n",
              "      <td>2000.000000</td>\n",
              "      <td>13000.000000</td>\n",
              "    </tr>\n",
              "    <tr>\n",
              "      <th>max</th>\n",
              "      <td>1000000.000000</td>\n",
              "      <td>79.000000</td>\n",
              "      <td>8.000000</td>\n",
              "      <td>6.000000</td>\n",
              "      <td>1.000000</td>\n",
              "      <td>535020.000000</td>\n",
              "      <td>983931.000000</td>\n",
              "      <td>50000.000000</td>\n",
              "      <td>896040.000000</td>\n",
              "    </tr>\n",
              "  </tbody>\n",
              "</table>\n",
              "</div>\n",
              "      <button class=\"colab-df-convert\" onclick=\"convertToInteractive('df-6df0af80-8ce3-4794-a800-8fa9389f91da')\"\n",
              "              title=\"Convert this dataframe to an interactive table.\"\n",
              "              style=\"display:none;\">\n",
              "        \n",
              "  <svg xmlns=\"http://www.w3.org/2000/svg\" height=\"24px\"viewBox=\"0 0 24 24\"\n",
              "       width=\"24px\">\n",
              "    <path d=\"M0 0h24v24H0V0z\" fill=\"none\"/>\n",
              "    <path d=\"M18.56 5.44l.94 2.06.94-2.06 2.06-.94-2.06-.94-.94-2.06-.94 2.06-2.06.94zm-11 1L8.5 8.5l.94-2.06 2.06-.94-2.06-.94L8.5 2.5l-.94 2.06-2.06.94zm10 10l.94 2.06.94-2.06 2.06-.94-2.06-.94-.94-2.06-.94 2.06-2.06.94z\"/><path d=\"M17.41 7.96l-1.37-1.37c-.4-.4-.92-.59-1.43-.59-.52 0-1.04.2-1.43.59L10.3 9.45l-7.72 7.72c-.78.78-.78 2.05 0 2.83L4 21.41c.39.39.9.59 1.41.59.51 0 1.02-.2 1.41-.59l7.78-7.78 2.81-2.81c.8-.78.8-2.07 0-2.86zM5.41 20L4 18.59l7.72-7.72 1.47 1.35L5.41 20z\"/>\n",
              "  </svg>\n",
              "      </button>\n",
              "      \n",
              "  <style>\n",
              "    .colab-df-container {\n",
              "      display:flex;\n",
              "      flex-wrap:wrap;\n",
              "      gap: 12px;\n",
              "    }\n",
              "\n",
              "    .colab-df-convert {\n",
              "      background-color: #E8F0FE;\n",
              "      border: none;\n",
              "      border-radius: 50%;\n",
              "      cursor: pointer;\n",
              "      display: none;\n",
              "      fill: #1967D2;\n",
              "      height: 32px;\n",
              "      padding: 0 0 0 0;\n",
              "      width: 32px;\n",
              "    }\n",
              "\n",
              "    .colab-df-convert:hover {\n",
              "      background-color: #E2EBFA;\n",
              "      box-shadow: 0px 1px 2px rgba(60, 64, 67, 0.3), 0px 1px 3px 1px rgba(60, 64, 67, 0.15);\n",
              "      fill: #174EA6;\n",
              "    }\n",
              "\n",
              "    [theme=dark] .colab-df-convert {\n",
              "      background-color: #3B4455;\n",
              "      fill: #D2E3FC;\n",
              "    }\n",
              "\n",
              "    [theme=dark] .colab-df-convert:hover {\n",
              "      background-color: #434B5C;\n",
              "      box-shadow: 0px 1px 3px 1px rgba(0, 0, 0, 0.15);\n",
              "      filter: drop-shadow(0px 1px 2px rgba(0, 0, 0, 0.3));\n",
              "      fill: #FFFFFF;\n",
              "    }\n",
              "  </style>\n",
              "\n",
              "      <script>\n",
              "        const buttonEl =\n",
              "          document.querySelector('#df-6df0af80-8ce3-4794-a800-8fa9389f91da button.colab-df-convert');\n",
              "        buttonEl.style.display =\n",
              "          google.colab.kernel.accessAllowed ? 'block' : 'none';\n",
              "\n",
              "        async function convertToInteractive(key) {\n",
              "          const element = document.querySelector('#df-6df0af80-8ce3-4794-a800-8fa9389f91da');\n",
              "          const dataTable =\n",
              "            await google.colab.kernel.invokeFunction('convertToInteractive',\n",
              "                                                     [key], {});\n",
              "          if (!dataTable) return;\n",
              "\n",
              "          const docLinkHtml = 'Like what you see? Visit the ' +\n",
              "            '<a target=\"_blank\" href=https://colab.research.google.com/notebooks/data_table.ipynb>data table notebook</a>'\n",
              "            + ' to learn more about interactive tables.';\n",
              "          element.innerHTML = '';\n",
              "          dataTable['output_type'] = 'display_data';\n",
              "          await google.colab.output.renderOutput(dataTable, element);\n",
              "          const docLink = document.createElement('div');\n",
              "          docLink.innerHTML = docLinkHtml;\n",
              "          element.appendChild(docLink);\n",
              "        }\n",
              "      </script>\n",
              "    </div>\n",
              "  </div>\n",
              "  "
            ]
          },
          "metadata": {},
          "execution_count": 218
        }
      ]
    },
    {
      "cell_type": "code",
      "source": [
        "# z X-u vyhodim 'default', protoze ten modeluji, a do y dam prave jen 'default'\n",
        "X_train = data_train.drop('default', axis=1)\n",
        "y_train = pd.DataFrame()\n",
        "y_train = data_train.default\n",
        "X_test = data_test.drop('default', axis=1)\n",
        "y_test = pd.DataFrame()\n",
        "y_test = data_test.default"
      ],
      "metadata": {
        "id": "jPxH0LDCBstd"
      },
      "id": "jPxH0LDCBstd",
      "execution_count": 219,
      "outputs": []
    },
    {
      "cell_type": "markdown",
      "source": [
        "(cast nize inspirovana ChatGPT)"
      ],
      "metadata": {
        "id": "aSP_1QfAPQlc"
      },
      "id": "aSP_1QfAPQlc"
    },
    {
      "cell_type": "code",
      "source": [
        "from sklearn.pipeline import Pipeline\n",
        "from sklearn.preprocessing import StandardScaler, OneHotEncoder\n",
        "from sklearn.linear_model import LogisticRegression\n",
        "from sklearn.model_selection import GridSearchCV, StratifiedKFold\n",
        "from sklearn.metrics import classification_report\n",
        "from sklearn.compose import ColumnTransformer"
      ],
      "metadata": {
        "id": "bKqmGTxMBPNb"
      },
      "id": "bKqmGTxMBPNb",
      "execution_count": 220,
      "outputs": []
    },
    {
      "cell_type": "code",
      "source": [
        "# Define the feature columns for preprocessing\n",
        "numeric_features = ['limit_bal', 'age']\n",
        "categorical_features = ['sex', 'education', 'marriage']\n",
        "\n",
        "# Create the preprocessing steps\n",
        "preprocessor = ColumnTransformer(\n",
        "    transformers=[\n",
        "        ('numeric', StandardScaler(), numeric_features),\n",
        "        ('categorical', OneHotEncoder(), categorical_features)\n",
        "    ])\n",
        "\n",
        "# Create the pipeline with preprocessing and logistic regression\n",
        "pipeline = Pipeline(steps=[\n",
        "    ('preprocessor', preprocessor),\n",
        "    ('classifier', LogisticRegression(penalty='elasticnet', solver='saga', max_iter=1000))\n",
        "])"
      ],
      "metadata": {
        "id": "6u5hpYg4DZt0"
      },
      "id": "6u5hpYg4DZt0",
      "execution_count": 221,
      "outputs": []
    },
    {
      "cell_type": "code",
      "source": [
        "# Define the hyperparameters grid for grid search\n",
        "param_grid = {\n",
        "    'classifier__C': [0.1, 1, 10],\n",
        "    'classifier__l1_ratio': [0.1, 0.5, 0.9]\n",
        "}\n",
        "\n",
        "# Perform k-fold cross-validation with grid search\n",
        "kfold = StratifiedKFold(n_splits=5)\n",
        "grid_search = GridSearchCV(pipeline, param_grid, cv=kfold, scoring='accuracy')\n",
        "grid_search.fit(data_train, y_train)"
      ],
      "metadata": {
        "colab": {
          "base_uri": "https://localhost:8080/",
          "height": 216
        },
        "id": "wpSoGQlq9IOh",
        "outputId": "b286947c-35f3-412d-94d1-46b0eb1655d4"
      },
      "id": "wpSoGQlq9IOh",
      "execution_count": 222,
      "outputs": [
        {
          "output_type": "execute_result",
          "data": {
            "text/plain": [
              "GridSearchCV(cv=StratifiedKFold(n_splits=5, random_state=None, shuffle=False),\n",
              "             estimator=Pipeline(steps=[('preprocessor',\n",
              "                                        ColumnTransformer(transformers=[('numeric',\n",
              "                                                                         StandardScaler(),\n",
              "                                                                         ['limit_bal',\n",
              "                                                                          'age']),\n",
              "                                                                        ('categorical',\n",
              "                                                                         OneHotEncoder(),\n",
              "                                                                         ['sex',\n",
              "                                                                          'education',\n",
              "                                                                          'marriage'])])),\n",
              "                                       ('classifier',\n",
              "                                        LogisticRegression(max_iter=1000,\n",
              "                                                           penalty='elasticnet',\n",
              "                                                           solver='saga'))]),\n",
              "             param_grid={'classifier__C': [0.1, 1, 10],\n",
              "                         'classifier__l1_ratio': [0.1, 0.5, 0.9]},\n",
              "             scoring='accuracy')"
            ],
            "text/html": [
              "<style>#sk-container-id-2 {color: black;background-color: white;}#sk-container-id-2 pre{padding: 0;}#sk-container-id-2 div.sk-toggleable {background-color: white;}#sk-container-id-2 label.sk-toggleable__label {cursor: pointer;display: block;width: 100%;margin-bottom: 0;padding: 0.3em;box-sizing: border-box;text-align: center;}#sk-container-id-2 label.sk-toggleable__label-arrow:before {content: \"▸\";float: left;margin-right: 0.25em;color: #696969;}#sk-container-id-2 label.sk-toggleable__label-arrow:hover:before {color: black;}#sk-container-id-2 div.sk-estimator:hover label.sk-toggleable__label-arrow:before {color: black;}#sk-container-id-2 div.sk-toggleable__content {max-height: 0;max-width: 0;overflow: hidden;text-align: left;background-color: #f0f8ff;}#sk-container-id-2 div.sk-toggleable__content pre {margin: 0.2em;color: black;border-radius: 0.25em;background-color: #f0f8ff;}#sk-container-id-2 input.sk-toggleable__control:checked~div.sk-toggleable__content {max-height: 200px;max-width: 100%;overflow: auto;}#sk-container-id-2 input.sk-toggleable__control:checked~label.sk-toggleable__label-arrow:before {content: \"▾\";}#sk-container-id-2 div.sk-estimator input.sk-toggleable__control:checked~label.sk-toggleable__label {background-color: #d4ebff;}#sk-container-id-2 div.sk-label input.sk-toggleable__control:checked~label.sk-toggleable__label {background-color: #d4ebff;}#sk-container-id-2 input.sk-hidden--visually {border: 0;clip: rect(1px 1px 1px 1px);clip: rect(1px, 1px, 1px, 1px);height: 1px;margin: -1px;overflow: hidden;padding: 0;position: absolute;width: 1px;}#sk-container-id-2 div.sk-estimator {font-family: monospace;background-color: #f0f8ff;border: 1px dotted black;border-radius: 0.25em;box-sizing: border-box;margin-bottom: 0.5em;}#sk-container-id-2 div.sk-estimator:hover {background-color: #d4ebff;}#sk-container-id-2 div.sk-parallel-item::after {content: \"\";width: 100%;border-bottom: 1px solid gray;flex-grow: 1;}#sk-container-id-2 div.sk-label:hover label.sk-toggleable__label {background-color: #d4ebff;}#sk-container-id-2 div.sk-serial::before {content: \"\";position: absolute;border-left: 1px solid gray;box-sizing: border-box;top: 0;bottom: 0;left: 50%;z-index: 0;}#sk-container-id-2 div.sk-serial {display: flex;flex-direction: column;align-items: center;background-color: white;padding-right: 0.2em;padding-left: 0.2em;position: relative;}#sk-container-id-2 div.sk-item {position: relative;z-index: 1;}#sk-container-id-2 div.sk-parallel {display: flex;align-items: stretch;justify-content: center;background-color: white;position: relative;}#sk-container-id-2 div.sk-item::before, #sk-container-id-2 div.sk-parallel-item::before {content: \"\";position: absolute;border-left: 1px solid gray;box-sizing: border-box;top: 0;bottom: 0;left: 50%;z-index: -1;}#sk-container-id-2 div.sk-parallel-item {display: flex;flex-direction: column;z-index: 1;position: relative;background-color: white;}#sk-container-id-2 div.sk-parallel-item:first-child::after {align-self: flex-end;width: 50%;}#sk-container-id-2 div.sk-parallel-item:last-child::after {align-self: flex-start;width: 50%;}#sk-container-id-2 div.sk-parallel-item:only-child::after {width: 0;}#sk-container-id-2 div.sk-dashed-wrapped {border: 1px dashed gray;margin: 0 0.4em 0.5em 0.4em;box-sizing: border-box;padding-bottom: 0.4em;background-color: white;}#sk-container-id-2 div.sk-label label {font-family: monospace;font-weight: bold;display: inline-block;line-height: 1.2em;}#sk-container-id-2 div.sk-label-container {text-align: center;}#sk-container-id-2 div.sk-container {/* jupyter's `normalize.less` sets `[hidden] { display: none; }` but bootstrap.min.css set `[hidden] { display: none !important; }` so we also need the `!important` here to be able to override the default hidden behavior on the sphinx rendered scikit-learn.org. See: https://github.com/scikit-learn/scikit-learn/issues/21755 */display: inline-block !important;position: relative;}#sk-container-id-2 div.sk-text-repr-fallback {display: none;}</style><div id=\"sk-container-id-2\" class=\"sk-top-container\"><div class=\"sk-text-repr-fallback\"><pre>GridSearchCV(cv=StratifiedKFold(n_splits=5, random_state=None, shuffle=False),\n",
              "             estimator=Pipeline(steps=[(&#x27;preprocessor&#x27;,\n",
              "                                        ColumnTransformer(transformers=[(&#x27;numeric&#x27;,\n",
              "                                                                         StandardScaler(),\n",
              "                                                                         [&#x27;limit_bal&#x27;,\n",
              "                                                                          &#x27;age&#x27;]),\n",
              "                                                                        (&#x27;categorical&#x27;,\n",
              "                                                                         OneHotEncoder(),\n",
              "                                                                         [&#x27;sex&#x27;,\n",
              "                                                                          &#x27;education&#x27;,\n",
              "                                                                          &#x27;marriage&#x27;])])),\n",
              "                                       (&#x27;classifier&#x27;,\n",
              "                                        LogisticRegression(max_iter=1000,\n",
              "                                                           penalty=&#x27;elasticnet&#x27;,\n",
              "                                                           solver=&#x27;saga&#x27;))]),\n",
              "             param_grid={&#x27;classifier__C&#x27;: [0.1, 1, 10],\n",
              "                         &#x27;classifier__l1_ratio&#x27;: [0.1, 0.5, 0.9]},\n",
              "             scoring=&#x27;accuracy&#x27;)</pre><b>In a Jupyter environment, please rerun this cell to show the HTML representation or trust the notebook. <br />On GitHub, the HTML representation is unable to render, please try loading this page with nbviewer.org.</b></div><div class=\"sk-container\" hidden><div class=\"sk-item sk-dashed-wrapped\"><div class=\"sk-label-container\"><div class=\"sk-label sk-toggleable\"><input class=\"sk-toggleable__control sk-hidden--visually\" id=\"sk-estimator-id-9\" type=\"checkbox\" ><label for=\"sk-estimator-id-9\" class=\"sk-toggleable__label sk-toggleable__label-arrow\">GridSearchCV</label><div class=\"sk-toggleable__content\"><pre>GridSearchCV(cv=StratifiedKFold(n_splits=5, random_state=None, shuffle=False),\n",
              "             estimator=Pipeline(steps=[(&#x27;preprocessor&#x27;,\n",
              "                                        ColumnTransformer(transformers=[(&#x27;numeric&#x27;,\n",
              "                                                                         StandardScaler(),\n",
              "                                                                         [&#x27;limit_bal&#x27;,\n",
              "                                                                          &#x27;age&#x27;]),\n",
              "                                                                        (&#x27;categorical&#x27;,\n",
              "                                                                         OneHotEncoder(),\n",
              "                                                                         [&#x27;sex&#x27;,\n",
              "                                                                          &#x27;education&#x27;,\n",
              "                                                                          &#x27;marriage&#x27;])])),\n",
              "                                       (&#x27;classifier&#x27;,\n",
              "                                        LogisticRegression(max_iter=1000,\n",
              "                                                           penalty=&#x27;elasticnet&#x27;,\n",
              "                                                           solver=&#x27;saga&#x27;))]),\n",
              "             param_grid={&#x27;classifier__C&#x27;: [0.1, 1, 10],\n",
              "                         &#x27;classifier__l1_ratio&#x27;: [0.1, 0.5, 0.9]},\n",
              "             scoring=&#x27;accuracy&#x27;)</pre></div></div></div><div class=\"sk-parallel\"><div class=\"sk-parallel-item\"><div class=\"sk-item\"><div class=\"sk-label-container\"><div class=\"sk-label sk-toggleable\"><input class=\"sk-toggleable__control sk-hidden--visually\" id=\"sk-estimator-id-10\" type=\"checkbox\" ><label for=\"sk-estimator-id-10\" class=\"sk-toggleable__label sk-toggleable__label-arrow\">estimator: Pipeline</label><div class=\"sk-toggleable__content\"><pre>Pipeline(steps=[(&#x27;preprocessor&#x27;,\n",
              "                 ColumnTransformer(transformers=[(&#x27;numeric&#x27;, StandardScaler(),\n",
              "                                                  [&#x27;limit_bal&#x27;, &#x27;age&#x27;]),\n",
              "                                                 (&#x27;categorical&#x27;,\n",
              "                                                  OneHotEncoder(),\n",
              "                                                  [&#x27;sex&#x27;, &#x27;education&#x27;,\n",
              "                                                   &#x27;marriage&#x27;])])),\n",
              "                (&#x27;classifier&#x27;,\n",
              "                 LogisticRegression(max_iter=1000, penalty=&#x27;elasticnet&#x27;,\n",
              "                                    solver=&#x27;saga&#x27;))])</pre></div></div></div><div class=\"sk-serial\"><div class=\"sk-item\"><div class=\"sk-serial\"><div class=\"sk-item sk-dashed-wrapped\"><div class=\"sk-label-container\"><div class=\"sk-label sk-toggleable\"><input class=\"sk-toggleable__control sk-hidden--visually\" id=\"sk-estimator-id-11\" type=\"checkbox\" ><label for=\"sk-estimator-id-11\" class=\"sk-toggleable__label sk-toggleable__label-arrow\">preprocessor: ColumnTransformer</label><div class=\"sk-toggleable__content\"><pre>ColumnTransformer(transformers=[(&#x27;numeric&#x27;, StandardScaler(),\n",
              "                                 [&#x27;limit_bal&#x27;, &#x27;age&#x27;]),\n",
              "                                (&#x27;categorical&#x27;, OneHotEncoder(),\n",
              "                                 [&#x27;sex&#x27;, &#x27;education&#x27;, &#x27;marriage&#x27;])])</pre></div></div></div><div class=\"sk-parallel\"><div class=\"sk-parallel-item\"><div class=\"sk-item\"><div class=\"sk-label-container\"><div class=\"sk-label sk-toggleable\"><input class=\"sk-toggleable__control sk-hidden--visually\" id=\"sk-estimator-id-12\" type=\"checkbox\" ><label for=\"sk-estimator-id-12\" class=\"sk-toggleable__label sk-toggleable__label-arrow\">numeric</label><div class=\"sk-toggleable__content\"><pre>[&#x27;limit_bal&#x27;, &#x27;age&#x27;]</pre></div></div></div><div class=\"sk-serial\"><div class=\"sk-item\"><div class=\"sk-estimator sk-toggleable\"><input class=\"sk-toggleable__control sk-hidden--visually\" id=\"sk-estimator-id-13\" type=\"checkbox\" ><label for=\"sk-estimator-id-13\" class=\"sk-toggleable__label sk-toggleable__label-arrow\">StandardScaler</label><div class=\"sk-toggleable__content\"><pre>StandardScaler()</pre></div></div></div></div></div></div><div class=\"sk-parallel-item\"><div class=\"sk-item\"><div class=\"sk-label-container\"><div class=\"sk-label sk-toggleable\"><input class=\"sk-toggleable__control sk-hidden--visually\" id=\"sk-estimator-id-14\" type=\"checkbox\" ><label for=\"sk-estimator-id-14\" class=\"sk-toggleable__label sk-toggleable__label-arrow\">categorical</label><div class=\"sk-toggleable__content\"><pre>[&#x27;sex&#x27;, &#x27;education&#x27;, &#x27;marriage&#x27;]</pre></div></div></div><div class=\"sk-serial\"><div class=\"sk-item\"><div class=\"sk-estimator sk-toggleable\"><input class=\"sk-toggleable__control sk-hidden--visually\" id=\"sk-estimator-id-15\" type=\"checkbox\" ><label for=\"sk-estimator-id-15\" class=\"sk-toggleable__label sk-toggleable__label-arrow\">OneHotEncoder</label><div class=\"sk-toggleable__content\"><pre>OneHotEncoder()</pre></div></div></div></div></div></div></div></div><div class=\"sk-item\"><div class=\"sk-estimator sk-toggleable\"><input class=\"sk-toggleable__control sk-hidden--visually\" id=\"sk-estimator-id-16\" type=\"checkbox\" ><label for=\"sk-estimator-id-16\" class=\"sk-toggleable__label sk-toggleable__label-arrow\">LogisticRegression</label><div class=\"sk-toggleable__content\"><pre>LogisticRegression(max_iter=1000, penalty=&#x27;elasticnet&#x27;, solver=&#x27;saga&#x27;)</pre></div></div></div></div></div></div></div></div></div></div></div></div>"
            ]
          },
          "metadata": {},
          "execution_count": 222
        }
      ]
    },
    {
      "cell_type": "code",
      "source": [
        "# Get the best model and its performance on the test set\n",
        "best_model = grid_search.best_estimator_\n",
        "y_pred = best_model.predict(X_test)"
      ],
      "metadata": {
        "id": "aFow9rIt9IL7"
      },
      "id": "aFow9rIt9IL7",
      "execution_count": 223,
      "outputs": []
    },
    {
      "cell_type": "code",
      "source": [
        "print(classification_report(y_test, y_pred))"
      ],
      "metadata": {
        "colab": {
          "base_uri": "https://localhost:8080/"
        },
        "id": "vQ8JSjQhIrpD",
        "outputId": "fb54fd8d-c681-42d6-918a-c4718ce9a991"
      },
      "id": "vQ8JSjQhIrpD",
      "execution_count": 224,
      "outputs": [
        {
          "output_type": "stream",
          "name": "stdout",
          "text": [
            "              precision    recall  f1-score   support\n",
            "\n",
            "           0       0.78      1.00      0.87      5120\n",
            "           1       0.00      0.00      0.00      1463\n",
            "\n",
            "    accuracy                           0.78      6583\n",
            "   macro avg       0.39      0.50      0.44      6583\n",
            "weighted avg       0.60      0.78      0.68      6583\n",
            "\n"
          ]
        },
        {
          "output_type": "stream",
          "name": "stderr",
          "text": [
            "/usr/local/lib/python3.10/dist-packages/sklearn/metrics/_classification.py:1344: UndefinedMetricWarning: Precision and F-score are ill-defined and being set to 0.0 in labels with no predicted samples. Use `zero_division` parameter to control this behavior.\n",
            "  _warn_prf(average, modifier, msg_start, len(result))\n",
            "/usr/local/lib/python3.10/dist-packages/sklearn/metrics/_classification.py:1344: UndefinedMetricWarning: Precision and F-score are ill-defined and being set to 0.0 in labels with no predicted samples. Use `zero_division` parameter to control this behavior.\n",
            "  _warn_prf(average, modifier, msg_start, len(result))\n",
            "/usr/local/lib/python3.10/dist-packages/sklearn/metrics/_classification.py:1344: UndefinedMetricWarning: Precision and F-score are ill-defined and being set to 0.0 in labels with no predicted samples. Use `zero_division` parameter to control this behavior.\n",
            "  _warn_prf(average, modifier, msg_start, len(result))\n"
          ]
        }
      ]
    },
    {
      "cell_type": "code",
      "source": [
        "from sklearn.metrics import roc_curve, auc\n",
        "\n",
        "# Get the predicted probabilities for the positive class\n",
        "y_prob = best_model.predict_proba(X_test)[:, 1]\n",
        "\n",
        "# Compute the false positive rate, true positive rate, and thresholds\n",
        "false_positive_rate, true_positive_rate, thresholds = roc_curve(y_test, y_prob)\n",
        "\n",
        "# Compute the area under the ROC curve (AUC)\n",
        "roc_auc = auc(false_positive_rate, true_positive_rate)\n",
        "\n",
        "# Plot the ROC curve\n",
        "plt.figure(figsize=(8, 6), dpi=500)\n",
        "plt.plot(false_positive_rate, true_positive_rate, label='ROC curve (AUC = %0.2f)' % roc_auc)\n",
        "plt.plot([0, 1], [0, 1], linestyle='--', color='r', label='Random')\n",
        "plt.xlim([0.0, 1.0])\n",
        "plt.ylim([0.0, 1.05])\n",
        "plt.xlabel('False Positive Rate')\n",
        "plt.ylabel('True Positive Rate')\n",
        "plt.title('Receiver Operating Characteristic (ROC) Curve')\n",
        "plt.legend(loc='lower right')\n",
        "plt.grid()\n",
        "plt.show()\n"
      ],
      "metadata": {
        "colab": {
          "base_uri": "https://localhost:8080/",
          "height": 597
        },
        "id": "35xex1eBRLZg",
        "outputId": "72754747-671b-43a8-e336-f02b9ad328b2"
      },
      "id": "35xex1eBRLZg",
      "execution_count": 225,
      "outputs": [
        {
          "output_type": "display_data",
          "data": {
            "text/plain": [
              "<Figure size 4000x3000 with 1 Axes>"
            ],
            "image/png": "[encoded data removed]"
          },
          "metadata": {}
        }
      ]
    },
    {
      "cell_type": "markdown",
      "source": [
        "end of task 05"
      ],
      "metadata": {
        "id": "38VZ9HmWOe7B"
      },
      "id": "38VZ9HmWOe7B"
    },
    {
      "cell_type": "code",
      "source": [],
      "metadata": {
        "id": "cZB4sS3MOepu"
      },
      "id": "cZB4sS3MOepu",
      "execution_count": 225,
      "outputs": []
    },
    {
      "cell_type": "markdown",
      "source": [
        "Dostavame varovani, zkusme zmenit metriku:"
      ],
      "metadata": {
        "id": "kBe4oxs4J1Gp"
      },
      "id": "kBe4oxs4J1Gp"
    },
    {
      "cell_type": "code",
      "source": [
        "from sklearn.metrics import roc_auc_score\n",
        "\n",
        "# Define the scoring metric\n",
        "scoring_metric = 'roc_auc'\n",
        "\n",
        "# Create the GridSearchCV object with the updated scoring metric\n",
        "grid_search = GridSearchCV(pipeline, param_grid, cv=kfold, scoring=scoring_metric)\n",
        "\n",
        "# Fit the GridSearchCV object to the training data\n",
        "grid_search.fit(X_train, y_train)\n",
        "\n",
        "# Get the best model and its performance on the test set\n",
        "best_model = grid_search.best_estimator_\n",
        "y_pred = best_model.predict(X_test)\n",
        "\n",
        "# Compute the AUC-ROC score\n",
        "auc_roc = roc_auc_score(y_test, y_pred)\n",
        "print(\"AUC-ROC score:\", auc_roc)"
      ],
      "metadata": {
        "colab": {
          "base_uri": "https://localhost:8080/"
        },
        "id": "5cZhrzfwJrTV",
        "outputId": "d6e9fb7c-ce0c-4c58-b502-af1a34f54ef4"
      },
      "id": "5cZhrzfwJrTV",
      "execution_count": 226,
      "outputs": [
        {
          "output_type": "stream",
          "name": "stdout",
          "text": [
            "AUC-ROC score: 0.5\n"
          ]
        }
      ]
    },
    {
      "cell_type": "code",
      "source": [],
      "metadata": {
        "id": "j-uQHR3xIre7"
      },
      "id": "j-uQHR3xIre7",
      "execution_count": 226,
      "outputs": []
    },
    {
      "cell_type": "markdown",
      "id": "9828b86a-fac3-42c6-88e0-bf0103d2d4d3",
      "metadata": {
        "id": "9828b86a-fac3-42c6-88e0-bf0103d2d4d3"
      },
      "source": [
        "## Poznámky k odevzdání a vypracování\n",
        "\n",
        "* Úkol vypracujte ve skupině. Pokud se budete s někým radit mimo skupinu, nezapomeňte u dané odpovědi uvést zdroj vašich informací.\n",
        "\n",
        "* Úkol můžete odevzdávat jako spustitelný jupyter notebook na google colab (stačí odevzdat link na github). Před odevzdáním ZKONTROLUJTE, že buňky na sebe navazují a že lze NB postupně projít a jednotlivé buňky nezahlásí chybu.\n",
        "\n",
        "* Deadline pro odevzdání je stanoven na sředu 21.6.2023.\n",
        "\n",
        "* Není možno odevzdání opakovat. Odevzdaný úkol zkontroluji a buď zápočet získáte, nebo ne. Je vyžadováno mít alespoň 75% úkolů správně.\n",
        "\n",
        "* V případě otázek se ptejte veřejně v general kanále v MS Teams. Ostatní mohou mít podobné problémy a tudíž pokud je někde například nejasné zadání, tak ať mají všichni stejnou příležitost.\n",
        "\n",
        "* Možno psát a odevzdat v Pythonu."
      ]
    }
  ],
  "metadata": {
    "kernelspec": {
      "display_name": "Python 3 (ipykernel)",
      "language": "python",
      "name": "python3"
    },
    "language_info": {
      "codemirror_mode": {
        "name": "ipython",
        "version": 3
      },
      "file_extension": ".py",
      "mimetype": "text/x-python",
      "name": "python",
      "nbconvert_exporter": "python",
      "pygments_lexer": "ipython3",
      "version": "3.11.3"
    },
    "colab": {
      "provenance": [],
      "history_visible": true,
      "toc_visible": true,
      "include_colab_link": true
    }
  },
  "nbformat": 4,
  "nbformat_minor": 5
}